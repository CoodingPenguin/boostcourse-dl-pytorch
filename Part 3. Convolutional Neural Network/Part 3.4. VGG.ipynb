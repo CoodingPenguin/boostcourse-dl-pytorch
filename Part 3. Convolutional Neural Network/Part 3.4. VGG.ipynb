{
  "nbformat": 4,
  "nbformat_minor": 0,
  "metadata": {
    "colab": {
      "name": "Part 3.4. VGG.ipynb",
      "provenance": []
    },
    "kernelspec": {
      "name": "python3",
      "display_name": "Python 3"
    },
    "accelerator": "GPU",
    "widgets": {
      "application/vnd.jupyter.widget-state+json": {
        "1aedd1830435426d90f326bf4e7c98c8": {
          "model_module": "@jupyter-widgets/controls",
          "model_name": "HBoxModel",
          "state": {
            "_view_name": "HBoxView",
            "_dom_classes": [],
            "_model_name": "HBoxModel",
            "_view_module": "@jupyter-widgets/controls",
            "_model_module_version": "1.5.0",
            "_view_count": null,
            "_view_module_version": "1.5.0",
            "box_style": "",
            "layout": "IPY_MODEL_2a24d0f6d62d472d9bd695e7dbc37375",
            "_model_module": "@jupyter-widgets/controls",
            "children": [
              "IPY_MODEL_403bbe02511a4dd8a7e1e7ba86c14b45",
              "IPY_MODEL_5c5e8a5182704f6a827ad34551bf8b2e"
            ]
          }
        },
        "2a24d0f6d62d472d9bd695e7dbc37375": {
          "model_module": "@jupyter-widgets/base",
          "model_name": "LayoutModel",
          "state": {
            "_view_name": "LayoutView",
            "grid_template_rows": null,
            "right": null,
            "justify_content": null,
            "_view_module": "@jupyter-widgets/base",
            "overflow": null,
            "_model_module_version": "1.2.0",
            "_view_count": null,
            "flex_flow": null,
            "width": null,
            "min_width": null,
            "border": null,
            "align_items": null,
            "bottom": null,
            "_model_module": "@jupyter-widgets/base",
            "top": null,
            "grid_column": null,
            "overflow_y": null,
            "overflow_x": null,
            "grid_auto_flow": null,
            "grid_area": null,
            "grid_template_columns": null,
            "flex": null,
            "_model_name": "LayoutModel",
            "justify_items": null,
            "grid_row": null,
            "max_height": null,
            "align_content": null,
            "visibility": null,
            "align_self": null,
            "height": null,
            "min_height": null,
            "padding": null,
            "grid_auto_rows": null,
            "grid_gap": null,
            "max_width": null,
            "order": null,
            "_view_module_version": "1.2.0",
            "grid_template_areas": null,
            "object_position": null,
            "object_fit": null,
            "grid_auto_columns": null,
            "margin": null,
            "display": null,
            "left": null
          }
        },
        "403bbe02511a4dd8a7e1e7ba86c14b45": {
          "model_module": "@jupyter-widgets/controls",
          "model_name": "IntProgressModel",
          "state": {
            "_view_name": "ProgressView",
            "style": "IPY_MODEL_3799df10d789420d941f93beff1ce08f",
            "_dom_classes": [],
            "description": "",
            "_model_name": "IntProgressModel",
            "bar_style": "success",
            "max": 1,
            "_view_module": "@jupyter-widgets/controls",
            "_model_module_version": "1.5.0",
            "value": 1,
            "_view_count": null,
            "_view_module_version": "1.5.0",
            "orientation": "horizontal",
            "min": 0,
            "description_tooltip": null,
            "_model_module": "@jupyter-widgets/controls",
            "layout": "IPY_MODEL_ece898719b15482991eefa99dfc93eec"
          }
        },
        "5c5e8a5182704f6a827ad34551bf8b2e": {
          "model_module": "@jupyter-widgets/controls",
          "model_name": "HTMLModel",
          "state": {
            "_view_name": "HTMLView",
            "style": "IPY_MODEL_8fcd49e740bb4de088b34c22e9f5e7d7",
            "_dom_classes": [],
            "description": "",
            "_model_name": "HTMLModel",
            "placeholder": "​",
            "_view_module": "@jupyter-widgets/controls",
            "_model_module_version": "1.5.0",
            "value": "170500096it [00:06, 26812264.37it/s]",
            "_view_count": null,
            "_view_module_version": "1.5.0",
            "description_tooltip": null,
            "_model_module": "@jupyter-widgets/controls",
            "layout": "IPY_MODEL_3ce97dd913224e3eaacee5f2033c8fcd"
          }
        },
        "3799df10d789420d941f93beff1ce08f": {
          "model_module": "@jupyter-widgets/controls",
          "model_name": "ProgressStyleModel",
          "state": {
            "_view_name": "StyleView",
            "_model_name": "ProgressStyleModel",
            "description_width": "",
            "_view_module": "@jupyter-widgets/base",
            "_model_module_version": "1.5.0",
            "_view_count": null,
            "_view_module_version": "1.2.0",
            "bar_color": null,
            "_model_module": "@jupyter-widgets/controls"
          }
        },
        "ece898719b15482991eefa99dfc93eec": {
          "model_module": "@jupyter-widgets/base",
          "model_name": "LayoutModel",
          "state": {
            "_view_name": "LayoutView",
            "grid_template_rows": null,
            "right": null,
            "justify_content": null,
            "_view_module": "@jupyter-widgets/base",
            "overflow": null,
            "_model_module_version": "1.2.0",
            "_view_count": null,
            "flex_flow": null,
            "width": null,
            "min_width": null,
            "border": null,
            "align_items": null,
            "bottom": null,
            "_model_module": "@jupyter-widgets/base",
            "top": null,
            "grid_column": null,
            "overflow_y": null,
            "overflow_x": null,
            "grid_auto_flow": null,
            "grid_area": null,
            "grid_template_columns": null,
            "flex": null,
            "_model_name": "LayoutModel",
            "justify_items": null,
            "grid_row": null,
            "max_height": null,
            "align_content": null,
            "visibility": null,
            "align_self": null,
            "height": null,
            "min_height": null,
            "padding": null,
            "grid_auto_rows": null,
            "grid_gap": null,
            "max_width": null,
            "order": null,
            "_view_module_version": "1.2.0",
            "grid_template_areas": null,
            "object_position": null,
            "object_fit": null,
            "grid_auto_columns": null,
            "margin": null,
            "display": null,
            "left": null
          }
        },
        "8fcd49e740bb4de088b34c22e9f5e7d7": {
          "model_module": "@jupyter-widgets/controls",
          "model_name": "DescriptionStyleModel",
          "state": {
            "_view_name": "StyleView",
            "_model_name": "DescriptionStyleModel",
            "description_width": "",
            "_view_module": "@jupyter-widgets/base",
            "_model_module_version": "1.5.0",
            "_view_count": null,
            "_view_module_version": "1.2.0",
            "_model_module": "@jupyter-widgets/controls"
          }
        },
        "3ce97dd913224e3eaacee5f2033c8fcd": {
          "model_module": "@jupyter-widgets/base",
          "model_name": "LayoutModel",
          "state": {
            "_view_name": "LayoutView",
            "grid_template_rows": null,
            "right": null,
            "justify_content": null,
            "_view_module": "@jupyter-widgets/base",
            "overflow": null,
            "_model_module_version": "1.2.0",
            "_view_count": null,
            "flex_flow": null,
            "width": null,
            "min_width": null,
            "border": null,
            "align_items": null,
            "bottom": null,
            "_model_module": "@jupyter-widgets/base",
            "top": null,
            "grid_column": null,
            "overflow_y": null,
            "overflow_x": null,
            "grid_auto_flow": null,
            "grid_area": null,
            "grid_template_columns": null,
            "flex": null,
            "_model_name": "LayoutModel",
            "justify_items": null,
            "grid_row": null,
            "max_height": null,
            "align_content": null,
            "visibility": null,
            "align_self": null,
            "height": null,
            "min_height": null,
            "padding": null,
            "grid_auto_rows": null,
            "grid_gap": null,
            "max_width": null,
            "order": null,
            "_view_module_version": "1.2.0",
            "grid_template_areas": null,
            "object_position": null,
            "object_fit": null,
            "grid_auto_columns": null,
            "margin": null,
            "display": null,
            "left": null
          }
        }
      }
    }
  },
  "cells": [
    {
      "cell_type": "markdown",
      "metadata": {
        "id": "f82qeZjBSV2x",
        "colab_type": "text"
      },
      "source": [
        "# Part 3.4. VGG"
      ]
    },
    {
      "cell_type": "markdown",
      "metadata": {
        "id": "JmhdcIeZWYhW",
        "colab_type": "text"
      },
      "source": [
        "## 1. VGG Net\n",
        "Oxford VGG(Visual Geometry Group)에서 만든 네트워크이다. 아래 표처럼 다양하다.\n",
        "\n",
        "![14-1.png](./img/14-1.png)\n",
        "\n",
        "VGG의 `conv layer`는 모두 `3x3` 그리고 `stride=1`로 되어 있다.\n",
        "\n",
        "![14-2.png](./img/14-2.png)"
      ]
    },
    {
      "cell_type": "markdown",
      "metadata": {
        "id": "UvpHdLJUXuMX",
        "colab_type": "text"
      },
      "source": [
        "## 2. 모델 구현"
      ]
    },
    {
      "cell_type": "code",
      "metadata": {
        "id": "QgmoYwT8R5mk",
        "colab_type": "code",
        "colab": {}
      },
      "source": [
        "import torch.nn as nn\n",
        "import torch.utils.model_zoo as model_zoo"
      ],
      "execution_count": 0,
      "outputs": []
    },
    {
      "cell_type": "code",
      "metadata": {
        "id": "mPY6D2DVXy1e",
        "colab_type": "code",
        "colab": {}
      },
      "source": [
        "__all__ = [\n",
        "    'VGG', 'vgg11', 'vgg11_bn', 'vgg13', 'vgg13_bn', 'vgg16', 'vgg16_bn',\n",
        "    'vgg19_bn', 'vgg19',\n",
        "]\n",
        "\n",
        "# 이미 pretraining된 모델들\n",
        "model_urls = {\n",
        "    'vgg11': 'https://download.pytorch.org/models/vgg11-bbd30ac9.pth',\n",
        "    'vgg13': 'https://download.pytorch.org/models/vgg13-c768596a.pth',\n",
        "    'vgg16': 'https://download.pytorch.org/models/vgg16-397923af.pth',\n",
        "    'vgg19': 'https://download.pytorch.org/models/vgg19-dcbb9e9d.pth',\n",
        "    'vgg11_bn': 'https://download.pytorch.org/models/vgg11_bn-6002323d.pth',\n",
        "    'vgg13_bn': 'https://download.pytorch.org/models/vgg13_bn-abd245e5.pth',\n",
        "    'vgg16_bn': 'https://download.pytorch.org/models/vgg16_bn-6c64b313.pth',\n",
        "    'vgg19_bn': 'https://download.pytorch.org/models/vgg19_bn-c79401a0.pth',\n",
        "}"
      ],
      "execution_count": 0,
      "outputs": []
    },
    {
      "cell_type": "code",
      "metadata": {
        "id": "x1EP4xh3X9O5",
        "colab_type": "code",
        "colab": {}
      },
      "source": [
        "# VGG 모듈\n",
        "class VGG(nn.Module):\n",
        "    def __init__(self, features, num_classes=1000, init_weights=True):\n",
        "        super(VGG, self).__init__()\n",
        "        \n",
        "        # convolution layer\n",
        "        self.features = features \n",
        "        # pooling layer\n",
        "        # self.avgpool = nn.AdaptiveAvgPool2d((7, 7))\n",
        "        # fc layer\n",
        "        self.classifier = nn.Sequential(\n",
        "            nn.Linear(512 * 4 * 4, 4096),\n",
        "            nn.ReLU(True),\n",
        "            nn.Dropout(),\n",
        "            nn.Linear(4096, 4096),\n",
        "            nn.ReLU(True),\n",
        "            nn.Dropout(),\n",
        "            nn.Linear(4096, num_classes),\n",
        "        )\n",
        "        \n",
        "        # weight initialization\n",
        "        if init_weights:\n",
        "            self._initialize_weights()\n",
        "\n",
        "    def forward(self, x):\n",
        "        x = self.features(x)        # convolution layer\n",
        "        # x = self.avgpool(x)       # avgpool layer\n",
        "        x = x.view(x.size(0), -1)   # flattening\n",
        "        x = self.classifier(x)      # fc layer\n",
        "        return x\n",
        "\n",
        "    def _initialize_weights(self):\n",
        "        # 각 layer마다의 weight값들을 맞추어서 초기화\n",
        "        for m in self.modules():\n",
        "            if isinstance(m, nn.Conv2d):\n",
        "                nn.init.kaiming_normal_(m.weight, mode='fan_out', nonlinearity='relu')\n",
        "                if m.bias is not None:\n",
        "                    nn.init.constant_(m.bias, 0)\n",
        "            elif isinstance(m, nn.BatchNorm2d):\n",
        "                nn.init.constant_(m.weight, 1)\n",
        "                nn.init.constant_(m.bias, 0)\n",
        "            elif isinstance(m, nn.Linear):\n",
        "                nn.init.normal_(m.weight, 0, 0.01)\n",
        "                nn.init.constant_(m.bias, 0)"
      ],
      "execution_count": 0,
      "outputs": []
    },
    {
      "cell_type": "code",
      "metadata": {
        "id": "MQyapwGiY5rl",
        "colab_type": "code",
        "colab": {}
      },
      "source": [
        "# cfg의 key값에 따라 layer를 생성해주는 함수\n",
        "def make_layers(cfg, batch_norm=False):\n",
        "    layers = []\n",
        "    in_channels = 3\n",
        "    \n",
        "    for v in cfg:\n",
        "        if v == 'M':\n",
        "            layers += [nn.MaxPool2d(kernel_size=2, stride=2)]\n",
        "        else:\n",
        "            conv2d = nn.Conv2d(in_channels, v, kernel_size=3, padding=1)\n",
        "            if batch_norm:\n",
        "                layers += [conv2d, nn.BatchNorm2d(v), nn.ReLU(inplace=True)]\n",
        "            else:\n",
        "                layers += [conv2d, nn.ReLU(inplace=True)]\n",
        "            \n",
        "            # 다음 layer를 위해 input channel 업데이트\n",
        "            in_channels = v   \n",
        "                     \n",
        "    return nn.Sequential(*layers)"
      ],
      "execution_count": 0,
      "outputs": []
    },
    {
      "cell_type": "code",
      "metadata": {
        "id": "crv5MfMIY77I",
        "colab_type": "code",
        "colab": {}
      },
      "source": [
        "cfg = {                                                                                                           # conv + fc\n",
        "    'A': [64, 'M', 128, 'M', 256, 256, 'M', 512, 512, 'M', 512, 512, 'M'],                                        # 8 + 3 = vgg11\n",
        "    'B': [64, 64, 'M', 128, 128, 'M', 256, 256, 'M', 512, 512, 'M', 512, 512, 'M'],                               # 10 + 3 = vgg 13\n",
        "    'D': [64, 64, 'M', 128, 128, 'M', 256, 256, 256, 'M', 512, 512, 512, 'M', 512, 512, 512, 'M'],                # 13 + 3 = vgg 16\n",
        "    'E': [64, 64, 'M', 128, 128, 'M', 256, 256, 256, 256, 'M', 512, 512, 512, 512, 'M', 512, 512, 512, 512, 'M'], # 16 + 3 =vgg 19\n",
        "    'custom' : [64, 64, 64,'M',128, 128, 128,'M',256, 256, 256,'M']\n",
        "}"
      ],
      "execution_count": 0,
      "outputs": []
    },
    {
      "cell_type": "code",
      "metadata": {
        "id": "1Mo1m7pBZpCE",
        "colab_type": "code",
        "colab": {
          "base_uri": "https://localhost:8080/",
          "height": 647
        },
        "outputId": "fd983813-9f1c-4d03-928c-5a7e081bb297"
      },
      "source": [
        "CNN = VGG(make_layers(cfg['custom']), num_classes=10, init_weights=True)\n",
        "print(CNN)"
      ],
      "execution_count": 8,
      "outputs": [
        {
          "output_type": "stream",
          "text": [
            "VGG(\n",
            "  (features): Sequential(\n",
            "    (0): Conv2d(3, 64, kernel_size=(3, 3), stride=(1, 1), padding=(1, 1))\n",
            "    (1): ReLU(inplace=True)\n",
            "    (2): Conv2d(64, 64, kernel_size=(3, 3), stride=(1, 1), padding=(1, 1))\n",
            "    (3): ReLU(inplace=True)\n",
            "    (4): Conv2d(64, 64, kernel_size=(3, 3), stride=(1, 1), padding=(1, 1))\n",
            "    (5): ReLU(inplace=True)\n",
            "    (6): MaxPool2d(kernel_size=2, stride=2, padding=0, dilation=1, ceil_mode=False)\n",
            "    (7): Conv2d(64, 128, kernel_size=(3, 3), stride=(1, 1), padding=(1, 1))\n",
            "    (8): ReLU(inplace=True)\n",
            "    (9): Conv2d(128, 128, kernel_size=(3, 3), stride=(1, 1), padding=(1, 1))\n",
            "    (10): ReLU(inplace=True)\n",
            "    (11): Conv2d(128, 128, kernel_size=(3, 3), stride=(1, 1), padding=(1, 1))\n",
            "    (12): ReLU(inplace=True)\n",
            "    (13): MaxPool2d(kernel_size=2, stride=2, padding=0, dilation=1, ceil_mode=False)\n",
            "    (14): Conv2d(128, 256, kernel_size=(3, 3), stride=(1, 1), padding=(1, 1))\n",
            "    (15): ReLU(inplace=True)\n",
            "    (16): Conv2d(256, 256, kernel_size=(3, 3), stride=(1, 1), padding=(1, 1))\n",
            "    (17): ReLU(inplace=True)\n",
            "    (18): Conv2d(256, 256, kernel_size=(3, 3), stride=(1, 1), padding=(1, 1))\n",
            "    (19): ReLU(inplace=True)\n",
            "    (20): MaxPool2d(kernel_size=2, stride=2, padding=0, dilation=1, ceil_mode=False)\n",
            "  )\n",
            "  (avgpool): AdaptiveAvgPool2d(output_size=(7, 7))\n",
            "  (classifier): Sequential(\n",
            "    (0): Linear(in_features=25088, out_features=4096, bias=True)\n",
            "    (1): ReLU(inplace=True)\n",
            "    (2): Dropout(p=0.5, inplace=False)\n",
            "    (3): Linear(in_features=4096, out_features=4096, bias=True)\n",
            "    (4): ReLU(inplace=True)\n",
            "    (5): Dropout(p=0.5, inplace=False)\n",
            "    (6): Linear(in_features=4096, out_features=10, bias=True)\n",
            "  )\n",
            ")\n"
          ],
          "name": "stdout"
        }
      ]
    },
    {
      "cell_type": "markdown",
      "metadata": {
        "id": "uTuCLih6a4Vk",
        "colab_type": "text"
      },
      "source": [
        "## 3. CIFAR10 Example"
      ]
    },
    {
      "cell_type": "markdown",
      "metadata": {
        "id": "2xmArp6zbq59",
        "colab_type": "text"
      },
      "source": [
        "### 3.1. 모듈 임포트 및 GPU 설정"
      ]
    },
    {
      "cell_type": "code",
      "metadata": {
        "id": "UWZJbF37a68W",
        "colab_type": "code",
        "colab": {}
      },
      "source": [
        "import torch\n",
        "import torch.nn as nn\n",
        "\n",
        "import torch.optim as optim\n",
        "\n",
        "import torchvision\n",
        "import torchvision.transforms as transforms"
      ],
      "execution_count": 0,
      "outputs": []
    },
    {
      "cell_type": "code",
      "metadata": {
        "id": "iB7niFGsbAHj",
        "colab_type": "code",
        "colab": {}
      },
      "source": [
        "device = 'cuda' if torch.cuda.is_available() else 'cpu'\n",
        "\n",
        "torch.manual_seed(777)\n",
        "if device =='cuda':\n",
        "    torch.cuda.manual_seed_all(777)"
      ],
      "execution_count": 0,
      "outputs": []
    },
    {
      "cell_type": "markdown",
      "metadata": {
        "id": "8zojKE2rbyeu",
        "colab_type": "text"
      },
      "source": [
        "### 3.2. 데이터 전처리\n"
      ]
    },
    {
      "cell_type": "code",
      "metadata": {
        "id": "Ot461v6HbB-h",
        "colab_type": "code",
        "colab": {
          "base_uri": "https://localhost:8080/",
          "height": 121,
          "referenced_widgets": [
            "1aedd1830435426d90f326bf4e7c98c8",
            "2a24d0f6d62d472d9bd695e7dbc37375",
            "403bbe02511a4dd8a7e1e7ba86c14b45",
            "5c5e8a5182704f6a827ad34551bf8b2e",
            "3799df10d789420d941f93beff1ce08f",
            "ece898719b15482991eefa99dfc93eec",
            "8fcd49e740bb4de088b34c22e9f5e7d7",
            "3ce97dd913224e3eaacee5f2033c8fcd"
          ]
        },
        "outputId": "b7a5dbc7-1842-4ede-93e1-29f5feeedcd3"
      },
      "source": [
        "# Tensor로 변환 및 정규화\n",
        "transform = transforms.Compose([transforms.ToTensor(), transforms.Normalize((0.5, 0.5, 0.5), (0.5, 0.5, 0.5))])\n",
        "\n",
        "trainset = torchvision.datasets.CIFAR10(root='./cifar10', train=True, download=True, transform=transform)\n",
        "trainloader = torch.utils.data.DataLoader(trainset, batch_size=512, shuffle=True, num_workers=0)\n",
        "\n",
        "testset = torchvision.datasets.CIFAR10(root='./cifar10', train=False, download=True, transform=transform)\n",
        "testloader = torch.utils.data.DataLoader(testset, batch_size=4, shuffle=False, num_workers=0)\n",
        "\n",
        "classes = ('plane', 'car', 'bird', 'cat', 'deer', 'dog', 'frog', 'horse', 'ship', 'truck')"
      ],
      "execution_count": 11,
      "outputs": [
        {
          "output_type": "stream",
          "text": [
            "Downloading https://www.cs.toronto.edu/~kriz/cifar-10-python.tar.gz to ./cifar10/cifar-10-python.tar.gz\n"
          ],
          "name": "stdout"
        },
        {
          "output_type": "display_data",
          "data": {
            "application/vnd.jupyter.widget-view+json": {
              "model_id": "1aedd1830435426d90f326bf4e7c98c8",
              "version_minor": 0,
              "version_major": 2
            },
            "text/plain": [
              "HBox(children=(IntProgress(value=1, bar_style='info', max=1), HTML(value='')))"
            ]
          },
          "metadata": {
            "tags": []
          }
        },
        {
          "output_type": "stream",
          "text": [
            "\n",
            "Extracting ./cifar10/cifar-10-python.tar.gz to ./cifar10\n",
            "Files already downloaded and verified\n"
          ],
          "name": "stdout"
        }
      ]
    },
    {
      "cell_type": "markdown",
      "metadata": {
        "id": "KroNLPahcost",
        "colab_type": "text"
      },
      "source": [
        "### 3.3. 모델 설계"
      ]
    },
    {
      "cell_type": "code",
      "metadata": {
        "id": "LohNnC2ubTL9",
        "colab_type": "code",
        "colab": {
          "base_uri": "https://localhost:8080/",
          "height": 773
        },
        "outputId": "34f008f1-d08a-4b74-a09f-753bee6cde04"
      },
      "source": [
        "cfg = [32, 32, 'M', 64, 64, 128, 128, 128, 'M', 256, 256, 256, 512, 512, 512, 'M']  # 13 + 3 = vgg16\n",
        "vgg16 = VGG(make_layers(cfg), 10, True).to(device)\n",
        "print(vgg16)"
      ],
      "execution_count": 17,
      "outputs": [
        {
          "output_type": "stream",
          "text": [
            "VGG(\n",
            "  (features): Sequential(\n",
            "    (0): Conv2d(3, 32, kernel_size=(3, 3), stride=(1, 1), padding=(1, 1))\n",
            "    (1): ReLU(inplace=True)\n",
            "    (2): Conv2d(32, 32, kernel_size=(3, 3), stride=(1, 1), padding=(1, 1))\n",
            "    (3): ReLU(inplace=True)\n",
            "    (4): MaxPool2d(kernel_size=2, stride=2, padding=0, dilation=1, ceil_mode=False)\n",
            "    (5): Conv2d(32, 64, kernel_size=(3, 3), stride=(1, 1), padding=(1, 1))\n",
            "    (6): ReLU(inplace=True)\n",
            "    (7): Conv2d(64, 64, kernel_size=(3, 3), stride=(1, 1), padding=(1, 1))\n",
            "    (8): ReLU(inplace=True)\n",
            "    (9): Conv2d(64, 128, kernel_size=(3, 3), stride=(1, 1), padding=(1, 1))\n",
            "    (10): ReLU(inplace=True)\n",
            "    (11): Conv2d(128, 128, kernel_size=(3, 3), stride=(1, 1), padding=(1, 1))\n",
            "    (12): ReLU(inplace=True)\n",
            "    (13): Conv2d(128, 128, kernel_size=(3, 3), stride=(1, 1), padding=(1, 1))\n",
            "    (14): ReLU(inplace=True)\n",
            "    (15): MaxPool2d(kernel_size=2, stride=2, padding=0, dilation=1, ceil_mode=False)\n",
            "    (16): Conv2d(128, 256, kernel_size=(3, 3), stride=(1, 1), padding=(1, 1))\n",
            "    (17): ReLU(inplace=True)\n",
            "    (18): Conv2d(256, 256, kernel_size=(3, 3), stride=(1, 1), padding=(1, 1))\n",
            "    (19): ReLU(inplace=True)\n",
            "    (20): Conv2d(256, 256, kernel_size=(3, 3), stride=(1, 1), padding=(1, 1))\n",
            "    (21): ReLU(inplace=True)\n",
            "    (22): Conv2d(256, 512, kernel_size=(3, 3), stride=(1, 1), padding=(1, 1))\n",
            "    (23): ReLU(inplace=True)\n",
            "    (24): Conv2d(512, 512, kernel_size=(3, 3), stride=(1, 1), padding=(1, 1))\n",
            "    (25): ReLU(inplace=True)\n",
            "    (26): Conv2d(512, 512, kernel_size=(3, 3), stride=(1, 1), padding=(1, 1))\n",
            "    (27): ReLU(inplace=True)\n",
            "    (28): MaxPool2d(kernel_size=2, stride=2, padding=0, dilation=1, ceil_mode=False)\n",
            "  )\n",
            "  (classifier): Sequential(\n",
            "    (0): Linear(in_features=8192, out_features=4096, bias=True)\n",
            "    (1): ReLU(inplace=True)\n",
            "    (2): Dropout(p=0.5, inplace=False)\n",
            "    (3): Linear(in_features=4096, out_features=4096, bias=True)\n",
            "    (4): ReLU(inplace=True)\n",
            "    (5): Dropout(p=0.5, inplace=False)\n",
            "    (6): Linear(in_features=4096, out_features=10, bias=True)\n",
            "  )\n",
            ")\n"
          ],
          "name": "stdout"
        }
      ]
    },
    {
      "cell_type": "code",
      "metadata": {
        "id": "l_vDtuPTbDpd",
        "colab_type": "code",
        "colab": {
          "base_uri": "https://localhost:8080/",
          "height": 71
        },
        "outputId": "48c5fe64-5512-4083-cbb8-6995bc0efc19"
      },
      "source": [
        "# 모델 확인\n",
        "a = torch.Tensor(1,3,32,32).to(device)\n",
        "out = vgg16(a)\n",
        "print(out)"
      ],
      "execution_count": 18,
      "outputs": [
        {
          "output_type": "stream",
          "text": [
            "tensor([[-4.2243e+34, -1.1487e+35, -2.5790e+35,  3.4456e+33,  1.1356e+34,\n",
            "         -1.2112e+35, -1.7755e+35,  2.3448e+35,  1.3895e+35,  2.3837e+34]],\n",
            "       device='cuda:0', grad_fn=<AddmmBackward>)\n"
          ],
          "name": "stdout"
        }
      ]
    },
    {
      "cell_type": "markdown",
      "metadata": {
        "id": "clJFdu43dlJ_",
        "colab_type": "text"
      },
      "source": [
        "### 3.4. Cost Function 및 Optimizer 설정"
      ]
    },
    {
      "cell_type": "code",
      "metadata": {
        "id": "XRbLSsH3beLS",
        "colab_type": "code",
        "colab": {}
      },
      "source": [
        "criterion = nn.CrossEntropyLoss().to(device)\n",
        "optimizer = torch.optim.SGD(vgg16.parameters(), lr = 0.005,momentum=0.9)\n",
        "# learning rate를 step 5번 마다 learning rate * 0.9를 해줌\n",
        "lr_sche = optim.lr_scheduler.StepLR(optimizer, step_size=5, gamma=0.9)"
      ],
      "execution_count": 0,
      "outputs": []
    },
    {
      "cell_type": "markdown",
      "metadata": {
        "id": "Tf2lTR9WdpR7",
        "colab_type": "text"
      },
      "source": [
        "### 3.5. 학습"
      ]
    },
    {
      "cell_type": "code",
      "metadata": {
        "id": "EBor2cX5bgEd",
        "colab_type": "code",
        "colab": {
          "base_uri": "https://localhost:8080/",
          "height": 1000
        },
        "outputId": "0f78b146-3a70-40ca-de10-b509caff0c36"
      },
      "source": [
        "print(len(trainloader))\n",
        "epochs = 50\n",
        "\n",
        "# loop over the dataset multiple times\n",
        "for epoch in range(epochs):  \n",
        "    running_loss = 0.0\n",
        "    lr_sche.step()\n",
        "    for i, data in enumerate(trainloader, 0):\n",
        "        # get the inputs\n",
        "        inputs, labels = data\n",
        "        inputs = inputs.to(device)\n",
        "        labels = labels.to(device)\n",
        "\n",
        "        # zero the parameter gradients\n",
        "        optimizer.zero_grad()\n",
        "\n",
        "        # forward + backward + optimize\n",
        "        outputs = vgg16(inputs)\n",
        "        loss = criterion(outputs, labels)\n",
        "        loss.backward()\n",
        "        optimizer.step()\n",
        "\n",
        "        # print statistics\n",
        "        running_loss += loss.item()\n",
        "        if i % 30 == 29:    # print every 30 mini-batches\n",
        "            print('[%d, %5d] loss: %.3f' %\n",
        "                  (epoch + 1, i + 1, running_loss / 30))\n",
        "            running_loss = 0.0\n",
        "        \n",
        "\n",
        "print('Finished Training')"
      ],
      "execution_count": 22,
      "outputs": [
        {
          "output_type": "stream",
          "text": [
            "98\n",
            "[1,    30] loss: 2.299\n",
            "[1,    60] loss: 2.292\n",
            "[1,    90] loss: 2.264\n",
            "[2,    30] loss: 2.133\n",
            "[2,    60] loss: 2.059\n",
            "[2,    90] loss: 1.924\n",
            "[3,    30] loss: 1.815\n",
            "[3,    60] loss: 1.762\n",
            "[3,    90] loss: 1.696\n",
            "[4,    30] loss: 1.645\n",
            "[4,    60] loss: 1.599\n",
            "[4,    90] loss: 1.578\n",
            "[5,    30] loss: 1.512\n",
            "[5,    60] loss: 1.500\n",
            "[5,    90] loss: 1.469\n",
            "[6,    30] loss: 1.436\n",
            "[6,    60] loss: 1.446\n",
            "[6,    90] loss: 1.398\n",
            "[7,    30] loss: 1.352\n",
            "[7,    60] loss: 1.368\n",
            "[7,    90] loss: 1.326\n",
            "[8,    30] loss: 1.308\n",
            "[8,    60] loss: 1.252\n",
            "[8,    90] loss: 1.218\n",
            "[9,    30] loss: 1.198\n",
            "[9,    60] loss: 1.175\n",
            "[9,    90] loss: 1.146\n",
            "[10,    30] loss: 1.147\n",
            "[10,    60] loss: 1.087\n",
            "[10,    90] loss: 1.083\n",
            "[11,    30] loss: 1.084\n",
            "[11,    60] loss: 1.058\n",
            "[11,    90] loss: 1.028\n",
            "[12,    30] loss: 0.989\n",
            "[12,    60] loss: 0.984\n",
            "[12,    90] loss: 0.988\n",
            "[13,    30] loss: 0.954\n",
            "[13,    60] loss: 0.984\n",
            "[13,    90] loss: 0.943\n",
            "[14,    30] loss: 0.906\n",
            "[14,    60] loss: 0.878\n",
            "[14,    90] loss: 0.890\n",
            "[15,    30] loss: 0.843\n",
            "[15,    60] loss: 0.837\n",
            "[15,    90] loss: 0.836\n",
            "[16,    30] loss: 0.809\n",
            "[16,    60] loss: 0.821\n",
            "[16,    90] loss: 0.810\n",
            "[17,    30] loss: 0.751\n",
            "[17,    60] loss: 0.781\n",
            "[17,    90] loss: 0.768\n",
            "[18,    30] loss: 0.754\n",
            "[18,    60] loss: 0.748\n",
            "[18,    90] loss: 0.727\n",
            "[19,    30] loss: 0.691\n",
            "[19,    60] loss: 0.694\n",
            "[19,    90] loss: 0.690\n",
            "[20,    30] loss: 0.693\n",
            "[20,    60] loss: 0.652\n",
            "[20,    90] loss: 0.657\n",
            "[21,    30] loss: 0.634\n",
            "[21,    60] loss: 0.627\n",
            "[21,    90] loss: 0.649\n",
            "[22,    30] loss: 0.595\n",
            "[22,    60] loss: 0.602\n",
            "[22,    90] loss: 0.616\n",
            "[23,    30] loss: 0.563\n",
            "[23,    60] loss: 0.568\n",
            "[23,    90] loss: 0.588\n",
            "[24,    30] loss: 0.533\n",
            "[24,    60] loss: 0.531\n",
            "[24,    90] loss: 0.535\n",
            "[25,    30] loss: 0.510\n",
            "[25,    60] loss: 0.497\n",
            "[25,    90] loss: 0.507\n",
            "[26,    30] loss: 0.487\n",
            "[26,    60] loss: 0.485\n",
            "[26,    90] loss: 0.475\n",
            "[27,    30] loss: 0.448\n",
            "[27,    60] loss: 0.455\n",
            "[27,    90] loss: 0.471\n",
            "[28,    30] loss: 0.427\n",
            "[28,    60] loss: 0.408\n",
            "[28,    90] loss: 0.431\n",
            "[29,    30] loss: 0.390\n",
            "[29,    60] loss: 0.389\n",
            "[29,    90] loss: 0.390\n",
            "[30,    30] loss: 0.343\n",
            "[30,    60] loss: 0.364\n",
            "[30,    90] loss: 0.371\n",
            "[31,    30] loss: 0.312\n",
            "[31,    60] loss: 0.357\n",
            "[31,    90] loss: 0.332\n",
            "[32,    30] loss: 0.299\n",
            "[32,    60] loss: 0.296\n",
            "[32,    90] loss: 0.309\n",
            "[33,    30] loss: 0.267\n",
            "[33,    60] loss: 0.263\n",
            "[33,    90] loss: 0.279\n",
            "[34,    30] loss: 0.231\n",
            "[34,    60] loss: 0.239\n",
            "[34,    90] loss: 0.250\n",
            "[35,    30] loss: 0.201\n",
            "[35,    60] loss: 0.226\n",
            "[35,    90] loss: 0.223\n",
            "[36,    30] loss: 0.196\n",
            "[36,    60] loss: 0.186\n",
            "[36,    90] loss: 0.196\n",
            "[37,    30] loss: 0.167\n",
            "[37,    60] loss: 0.181\n",
            "[37,    90] loss: 0.181\n",
            "[38,    30] loss: 0.151\n",
            "[38,    60] loss: 0.156\n",
            "[38,    90] loss: 0.158\n",
            "[39,    30] loss: 0.133\n",
            "[39,    60] loss: 0.133\n",
            "[39,    90] loss: 0.146\n",
            "[40,    30] loss: 0.138\n",
            "[40,    60] loss: 0.113\n",
            "[40,    90] loss: 0.115\n",
            "[41,    30] loss: 0.117\n",
            "[41,    60] loss: 0.110\n",
            "[41,    90] loss: 0.117\n",
            "[42,    30] loss: 0.090\n",
            "[42,    60] loss: 0.097\n",
            "[42,    90] loss: 0.107\n",
            "[43,    30] loss: 0.085\n",
            "[43,    60] loss: 0.098\n",
            "[43,    90] loss: 0.090\n",
            "[44,    30] loss: 0.077\n",
            "[44,    60] loss: 0.069\n",
            "[44,    90] loss: 0.070\n",
            "[45,    30] loss: 0.057\n",
            "[45,    60] loss: 0.060\n",
            "[45,    90] loss: 0.066\n",
            "[46,    30] loss: 0.063\n",
            "[46,    60] loss: 0.070\n",
            "[46,    90] loss: 0.062\n",
            "[47,    30] loss: 0.054\n",
            "[47,    60] loss: 0.054\n",
            "[47,    90] loss: 0.068\n",
            "[48,    30] loss: 0.053\n",
            "[48,    60] loss: 0.054\n",
            "[48,    90] loss: 0.054\n",
            "[49,    30] loss: 0.042\n",
            "[49,    60] loss: 0.045\n",
            "[49,    90] loss: 0.045\n",
            "[50,    30] loss: 0.045\n",
            "[50,    60] loss: 0.043\n",
            "[50,    90] loss: 0.046\n",
            "Finished Training\n"
          ],
          "name": "stdout"
        }
      ]
    },
    {
      "cell_type": "markdown",
      "metadata": {
        "id": "xiQGvR2Sdtol",
        "colab_type": "text"
      },
      "source": [
        "### 3.6. 모델 성능 테스트"
      ]
    },
    {
      "cell_type": "code",
      "metadata": {
        "id": "NsS3A5y3bmx1",
        "colab_type": "code",
        "colab": {
          "base_uri": "https://localhost:8080/",
          "height": 35
        },
        "outputId": "ea30c173-c43a-4cb8-f25a-a0b98426ea10"
      },
      "source": [
        "correct = 0\n",
        "total = 0\n",
        "\n",
        "with torch.no_grad():\n",
        "    for data in testloader:\n",
        "        images, labels = data\n",
        "        images = images.to(device)\n",
        "        labels = labels.to(device)\n",
        "        outputs = vgg16(images)\n",
        "        \n",
        "        _, predicted = torch.max(outputs.data, 1)\n",
        "        \n",
        "        total += labels.size(0)\n",
        "        \n",
        "        correct += (predicted == labels).sum().item()\n",
        "\n",
        "print('Accuracy of the network on the 10000 test images: %d %%' % (\n",
        "    100 * correct / total))"
      ],
      "execution_count": 23,
      "outputs": [
        {
          "output_type": "stream",
          "text": [
            "Accuracy of the network on the 10000 test images: 77 %\n"
          ],
          "name": "stdout"
        }
      ]
    }
  ]
}