{
  "nbformat": 4,
  "nbformat_minor": 0,
  "metadata": {
    "colab": {
      "name": "Part 3.1. Convolution.ipynb",
      "provenance": [],
      "collapsed_sections": []
    },
    "kernelspec": {
      "name": "python3",
      "display_name": "Python 3"
    },
    "accelerator": "GPU"
  },
  "cells": [
    {
      "cell_type": "markdown",
      "metadata": {
        "id": "nibt2npFs-fO",
        "colab_type": "text"
      },
      "source": [
        "# Part 3.1. Convolution"
      ]
    },
    {
      "cell_type": "markdown",
      "metadata": {
        "id": "eu667W33TKgU",
        "colab_type": "text"
      },
      "source": [
        "## 1. Convolution\n",
        "이미지 위에서 `stride` 값 만큼 `filter`를 이동시키면서 겹쳐지는 부분의 각 원소의 값을 곱해서 모두 더한 값을 출력하는 연산\n",
        "\n",
        "![13-1.png](./img/13-1.png)"
      ]
    },
    {
      "cell_type": "markdown",
      "metadata": {
        "id": "u_vnxfHTUxJ5",
        "colab_type": "text"
      },
      "source": [
        "### 1.1. Stride and Padding\n",
        "* `stride` : filter를 한 번에 얼마나 이동할 것인가\n",
        "* `padding` : zero padding. 1이면 한 겹의 띠가 입력에 감싸진다."
      ]
    },
    {
      "cell_type": "markdown",
      "metadata": {
        "id": "6yhrv2WIVHhd",
        "colab_type": "text"
      },
      "source": [
        "### 1.2. `nn.Conv2d`\n",
        "\n",
        "![13-2.png](./img/13-2.png)\n",
        "\n",
        "Convolution Layer를 생성하기 위한 클래스이다.\n",
        "* `in_channels` : 입력의 채널 개수\n",
        "* `out_channels` : 필터의 개수\n",
        "* `kernel_size` : 필터의 크기. n을 입력하면 nxn이지만 특정 필터사이즈 mxn를 원하면 (m, n)을 입력으로 넣어주면 된다.\n",
        "\n"
      ]
    },
    {
      "cell_type": "markdown",
      "metadata": {
        "id": "RBy7aJjKXuhg",
        "colab_type": "text"
      },
      "source": [
        "#### 1.2.1. Convolution의 Input\n",
        "`torch.Tensor` 자료형이며 `(batch_size, channel, height, width)`로 구성되어 있다. 이를 Layer에 넣어주면 아래와 같은 Output이 나오게 된다.\n",
        "\n",
        "#### 1.2.2. Convolution의 Output\n",
        "\n",
        "$$Output Size = \\frac{input size - filter size + (2 * padding)}{stride} + 1 $$\n",
        "\n",
        "* 소수점이 있을 경우 버린다.\n",
        "* Input의 가로, 세로가 같지 않고 다를 경우 각각의 사이즈를 계산해준다.\n"
      ]
    },
    {
      "cell_type": "markdown",
      "metadata": {
        "id": "0EEKmLVXgFRT",
        "colab_type": "text"
      },
      "source": [
        "### 1.3. Neuron과 Convolution\n",
        "\n",
        "![13-3.png](./img/13-3.png)"
      ]
    },
    {
      "cell_type": "markdown",
      "metadata": {
        "id": "h7rQ62pkgenh",
        "colab_type": "text"
      },
      "source": [
        "## 2. Pooling\n",
        "이미지 사이즈를 줄이기 위해 (=조절하기 위해) 하는 연산\n",
        "\n",
        "![13-4.png](./img/13-4.png)"
      ]
    },
    {
      "cell_type": "markdown",
      "metadata": {
        "id": "sDvsd3bCgysz",
        "colab_type": "text"
      },
      "source": [
        "### 2.1. `nn.MaxPool2d`\n",
        "\n",
        "![13-5.png](./img/13-5.png)\n",
        "\n",
        "Max Pooling Layer를 생성하기 위한 클래스이다.\n"
      ]
    },
    {
      "cell_type": "markdown",
      "metadata": {
        "id": "8G9mHISwiF4A",
        "colab_type": "text"
      },
      "source": [
        "## 3. MNIST Example"
      ]
    },
    {
      "cell_type": "markdown",
      "metadata": {
        "id": "cqf-0PbOiVky",
        "colab_type": "text"
      },
      "source": [
        "### 3.1. 라이브러리 가져오기"
      ]
    },
    {
      "cell_type": "code",
      "metadata": {
        "id": "E2MHeIJHUakW",
        "colab_type": "code",
        "colab": {}
      },
      "source": [
        "import torch\n",
        "import torch.nn as nn\n",
        "import torchvision.datasets as dsets\n",
        "import torchvision.transforms as transforms\n",
        "import torch.nn.init"
      ],
      "execution_count": 0,
      "outputs": []
    },
    {
      "cell_type": "markdown",
      "metadata": {
        "id": "BtIE2WhYiZe9",
        "colab_type": "text"
      },
      "source": [
        "### 3.2. GPU와 seed값 설정"
      ]
    },
    {
      "cell_type": "code",
      "metadata": {
        "id": "E2EqiAuPiQvs",
        "colab_type": "code",
        "colab": {}
      },
      "source": [
        "# torch.cuda가 사용가능할 때 GPU를 사용. 아니면 CPU 사용.\n",
        "device = 'cuda' if torch.cuda.is_available() else 'cpu'\n",
        "\n",
        "# seed 설정\n",
        "torch.manual_seed(777)\n",
        "if device == 'cuda':\n",
        "    torch.cuda.manual_seed_all(777)"
      ],
      "execution_count": 0,
      "outputs": []
    },
    {
      "cell_type": "markdown",
      "metadata": {
        "id": "WpeYSTsEihG-",
        "colab_type": "text"
      },
      "source": [
        "### 3.3. 하이퍼 파라미터 설정"
      ]
    },
    {
      "cell_type": "code",
      "metadata": {
        "id": "8dVOQ-NbijQr",
        "colab_type": "code",
        "colab": {}
      },
      "source": [
        "# 하이퍼 파라미터\n",
        "learning_rate = 0.001\n",
        "training_epochs = 15\n",
        "batch_size = 100"
      ],
      "execution_count": 0,
      "outputs": []
    },
    {
      "cell_type": "markdown",
      "metadata": {
        "id": "QLru_lW1ij15",
        "colab_type": "text"
      },
      "source": [
        "### 3.4. 데이터셋 로드 및 dataloader 생성"
      ]
    },
    {
      "cell_type": "code",
      "metadata": {
        "id": "JbuFaUSrim0b",
        "colab_type": "code",
        "colab": {}
      },
      "source": [
        "# 다운로드 시 Tensor Value가 아님. 그것을 transform에 인자를 주어서 Tensor로 변환\n",
        "mnist_train = dsets.MNIST(root=\"MNIST_data/\", train=True, transform=transforms.ToTensor(), download=True)\n",
        "mnist_test = dsets.MNIST(root=\"MNIST_data/\", train=False, transform=transforms.ToTensor(), download=True)"
      ],
      "execution_count": 0,
      "outputs": []
    },
    {
      "cell_type": "code",
      "metadata": {
        "id": "C4nG_DkSla-7",
        "colab_type": "code",
        "colab": {}
      },
      "source": [
        "data_loader = torch.utils.data.DataLoader(dataset=mnist_train, batch_size=batch_size, shuffle=True, drop_last=True)"
      ],
      "execution_count": 0,
      "outputs": []
    },
    {
      "cell_type": "markdown",
      "metadata": {
        "id": "IAW3wFsrinPs",
        "colab_type": "text"
      },
      "source": [
        "### 3.5. 학습 모델 설계"
      ]
    },
    {
      "cell_type": "markdown",
      "metadata": {
        "id": "JOPxkEvn-4QZ",
        "colab_type": "text"
      },
      "source": [
        "![13-6.png](./img/13-6.png)\n",
        "\n",
        "* `view` : 한 batch에서의 연산 결과를 n차원이 아닌 1차원으로 변환. 첫 번째 인자로 batch의 크기를 넣고 나머지는 -1로 해서 알아서 계산하게 놔둠.\n",
        "* `fc` : input으로 연산의 개수를, output으로 label의 개수를 넣어 분류한다."
      ]
    },
    {
      "cell_type": "code",
      "metadata": {
        "id": "toBXMX2OipgL",
        "colab_type": "code",
        "colab": {}
      },
      "source": [
        "# CNN 모델 (3 Layer)\n",
        "class CNN(nn.Module):\n",
        "\n",
        "  def __init__(self):\n",
        "    super(CNN, self).__init__()\n",
        "    self.layer1 = nn.Sequential(\n",
        "        nn.Conv2d(1, 32, kernel_size=3, stride=1, padding=1),\n",
        "        nn.ReLU(),\n",
        "        nn.MaxPool2d(2)\n",
        "    )\n",
        "\n",
        "    self.layer2 = nn.Sequential(\n",
        "        nn.Conv2d(32, 64, kernel_size=3, stride=1, padding=1),\n",
        "        nn.ReLU(),\n",
        "        nn.MaxPool2d(2)\n",
        "    )\n",
        "\n",
        "    self.fc = nn.Linear(7*7*64, 10, bias=True)\n",
        "    torch.nn.init.xavier_uniform_(self.fc.weight)\n",
        "\n",
        "  def forward(self, x):\n",
        "    out = self.layer1(x)\n",
        "    out = self.layer2(out)\n",
        "\n",
        "    out = out.view(out.size(0), -1)\n",
        "    out = self.fc(out)\n",
        "\n",
        "    return out"
      ],
      "execution_count": 0,
      "outputs": []
    },
    {
      "cell_type": "code",
      "metadata": {
        "id": "rwQc0cX0s0wk",
        "colab_type": "code",
        "colab": {
          "base_uri": "https://localhost:8080/",
          "height": 251
        },
        "outputId": "970a54cf-9c3c-4dd5-ba0e-fe3c9399f72b"
      },
      "source": [
        "model = CNN().to(device)\n",
        "print(model)"
      ],
      "execution_count": 7,
      "outputs": [
        {
          "output_type": "stream",
          "text": [
            "CNN(\n",
            "  (layer1): Sequential(\n",
            "    (0): Conv2d(1, 32, kernel_size=(3, 3), stride=(1, 1), padding=(1, 1))\n",
            "    (1): ReLU()\n",
            "    (2): MaxPool2d(kernel_size=2, stride=2, padding=0, dilation=1, ceil_mode=False)\n",
            "  )\n",
            "  (layer2): Sequential(\n",
            "    (0): Conv2d(32, 64, kernel_size=(3, 3), stride=(1, 1), padding=(1, 1))\n",
            "    (1): ReLU()\n",
            "    (2): MaxPool2d(kernel_size=2, stride=2, padding=0, dilation=1, ceil_mode=False)\n",
            "  )\n",
            "  (fc): Linear(in_features=3136, out_features=10, bias=True)\n",
            ")\n"
          ],
          "name": "stdout"
        }
      ]
    },
    {
      "cell_type": "markdown",
      "metadata": {
        "id": "C_TDxv0Q-9xC",
        "colab_type": "text"
      },
      "source": [
        "![13-7.png](./img/13-7.PNG)\n"
      ]
    },
    {
      "cell_type": "code",
      "metadata": {
        "id": "mm7DWTcs0a2m",
        "colab_type": "code",
        "colab": {}
      },
      "source": [
        "# 더 깊은 Layer를 가진 CNN 모델 (5 Layer)\n",
        "class CNN_More_Deep(nn.Module):\n",
        "\n",
        "  def __init__(self):\n",
        "    super(CNN_More_Deep, self).__init__()\n",
        "    self.layer1 = nn.Sequential(\n",
        "        nn.Conv2d(1, 32, kernel_size=3, stride=1, padding=1),\n",
        "        nn.ReLU(),\n",
        "        nn.MaxPool2d(2)\n",
        "    )\n",
        "\n",
        "    self.layer2 = nn.Sequential(\n",
        "        nn.Conv2d(32, 64, kernel_size=3, stride=1, padding=1),\n",
        "        nn.ReLU(),\n",
        "        nn.MaxPool2d(2)\n",
        "    )\n",
        "\n",
        "    self.layer3 = nn.Sequential(\n",
        "        nn.Conv2d(64, 128, kernel_size=3, stride=1, padding=1),\n",
        "        nn.ReLU(),\n",
        "        nn.MaxPool2d(2)\n",
        "    )\n",
        "\n",
        "    self.fc1 = nn.Linear(3*3*128, 625)\n",
        "    self.relu = nn.ReLU()\n",
        "    self.fc2 = nn.Linear(625, 10, bias=True)\n",
        "    torch.nn.init.xavier_uniform_(self.fc1.weight)\n",
        "    torch.nn.init.xavier_uniform_(self.fc2.weight)\n",
        "\n",
        "  def forward(self, x):\n",
        "    out = self.layer1(x)\n",
        "    out = self.layer2(out)\n",
        "    out = self.layer3(out)\n",
        "\n",
        "    out = out.view(out.size(0), -1)\n",
        "    out = self.fc1(out)\n",
        "    out = self.relu(out)\n",
        "    out = self.fc2(out)\n",
        "\n",
        "    return out"
      ],
      "execution_count": 0,
      "outputs": []
    },
    {
      "cell_type": "code",
      "metadata": {
        "id": "CbGdLGmW2zzc",
        "colab_type": "code",
        "colab": {
          "base_uri": "https://localhost:8080/",
          "height": 377
        },
        "outputId": "6ec2cf0c-b544-4a73-a595-43a9e3c3ae2d"
      },
      "source": [
        "model_deep = CNN_More_Deep().to(device)\n",
        "print(model_deep)"
      ],
      "execution_count": 9,
      "outputs": [
        {
          "output_type": "stream",
          "text": [
            "CNN_More_Deep(\n",
            "  (layer1): Sequential(\n",
            "    (0): Conv2d(1, 32, kernel_size=(3, 3), stride=(1, 1), padding=(1, 1))\n",
            "    (1): ReLU()\n",
            "    (2): MaxPool2d(kernel_size=2, stride=2, padding=0, dilation=1, ceil_mode=False)\n",
            "  )\n",
            "  (layer2): Sequential(\n",
            "    (0): Conv2d(32, 64, kernel_size=(3, 3), stride=(1, 1), padding=(1, 1))\n",
            "    (1): ReLU()\n",
            "    (2): MaxPool2d(kernel_size=2, stride=2, padding=0, dilation=1, ceil_mode=False)\n",
            "  )\n",
            "  (layer3): Sequential(\n",
            "    (0): Conv2d(64, 128, kernel_size=(3, 3), stride=(1, 1), padding=(1, 1))\n",
            "    (1): ReLU()\n",
            "    (2): MaxPool2d(kernel_size=2, stride=2, padding=0, dilation=1, ceil_mode=False)\n",
            "  )\n",
            "  (fc1): Linear(in_features=1152, out_features=625, bias=True)\n",
            "  (relu): ReLU()\n",
            "  (fc2): Linear(in_features=625, out_features=10, bias=True)\n",
            ")\n"
          ],
          "name": "stdout"
        }
      ]
    },
    {
      "cell_type": "markdown",
      "metadata": {
        "id": "bbtLr9lJipyD",
        "colab_type": "text"
      },
      "source": [
        "### 3.6. Cost Function 및 Optimizer 정의"
      ]
    },
    {
      "cell_type": "code",
      "metadata": {
        "id": "d6g4o3d7itDk",
        "colab_type": "code",
        "colab": {}
      },
      "source": [
        "# CNN 모델\n",
        "criterion = nn.CrossEntropyLoss().to(device)\n",
        "optimizer = torch.optim.Adam(model.parameters(), lr=learning_rate)"
      ],
      "execution_count": 0,
      "outputs": []
    },
    {
      "cell_type": "code",
      "metadata": {
        "id": "bPmJ_UaX91dj",
        "colab_type": "code",
        "colab": {}
      },
      "source": [
        "# 더 깊은 CNN 모델\n",
        "criterion_deep = nn.CrossEntropyLoss().to(device)\n",
        "optimizer_deep = torch.optim.Adam(model_deep.parameters(), lr=learning_rate)"
      ],
      "execution_count": 0,
      "outputs": []
    },
    {
      "cell_type": "markdown",
      "metadata": {
        "id": "XRFxZ2gaitcz",
        "colab_type": "text"
      },
      "source": [
        "### 3.7. 학습"
      ]
    },
    {
      "cell_type": "code",
      "metadata": {
        "id": "LrdWkkqliv5H",
        "colab_type": "code",
        "colab": {
          "base_uri": "https://localhost:8080/",
          "height": 305
        },
        "outputId": "f1096dc5-e3f5-40b2-f3c5-6a263a27ea1b"
      },
      "source": [
        "# CNN 모델 학습\n",
        "total_batch = len(data_loader)\n",
        "\n",
        "for epoch in range(training_epochs):\n",
        "  avg_cost = 0\n",
        "\n",
        "  for X, Y in data_loader:\n",
        "    X = X.to(device)    # torch.Tensor -> torch.cuda.Tensor\n",
        "    Y = Y.to(device)\n",
        "\n",
        "    optimizer.zero_grad()\n",
        "    hypothesis = model(X)\n",
        "\n",
        "    cost = criterion(hypothesis, Y)\n",
        "    cost.backward()\n",
        "    optimizer.step()\n",
        "\n",
        "    avg_cost += cost / total_batch\n",
        "\n",
        "  print(\"[Epoch {}] cost = {}\".format(epoch+1, avg_cost))\n",
        "\n",
        "print(\"Learning Finished!\")"
      ],
      "execution_count": 12,
      "outputs": [
        {
          "output_type": "stream",
          "text": [
            "[Epoch 1] cost = 0.21992921829223633\n",
            "[Epoch 2] cost = 0.06148950755596161\n",
            "[Epoch 3] cost = 0.045612744987010956\n",
            "[Epoch 4] cost = 0.036390554159879684\n",
            "[Epoch 5] cost = 0.029233038425445557\n",
            "[Epoch 6] cost = 0.025149565190076828\n",
            "[Epoch 7] cost = 0.021464256569743156\n",
            "[Epoch 8] cost = 0.017689982429146767\n",
            "[Epoch 9] cost = 0.014837917871773243\n",
            "[Epoch 10] cost = 0.013035827316343784\n",
            "[Epoch 11] cost = 0.0109112448990345\n",
            "[Epoch 12] cost = 0.010275710374116898\n",
            "[Epoch 13] cost = 0.00806193333119154\n",
            "[Epoch 14] cost = 0.006317066494375467\n",
            "[Epoch 15] cost = 0.006835271138697863\n",
            "Learning Finished!\n"
          ],
          "name": "stdout"
        }
      ]
    },
    {
      "cell_type": "code",
      "metadata": {
        "id": "x5RoSvh33KLt",
        "colab_type": "code",
        "colab": {
          "base_uri": "https://localhost:8080/",
          "height": 305
        },
        "outputId": "f429f286-f66d-4b1e-8308-1c85a310c288"
      },
      "source": [
        "# 더 깊은 CNN 모델 학습\n",
        "total_batch = len(data_loader)\n",
        "\n",
        "for epoch in range(training_epochs):\n",
        "  avg_cost = 0\n",
        "\n",
        "  for X, Y in data_loader:\n",
        "    X = X.to(device)    # torch.Tensor -> torch.cuda.Tensor\n",
        "    Y = Y.to(device)\n",
        "\n",
        "    optimizer_deep.zero_grad()\n",
        "    hypothesis = model_deep(X)\n",
        "\n",
        "    cost = criterion_deep(hypothesis, Y)\n",
        "    cost.backward()\n",
        "    optimizer_deep.step()\n",
        "\n",
        "    avg_cost += cost / total_batch\n",
        "\n",
        "  print(\"[Epoch {}] cost = {}\".format(epoch+1, avg_cost))\n",
        "\n",
        "print(\"Learning Finished!\")"
      ],
      "execution_count": 13,
      "outputs": [
        {
          "output_type": "stream",
          "text": [
            "[Epoch 1] cost = 0.16298554837703705\n",
            "[Epoch 2] cost = 0.04253935441374779\n",
            "[Epoch 3] cost = 0.02870536968111992\n",
            "[Epoch 4] cost = 0.02103027142584324\n",
            "[Epoch 5] cost = 0.015723809599876404\n",
            "[Epoch 6] cost = 0.013301599770784378\n",
            "[Epoch 7] cost = 0.01161334291100502\n",
            "[Epoch 8] cost = 0.01146895531564951\n",
            "[Epoch 9] cost = 0.007956428453326225\n",
            "[Epoch 10] cost = 0.008535247296094894\n",
            "[Epoch 11] cost = 0.006353675853461027\n",
            "[Epoch 12] cost = 0.00805199146270752\n",
            "[Epoch 13] cost = 0.005329805891960859\n",
            "[Epoch 14] cost = 0.006823394913226366\n",
            "[Epoch 15] cost = 0.002981260884553194\n",
            "Learning Finished!\n"
          ],
          "name": "stdout"
        }
      ]
    },
    {
      "cell_type": "markdown",
      "metadata": {
        "id": "siJ1qctZiwOc",
        "colab_type": "text"
      },
      "source": [
        "### 3.8. 성능 확인"
      ]
    },
    {
      "cell_type": "code",
      "metadata": {
        "id": "mEvASfSVixhS",
        "colab_type": "code",
        "colab": {
          "base_uri": "https://localhost:8080/",
          "height": 107
        },
        "outputId": "d6c6b906-fe09-4da8-91a5-e1126854b0b8"
      },
      "source": [
        "# CNN 모델\n",
        "# 학습을 하지 않으니까 no gradient 설정\n",
        "with torch.no_grad():\n",
        "  X_test = mnist_test.test_data.view(len(mnist_test), 1, 28, 28).float().to(device)\n",
        "  Y_test = mnist_test.test_labels.to(device)\n",
        "\n",
        "  prediction = model(X_test)\n",
        "  correct_prediction = torch.argmax(prediction, 1) == Y_test\n",
        "  accuracy = correct_prediction.float().mean()\n",
        "  print(\"Accuracy :\", accuracy.item())"
      ],
      "execution_count": 14,
      "outputs": [
        {
          "output_type": "stream",
          "text": [
            "Accuracy : 0.9869999885559082\n"
          ],
          "name": "stdout"
        },
        {
          "output_type": "stream",
          "text": [
            "/usr/local/lib/python3.6/dist-packages/torchvision/datasets/mnist.py:60: UserWarning: test_data has been renamed data\n",
            "  warnings.warn(\"test_data has been renamed data\")\n",
            "/usr/local/lib/python3.6/dist-packages/torchvision/datasets/mnist.py:50: UserWarning: test_labels has been renamed targets\n",
            "  warnings.warn(\"test_labels has been renamed targets\")\n"
          ],
          "name": "stderr"
        }
      ]
    },
    {
      "cell_type": "code",
      "metadata": {
        "id": "IsEVWvEH3hsI",
        "colab_type": "code",
        "colab": {
          "base_uri": "https://localhost:8080/",
          "height": 107
        },
        "outputId": "8cf0fd6f-a76e-459d-d261-e4ac9111d816"
      },
      "source": [
        "# 더 깊은 CNN 모델\n",
        "# 학습을 하지 않으니까 no gradient 설정\n",
        "with torch.no_grad():\n",
        "  X_test = mnist_test.test_data.view(len(mnist_test), 1, 28, 28).float().to(device)\n",
        "  Y_test = mnist_test.test_labels.to(device)\n",
        "\n",
        "  prediction = model_deep(X_test)\n",
        "  correct_prediction = torch.argmax(prediction, 1) == Y_test\n",
        "  accuracy = correct_prediction.float().mean()\n",
        "  print(\"Accuracy :\", accuracy.item())"
      ],
      "execution_count": 15,
      "outputs": [
        {
          "output_type": "stream",
          "text": [
            "/usr/local/lib/python3.6/dist-packages/torchvision/datasets/mnist.py:60: UserWarning: test_data has been renamed data\n",
            "  warnings.warn(\"test_data has been renamed data\")\n",
            "/usr/local/lib/python3.6/dist-packages/torchvision/datasets/mnist.py:50: UserWarning: test_labels has been renamed targets\n",
            "  warnings.warn(\"test_labels has been renamed targets\")\n"
          ],
          "name": "stderr"
        },
        {
          "output_type": "stream",
          "text": [
            "Accuracy : 0.9887999892234802\n"
          ],
          "name": "stdout"
        }
      ]
    }
  ]
}
