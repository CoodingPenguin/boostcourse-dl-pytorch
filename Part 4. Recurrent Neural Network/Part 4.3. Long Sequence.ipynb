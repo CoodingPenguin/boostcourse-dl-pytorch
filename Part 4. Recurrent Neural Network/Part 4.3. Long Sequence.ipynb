{
  "nbformat": 4,
  "nbformat_minor": 0,
  "metadata": {
    "colab": {
      "name": "Part 4.3. Long Sequence.ipynb",
      "provenance": []
    },
    "kernelspec": {
      "name": "python3",
      "display_name": "Python 3"
    }
  },
  "cells": [
    {
      "cell_type": "markdown",
      "metadata": {
        "id": "L0mI6psMe8E4",
        "colab_type": "text"
      },
      "source": [
        "# Part 4.3. Long Sequence"
      ]
    },
    {
      "cell_type": "markdown",
      "metadata": {
        "id": "cK6ZdN1PfGzz",
        "colab_type": "text"
      },
      "source": [
        "## 1. How to Predict in Long Sentence\n",
        "\n",
        "![19-1](./img/19-1.png)\n",
        "\n",
        "문장에서 특정 사이즈의 window를 한 character만큼 sliding하면서 다음 문자를 예측한다. 즉, 지금의 window에서 다음 문자가 무엇이 올지 예측한다. 그렇게 하면서 문장 전체를 예측을 하게 된다."
      ]
    },
    {
      "cell_type": "markdown",
      "metadata": {
        "id": "LqZSUUtBhizf",
        "colab_type": "text"
      },
      "source": [
        "## 2. Implementation"
      ]
    },
    {
      "cell_type": "code",
      "metadata": {
        "id": "TeD6spgWewGj",
        "colab_type": "code",
        "colab": {}
      },
      "source": [
        "import torch\n",
        "import torch.optim as optim\n",
        "import numpy as np"
      ],
      "execution_count": 0,
      "outputs": []
    },
    {
      "cell_type": "code",
      "metadata": {
        "id": "4Z62FAnwf87a",
        "colab_type": "code",
        "colab": {
          "base_uri": "https://localhost:8080/",
          "height": 35
        },
        "outputId": "30b24fb3-56c2-4812-aa3c-e03e7769cf8b"
      },
      "source": [
        "torch.manual_seed(0)"
      ],
      "execution_count": 2,
      "outputs": [
        {
          "output_type": "execute_result",
          "data": {
            "text/plain": [
              "<torch._C.Generator at 0x7f76bed052d0>"
            ]
          },
          "metadata": {
            "tags": []
          },
          "execution_count": 2
        }
      ]
    },
    {
      "cell_type": "code",
      "metadata": {
        "id": "GL0WRWXigBI6",
        "colab_type": "code",
        "colab": {}
      },
      "source": [
        "# 예시 긴 문장\n",
        "sentence = (\"if you want to build a ship, don't drum up people together to \"\n",
        "            \"collect wood and don't assign them tasks and work, but rather \"\n",
        "            \"teach them to long for the endless immensity of the sea.\")"
      ],
      "execution_count": 0,
      "outputs": []
    },
    {
      "cell_type": "code",
      "metadata": {
        "id": "ZDI_HaxBgDQI",
        "colab_type": "code",
        "colab": {}
      },
      "source": [
        "# one-hot encoding을 위한 character dictinary 생성\n",
        "char_set = list(set(sentence))\n",
        "char_dic = {c: i for i, c in enumerate(char_set)}"
      ],
      "execution_count": 0,
      "outputs": []
    },
    {
      "cell_type": "code",
      "metadata": {
        "id": "hodRjWJUgHwl",
        "colab_type": "code",
        "colab": {}
      },
      "source": [
        "# 하이퍼 파라미터 설정\n",
        "dic_size = len(char_dic)\n",
        "hidden_size = len(char_dic)\n",
        "sequence_length = 10          # 임의의 숫자(윈도우 크기)\n",
        "learning_rate = 0.1"
      ],
      "execution_count": 0,
      "outputs": []
    },
    {
      "cell_type": "code",
      "metadata": {
        "id": "gsB9wDClgJXk",
        "colab_type": "code",
        "colab": {
          "base_uri": "https://localhost:8080/",
          "height": 1000
        },
        "outputId": "759e8ef0-6e86-4b51-aed8-fec326be77ca"
      },
      "source": [
        "x_data = []\n",
        "y_data = []\n",
        "\n",
        "# 윈도우가 다 sliding할 수 있는 만큼 반복\n",
        "# 윈도우 크기만큼의 각각의 데이터를 학습 데이터로 활용\n",
        "# 이 때 다 one-hot encoding을 한다\n",
        "for i in range(0, len(sentence) - sequence_length):\n",
        "    x_str = sentence[i:i + sequence_length]\n",
        "    y_str = sentence[i + 1: i + sequence_length + 1]\n",
        "    print(i, x_str, '->', y_str)\n",
        "\n",
        "    x_data.append([char_dic[c] for c in x_str])  # x str to index\n",
        "    y_data.append([char_dic[c] for c in y_str])  # y str to index\n",
        "\n",
        "x_one_hot = [np.eye(dic_size)[x] for x in x_data]"
      ],
      "execution_count": 6,
      "outputs": [
        {
          "output_type": "stream",
          "text": [
            "0 if you wan -> f you want\n",
            "1 f you want ->  you want \n",
            "2  you want  -> you want t\n",
            "3 you want t -> ou want to\n",
            "4 ou want to -> u want to \n",
            "5 u want to  ->  want to b\n",
            "6  want to b -> want to bu\n",
            "7 want to bu -> ant to bui\n",
            "8 ant to bui -> nt to buil\n",
            "9 nt to buil -> t to build\n",
            "10 t to build ->  to build \n",
            "11  to build  -> to build a\n",
            "12 to build a -> o build a \n",
            "13 o build a  ->  build a s\n",
            "14  build a s -> build a sh\n",
            "15 build a sh -> uild a shi\n",
            "16 uild a shi -> ild a ship\n",
            "17 ild a ship -> ld a ship,\n",
            "18 ld a ship, -> d a ship, \n",
            "19 d a ship,  ->  a ship, d\n",
            "20  a ship, d -> a ship, do\n",
            "21 a ship, do ->  ship, don\n",
            "22  ship, don -> ship, don'\n",
            "23 ship, don' -> hip, don't\n",
            "24 hip, don't -> ip, don't \n",
            "25 ip, don't  -> p, don't d\n",
            "26 p, don't d -> , don't dr\n",
            "27 , don't dr ->  don't dru\n",
            "28  don't dru -> don't drum\n",
            "29 don't drum -> on't drum \n",
            "30 on't drum  -> n't drum u\n",
            "31 n't drum u -> 't drum up\n",
            "32 't drum up -> t drum up \n",
            "33 t drum up  ->  drum up p\n",
            "34  drum up p -> drum up pe\n",
            "35 drum up pe -> rum up peo\n",
            "36 rum up peo -> um up peop\n",
            "37 um up peop -> m up peopl\n",
            "38 m up peopl ->  up people\n",
            "39  up people -> up people \n",
            "40 up people  -> p people t\n",
            "41 p people t ->  people to\n",
            "42  people to -> people tog\n",
            "43 people tog -> eople toge\n",
            "44 eople toge -> ople toget\n",
            "45 ople toget -> ple togeth\n",
            "46 ple togeth -> le togethe\n",
            "47 le togethe -> e together\n",
            "48 e together ->  together \n",
            "49  together  -> together t\n",
            "50 together t -> ogether to\n",
            "51 ogether to -> gether to \n",
            "52 gether to  -> ether to c\n",
            "53 ether to c -> ther to co\n",
            "54 ther to co -> her to col\n",
            "55 her to col -> er to coll\n",
            "56 er to coll -> r to colle\n",
            "57 r to colle ->  to collec\n",
            "58  to collec -> to collect\n",
            "59 to collect -> o collect \n",
            "60 o collect  ->  collect w\n",
            "61  collect w -> collect wo\n",
            "62 collect wo -> ollect woo\n",
            "63 ollect woo -> llect wood\n",
            "64 llect wood -> lect wood \n",
            "65 lect wood  -> ect wood a\n",
            "66 ect wood a -> ct wood an\n",
            "67 ct wood an -> t wood and\n",
            "68 t wood and ->  wood and \n",
            "69  wood and  -> wood and d\n",
            "70 wood and d -> ood and do\n",
            "71 ood and do -> od and don\n",
            "72 od and don -> d and don'\n",
            "73 d and don' ->  and don't\n",
            "74  and don't -> and don't \n",
            "75 and don't  -> nd don't a\n",
            "76 nd don't a -> d don't as\n",
            "77 d don't as ->  don't ass\n",
            "78  don't ass -> don't assi\n",
            "79 don't assi -> on't assig\n",
            "80 on't assig -> n't assign\n",
            "81 n't assign -> 't assign \n",
            "82 't assign  -> t assign t\n",
            "83 t assign t ->  assign th\n",
            "84  assign th -> assign the\n",
            "85 assign the -> ssign them\n",
            "86 ssign them -> sign them \n",
            "87 sign them  -> ign them t\n",
            "88 ign them t -> gn them ta\n",
            "89 gn them ta -> n them tas\n",
            "90 n them tas ->  them task\n",
            "91  them task -> them tasks\n",
            "92 them tasks -> hem tasks \n",
            "93 hem tasks  -> em tasks a\n",
            "94 em tasks a -> m tasks an\n",
            "95 m tasks an ->  tasks and\n",
            "96  tasks and -> tasks and \n",
            "97 tasks and  -> asks and w\n",
            "98 asks and w -> sks and wo\n",
            "99 sks and wo -> ks and wor\n",
            "100 ks and wor -> s and work\n",
            "101 s and work ->  and work,\n",
            "102  and work, -> and work, \n",
            "103 and work,  -> nd work, b\n",
            "104 nd work, b -> d work, bu\n",
            "105 d work, bu ->  work, but\n",
            "106  work, but -> work, but \n",
            "107 work, but  -> ork, but r\n",
            "108 ork, but r -> rk, but ra\n",
            "109 rk, but ra -> k, but rat\n",
            "110 k, but rat -> , but rath\n",
            "111 , but rath ->  but rathe\n",
            "112  but rathe -> but rather\n",
            "113 but rather -> ut rather \n",
            "114 ut rather  -> t rather t\n",
            "115 t rather t ->  rather te\n",
            "116  rather te -> rather tea\n",
            "117 rather tea -> ather teac\n",
            "118 ather teac -> ther teach\n",
            "119 ther teach -> her teach \n",
            "120 her teach  -> er teach t\n",
            "121 er teach t -> r teach th\n",
            "122 r teach th ->  teach the\n",
            "123  teach the -> teach them\n",
            "124 teach them -> each them \n",
            "125 each them  -> ach them t\n",
            "126 ach them t -> ch them to\n",
            "127 ch them to -> h them to \n",
            "128 h them to  ->  them to l\n",
            "129  them to l -> them to lo\n",
            "130 them to lo -> hem to lon\n",
            "131 hem to lon -> em to long\n",
            "132 em to long -> m to long \n",
            "133 m to long  ->  to long f\n",
            "134  to long f -> to long fo\n",
            "135 to long fo -> o long for\n",
            "136 o long for ->  long for \n",
            "137  long for  -> long for t\n",
            "138 long for t -> ong for th\n",
            "139 ong for th -> ng for the\n",
            "140 ng for the -> g for the \n",
            "141 g for the  ->  for the e\n",
            "142  for the e -> for the en\n",
            "143 for the en -> or the end\n",
            "144 or the end -> r the endl\n",
            "145 r the endl ->  the endle\n",
            "146  the endle -> the endles\n",
            "147 the endles -> he endless\n",
            "148 he endless -> e endless \n",
            "149 e endless  ->  endless i\n",
            "150  endless i -> endless im\n",
            "151 endless im -> ndless imm\n",
            "152 ndless imm -> dless imme\n",
            "153 dless imme -> less immen\n",
            "154 less immen -> ess immens\n",
            "155 ess immens -> ss immensi\n",
            "156 ss immensi -> s immensit\n",
            "157 s immensit ->  immensity\n",
            "158  immensity -> immensity \n",
            "159 immensity  -> mmensity o\n",
            "160 mmensity o -> mensity of\n",
            "161 mensity of -> ensity of \n",
            "162 ensity of  -> nsity of t\n",
            "163 nsity of t -> sity of th\n",
            "164 sity of th -> ity of the\n",
            "165 ity of the -> ty of the \n",
            "166 ty of the  -> y of the s\n",
            "167 y of the s ->  of the se\n",
            "168  of the se -> of the sea\n",
            "169 of the sea -> f the sea.\n"
          ],
          "name": "stdout"
        }
      ]
    },
    {
      "cell_type": "code",
      "metadata": {
        "id": "oAR3vTkAgLCk",
        "colab_type": "code",
        "colab": {}
      },
      "source": [
        "# numpy array를 tensor로 변환\n",
        "X = torch.FloatTensor(x_one_hot)\n",
        "Y = torch.LongTensor(y_data)"
      ],
      "execution_count": 0,
      "outputs": []
    },
    {
      "cell_type": "markdown",
      "metadata": {
        "id": "iT9fFU_Khx7Y",
        "colab_type": "text"
      },
      "source": [
        "![19-2.png](./img/19-2.png)"
      ]
    },
    {
      "cell_type": "code",
      "metadata": {
        "id": "l5MGqNJzgMvs",
        "colab_type": "code",
        "colab": {}
      },
      "source": [
        "# RNN + FC 정의\n",
        "class Net(torch.nn.Module):\n",
        "    def __init__(self, input_dim, hidden_dim, layers):\n",
        "        super(Net, self).__init__()\n",
        "        self.rnn = torch.nn.RNN(input_dim, hidden_dim, num_layers=layers, batch_first=True)\n",
        "        self.fc = torch.nn.Linear(hidden_dim, hidden_dim, bias=True)\n",
        "\n",
        "    def forward(self, x):\n",
        "        x, _status = self.rnn(x)\n",
        "        x = self.fc(x)\n",
        "        return x"
      ],
      "execution_count": 0,
      "outputs": []
    },
    {
      "cell_type": "code",
      "metadata": {
        "id": "0iV8mKADgOgU",
        "colab_type": "code",
        "colab": {}
      },
      "source": [
        "# 2는 RNN을 cell을 몇 개 쌓을 건지\n",
        "net = Net(dic_size, hidden_size, 2)"
      ],
      "execution_count": 0,
      "outputs": []
    },
    {
      "cell_type": "code",
      "metadata": {
        "id": "FfBknjsLgYvE",
        "colab_type": "code",
        "colab": {}
      },
      "source": [
        "# 손실함수 및 optimizer 정의\n",
        "criterion = torch.nn.CrossEntropyLoss()\n",
        "optimizer = optim.Adam(net.parameters(), learning_rate)"
      ],
      "execution_count": 0,
      "outputs": []
    },
    {
      "cell_type": "code",
      "metadata": {
        "id": "TBLXdrVpgaPH",
        "colab_type": "code",
        "colab": {
          "base_uri": "https://localhost:8080/",
          "height": 1000
        },
        "outputId": "fe8767ff-7696-4ce4-c46e-ee4a15eeb3fc"
      },
      "source": [
        "# 학습\n",
        "for i in range(100):\n",
        "    optimizer.zero_grad()\n",
        "    outputs = net(X)\n",
        "    loss = criterion(outputs.view(-1, dic_size), Y.view(-1))\n",
        "    loss.backward()\n",
        "    optimizer.step()\n",
        "\n",
        "    results = outputs.argmax(dim=2)\n",
        "    predict_str = \"\"\n",
        "    for j, result in enumerate(results):\n",
        "        # print(i, j, ''.join([char_set[t] for t in result]), loss.item())\n",
        "        if j == 0:\n",
        "            predict_str += ''.join([char_set[t] for t in result])\n",
        "        else:\n",
        "            # 앞의 것이랑 마지막 것 빼고 다 겹치기 때문에 마지막 것만\n",
        "            predict_str += char_set[result[-1]]\n",
        "\n",
        "    print(predict_str)"
      ],
      "execution_count": 12,
      "outputs": [
        {
          "output_type": "stream",
          "text": [
            "ngnnnnnnngfnnnnnngnignnnnnginnngfnnnnnnnngnniggnignngignngngnnnngnigfinnginnnnnnngfnnnggnngnnnngngnngnnngnngngngnnngnnngnngngnnngfnnngngnnnngfinnnnnnngngnnngnnnnnigngninngnnnngnnn\n",
            "tttttttfttfttftttttftttttttftttttfttttftttftftfftttftttfttttfttftftttttftftttfttttfftttttttttftttttttttttttttttftfttftttfttttttttttfttttfttftfftffttfttttttttttttttttttttttttfttttt\n",
            "tssssssssssssssssssssssssss sssssssssssssssssssssssssssssssssssssssssssssssssssssssssssssssssssssssssssssssssssssssssssssssssssssssssssssssssssssssssssssssssssssssssssssssssssssss\n",
            "   ..  h.dtft  fffept efdpd tfdptfdftptfpe etdfdptpefteefp  fft ffte ffe  fe  fftftftetftp  efett.ffe ffdpeftptftptpdftptftd fft ffdepptfft fftp pt fpe dfd tftft dfftdp.ddtefd tff\n",
            "   d  ed      e    e e   e e     o e      e   e  ee    ee  e   ee   e    ee  e              e        ee   e                 e   ee   e     ee   e  e        e      e           e   \n",
            " o r n r nooe ooooo o o n n o n o o nooo o o n n o o o   no  nn oooe oooo  ne o o o n o o    onooon o o n ooo o n o o o n oo  nn oono ooo e o noo o o n o noo e o e  oo oone onooo \n",
            " t e t e t          t   t t t t r   t        t t   r     t    t   t         t r   t t t       t d       t   t t t t   t   t   tt   t          t   r   r d t   t t t      ttt       \n",
            " t e t e t e e eete w w t t t t t d t  e e e t t e w t e te   tee te  eee ote w e t t t d  ee ttt    ee t e t t t t w t t  ee ttee t edteeeee t e e e t w d w t t t  t etttd dte w \n",
            " t t the t d  l l t t t t t t tltht tltt t e t t t t t ee d eltett t  lgl e d t e t t t t e e t ttt het d t tlt t t t tht td ettee t ettdhe t t t t t t t t t t t tltttettttltttlt \n",
            " t t tlt t to l tlt t t tlt t tlt t te toteo   t t t   t  eo lttttttotl  ot t t t tltotlttto    e eoh t t tlt t t tlt tle  t   ttt e  tlelt t tlt t t tlt t  ltltottethtlee oeetlt \n",
            " t t t t d do   t t t t t d t d t d    t t t e t t e   tt e   t e  t   ee e t t t t d tl  ht    t e t t d t t t t t t t    t ttt t    t e t t d t t t t e d t t d te tht   t e t t \n",
            " t t tot d d    tot d d d d d dod d  t t t t d d t e   tt t  ot e  d  o   e t d t d d d e  t  e d d   t d t   t d d t  o t d t t t    d e   t d t d tt  t d t t d  o e ted d e   t \n",
            "   t  t  doao e  ot d d d d d dot d  t t t   d e d e   tt do t ot  do o     d d d t a  ot et  d d  t ot d do  t d d t  o t d tt ot  t d    ot a t t  t  t d  o  t  e d  e  d    et \n",
            "   t dot d do   e d d d t d d dot d se   eot d d d t t et to otoe  d toe  o d t d tod t t sooot t  osot d dotot d t d toe  t   tod e  t eo od tod t d s d t t to   oensoa  t e s d \n",
            "  ot eoe t to   tot t d t t dotot tone to  o doe t   t  r to  s    to o   s toton t e sog oto t ao tootoe to  t t t g  o t to esotoer ao e og an  to rontod  oto  se eoet  d etoeto\n",
            "t ot nte t to d sod t t t t t tetntont t  o ot e t    oe nt nto d  t tt   s t t n  ot seg  eoet to to t t to    t t e neemnto tsot er to t  d ton t etnet t t to nse tonttet et et \n",
            "tset n t t toet e t t t d t t tot t  tet t   t t t   toe ntoettnd  t to   t t t t t t t t  aoem t eos t d to  t t t t toet toe t t er t et  d t r t e s d t t t r teet ets t e t t \n",
            "tseo ess d to d t t t t d t t  't do t t et  t t toee  em to't  d  t eo e t t t n'  d s deeehem toeto t t toe h t t e se r to thet em to t  d thr themh t t t tom se to th t emh t \n",
            "tseo d t d to d t d d t d t d  't eo e toet  r m toee hem to''o g  t do e t d t r'm dos dphthem toeto t d toekt d t e sh m toeth t em to 'o d t r t emh t t totom se toet  toemh t \n",
            "t eo d t d to d t d dnt d t d e't do t toeph r e toge hem togto '  t to d t d t d t d s soethem to cs t d toekt d t g toem toecs t em toepo g t d t e t d t totoc se toll  t emo t \n",
            "t to r t d to d t d dot d o d n't do t toelo r ectoge hem to po eo m to r t d t n't dos to toem to oi t d tolkt d t d toem to cs t em to 'o g t r t   t d e tsto   seto lo t emoot \n",
            "toto   o d so d t t totod o d n't do n toelo r m to e  em to 'o ee t do g t d ton't dos so toem to eo t d to kt d t g toem to ce toem to 'o ' t r t   t d e soto   seto po t emoon \n",
            "toth l o d to ' t d tntod i d n'totoem toelo r m to e hem to leiee d do g tnd ton'todosogmetoem toeeo t d to kt t thd toem to ce toem to len' t r the t d e sotl   seto po themton \n",
            "t io   ond so b t d tntotpi don'thdr t toepo r e to   hem to peiee t to g tnd tor'thdrsismethem toeeh t d to kt d t d toem to ch them to peng tnr the tnd ensntpee spto ph themesn \n",
            "tnio lsond to l i t tnt t i b n't dnum to pe r e to e hem to penee p to g tnd tor't dnsiemethem tos s t d to kt b t b toem torce the  to eenb tnr t e tnd e s t me sntorps the tnn \n",
            "tnio lsond wo b i d tnd ipt b n't drum to pe r ento e hem to penee p wo d tnd tor't dnsiemethem tosrf tnd to kt bud d toem torch them to benb fn  the tnd ensnipmerspth ph themtnn \n",
            "tnio laond wo b i d dndhipe don't drum to lh r ento   hem th ce ee t do d tnd dor't drsiem them tosto dnd to kt dud dutoem thrch them to bo g fn  toemtndlenshipme spth ph themtnnp\n",
            "tnto laond wo bui d tndhipe d n't drum to ph rlento e hem th ce le t do d tnd ton't drsiemethem tosks tnd to kt dut dutoem to ch the  to ce g tor toemtndlenshimme s th pf the tnnp\n",
            "tnto luo d wo bui d tnthip, don't drum to lh rle to   hem th le le t do d tnd ton't drsicn them thsks tnd tonkt tut duthem thrch the  th le g sor toemsndmesssimme s to pf the tsn \n",
            "tnto lwond wo bui d tnahip, don't drum to lh rlento e hem th cenle t do d tnd ton't srsigm them tosks tnd to k, tut d them th cs the  to ceng sor toe sndle s tm e s to pf the snn \n",
            "tnso lwond wo bui d tnahip, don't drum to lhnrlento enhem th cenle t wo d and ton't drsigm toem toses tnd tork, tut d ther to cs toem to len' snr themsndle s tmmens to pf toemsntm\n",
            "snto lwoud wo bui d tndhip, don't drum to lenrle to enher th cenle t wong and ton't arsign them thsks tnd tonk, tut r ther th th them th leng sor the sndless immens th lf themsntp\n",
            "wnto lwont wo bui d tndhip, don't arum to lenpee to enhem th conle t wonr tnd don't arsign them thsks tnd donk, aut r theruthnch the  th leng sor the sndle s immenskth pf the sntp\n",
            "wntoulwant wo bui d dndhip, don't arum to penple to enh r to colle t wood and don't arsign the  thsks and donk, aut rotyer toaco the  th ceng sor the sndle s immensith pf the estp\n",
            "wndo lwant wo bui d dndhip, don't arum to ph ple to enh r th co lect wood and don't aksign them thsks and donk, aut rosyer thdch them th cong sor the end ecs immensith pf themesip\n",
            "wntou want wo but d dndhip, don't arum to penple to enh r to collect wood and won't assigm them thscs and wonk, aut rather toach them th leng sor the end e s immensith pf the estp\n",
            "wntoupwant to but d dnship, don't arum to penple to enh r th phllect wood and don't assigngther thsks and dook, aut rrtyer thschether th cong for therssdlecs immetsith pf thershtm\n",
            "endo  want wo bui d dndhip, don't arum to penple to ethem th lolle t wold and don't assigm them thsks and tonk, but r ther thaco them th long fou the sngmenshsmmetsith pf the ehm \n",
            "fndo  wont to bui d dndhip, don't arum to penple to ether th lollect wood and don't basign them thsks and dorkt but ruther thnch them th long for the sndlecsiimmetsith pf the shn \n",
            "fndonpwant wo bui d dndhip, don't arum uo phnple to enher to collect wood and don't aasigo them thsks and dork, but ratyer thnch them to long for the sndlecs immetsith pf the shnp\n",
            "fndo  want wo bui d dnship, don't drum uo phople to ether th lollect wood and don't dasign them tosks and dork, but ratyer tosch the  to long for the sndlecs immetsity pf the sosm\n",
            "fodo  want to bui d aoship, don't drum uo phople to ethem to lollect wood and won't dasigm them tosks and dork, but rather tonch the  to long for the sndlecs immetsity pf the sntl\n",
            "fodo  want to bui a aodhip, don't drum uo phople together th lollect wood and aon't dasign them thsks and dork, but rather thnch them th long for the endlecs immetsity pf themehnp\n",
            "podou want to bui a andhip, don't drum uo people togenher te lollect wood and aon't dasign them tosks and aork, but rather teach them to long for themendlecs immensity pf themehsp\n",
            "pndou want to but a andhip, don't arum uo people togenher te collect wood and aon't assign the  tosks and aork, but rather teach the  to cong for the endlecs immensity of the ehsm\n",
            "pntou want to bui a andhip, don't arum uo people togenher to collect wood and won't dssign them tosks and work, but rather toach them to long for the endlecs immensity of the ehsm\n",
            "pntou want to bui a andhip, don't drum uo people togenher to collect wood and won't dssign them tosks and work, but rather toach them to long for themendlecs immensith of themeesm\n",
            "pntou want to buila andhip, don't drum un people togenher te collect wood and don't dssign them toski and dork, but rather teach the  t  long for the wndlecs immensity of the wham\n",
            "p tou want to build andhip, don't drum un people togenher te collect wood and don't dssign them tosks and work, but rather toach the  to long for the sndless immensity of the wham\n",
            "p sou want to build aoship, don't drum un people together to collect wood and don't dssign them tosks and work, but rather toach them to cong for the endless immensity of the eham\n",
            "f sou want to build a ship, don't drum un people together to collect wood and don't dssign them tosks and work, but rather toach them to long for the endless immensity of the ehap\n",
            "f sou want to build a ship, don't arum up people together to collect wood and don't dasign them tasks and work, but rather toach them ta long for the endless immensity of the eha.\n",
            "f sou want to build a ship, don't arum up people together to collect wood and don't dasign them tasks and work, but rather toach them ta long for the endless immensity of the eha.\n",
            "p sou want to build a ship, don't arum up people together to lollect wood and don't aasign them tasks and work, but rather toach them ta long for the endless immensity of the eha.\n",
            "p sou want to build a ship, don't arum up people together to collect wood and don't assign them tosks and work, but rather toach them to long for the end ess immensity of the eha.\n",
            "p sou want to build a ship, don't arum up people together to collect wood and don't assign them tosks and work, but rather toach them to long for the endless immensity of the eha.\n",
            "p sou want to build a ship, don't arum up people together to collect wood and don't assign them tosks and work, but rather toach them to long for the endless immensity of the eha.\n",
            "p you want to build a ship, don't arum up people together to collect wood and don't assign them tosks and work, but rather toach them to long for the endless immensity of the eha.\n",
            "m you want to build a ship, don't arum up people together to collect wood and don't assign them tosks and work, but rather toach them to long for the endless immensity of the eha.\n",
            "m you want to build a ship, don't drum up people together to collect wood and don't assign them tosks and work, but rather toach them to long for the endless immensity of the eha.\n",
            "g you want to build a ship, don't drum up people together to collect wood and don't dssign them tosks and work, but rather toach them to long for the endless immensity of the eha.\n",
            "g you want to build a ship, don't drum up people together to collect wood and don't dssign them tosks and work, but rather toach them to long for the endless immensity of the eha.\n",
            "m you want to build a ship, don't drum up people together to collect wood and don't assign them tosks and work, but rather toach them to long for the endless immensity of the eha.\n",
            "m you want to build a ship, don't arum up people together to collect wood and don't assign them tosks and work, but rather toach them to long for the endless immensity of the eha.\n",
            "m you want to build a ship, don't drum up people together to collect wood and don't assign them tosks and work, but rather toach them to long for the endless immensity of the eha.\n",
            "g you want to build a ship, don't drum up people together te collect wood and don't assign them tosks and work, but rather teach them to long for the endless immensity of the eha.\n",
            "g you want to build a ship, don't drum up people together to collect wood and don't dssign them tosks and work, but rather teach them to long for the endless immensity of the eha.\n",
            "g you want to build a ship, don't drum up people together to collect wood and don't dssign them tosks and work, but rather toach them to long for the endless immensity of the eha.\n",
            "p you want to build a ship, don't drum up people together to collect wood and don't assign them tosks and work, but rather teach them to long for the endless immensity of the eha.\n",
            "p you want to build a ship, don't drum up people together to collect wood and don't dssign them tosks and work, but rather toach them to long for the endless immensity of the sha.\n",
            "m you want to build a ship, don't drum up people together te collect wood and don't assign them tosks and work, but rather teach them to long for the endless immensity of the sea.\n",
            "g you want to build a ship, don't drum up people together to collect wood and don't assign them tosks and work, but rather teach them to long for the endless immensity of the sea.\n",
            "g you want to build a ship, don't drum up people together to collect wood and don't dssign them tosks and work, but rather teach them to long for the endless immensity of the sea.\n",
            "g you want to build a ship, don't drum up people together te collect wood and don't dssign them tosks and work, but rather teach them to long for the endless immensity of the sea.\n",
            "g you want to build a ship, don't drum up people together to collect wood and don't assign them tosks and work, but rather teach them to long for the endless immensity of the sea.\n",
            "m you want to build a ship, don't drum up people together to collect wood and don't assign them tosks and work, but rather teach them to long for the endless immensity of the sea.\n",
            "m you want to build a ship, don't drum up people together to collect wood and don't assign them tosks and work, but rather teach them to long for the endless immensity of the sea.\n",
            "g you want to build a ship, don't drum up people together to collect wood and don't assign them tosks and work, but rather teach them to long for the endless immensity of the sea.\n",
            "g you want to build a ship, don't drum up people together to collect wood and don't assign them tosks and work, but rather teach them to long for the endless immensity of the sea.\n",
            "g you want to build a ship, don't drum up people together to collect wood and don't assign them tosks and work, but rather teach them to long for the endless immensity of the sea.\n",
            "p you want to build a ship, don't drum up people together to collect wood and don't assign them tosks and work, but rather teach them ta long for the endless immensity of the sea.\n",
            "p you want to build a ship, don't drum up people together to collect wood and don't assign them tosks and work, but rather teach them to long for the endless immensity of the sea.\n",
            "m you want to build a ship, don't drum up people together to collect wood and don't assign them tosks and work, but rather teach them to long for the endless immensity of the sea.\n",
            "m you want to build a ship, don't drum up people together to collect wood and don't assign them tosks and work, but rather teach them to long for the endless immensity of the sea.\n",
            "f you want to build a ship, don't drum up people together to collect wood and don't assign them tosks and work, but rather teach them to long for the endless immensity of the sea.\n",
            "f you want to build a ship, don't drum up people together to collect wood and don't assign them tosks and work, but rather teach them to long for the endless immensity of the sea.\n",
            "f you want to build a ship, don't drum up people together to collect wood and don't assign them tosks and work, but rather teach them to long for the endless immensity of the sea.\n",
            "g you want to build a ship, don't drum up people together to collect wood and don't assign them tasks and work, but rather teach them ta long for the endless immensity of the sea.\n",
            "g you want to build a ship, don't drum up people together to collect wood and don't assign them tosks and work, but rather teach them to long for the endless immensity of the sea.\n",
            "m you want to build a ship, don't drum up people together to collect wood and don't assign them tosks and work, but rather teach them to long for the endless immensity of the sea.\n",
            "m you want to build a ship, don't drum up people together to collect wood and don't assign them tasks and work, but rather teach them to long for the endless immensity of the sea.\n",
            "m you want to build a ship, don't drum up people together to collect wood and don't assign them tasks and work, but rather teach them to long for the endless immensity of the sea.\n",
            "m you want to build a ship, don't drum up people together to collect wood and don't assign them tosks and work, but rather teach them to long for the endless immensity of the sea.\n",
            "m you want to build a ship, don't drum up people together to collect wood and don't assign them tosks and work, but rather teach them to long for the endless immensity of the sea.\n",
            "g you want to build a ship, don't drum up people together to collect wood and don't assign them tosks and work, but rather teach them to long for the endless immensity of the sea.\n",
            "g you want to build a ship, don't drum up people together to collect wood and don't assign them tasks and work, but rather teach them to long for the endless immensity of the sea.\n",
            "l you want to build a ship, don't drum up people together to collect wood and don't assign them tosks and work, but rather teach them to long for the endless immensity of the sea.\n",
            "g you want to build a ship, don't drum up people together to collect wood and don't assign them tosks and work, but rather teach them to long for the endless immensity of the sea.\n",
            "g you want to build a ship, don't drum up people together to collect wood and don't assign them tosks and work, but rather teach them to long for the endless immensity of the sea.\n",
            "p you want to build a ship, don't drum up people together to collect wood and don't assign them tosks and work, but rather teach them to long for the endless immensity of the sea.\n"
          ],
          "name": "stdout"
        }
      ]
    }
  ]
}