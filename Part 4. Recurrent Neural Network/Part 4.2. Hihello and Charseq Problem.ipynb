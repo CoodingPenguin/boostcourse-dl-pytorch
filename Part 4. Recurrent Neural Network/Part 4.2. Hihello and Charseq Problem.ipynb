{
  "nbformat": 4,
  "nbformat_minor": 0,
  "metadata": {
    "colab": {
      "name": "Part 4.2. Hihello and Charseq Problem.ipynb",
      "provenance": []
    },
    "kernelspec": {
      "name": "python3",
      "display_name": "Python 3"
    }
  },
  "cells": [
    {
      "cell_type": "markdown",
      "metadata": {
        "id": "VVXVmu6gY1Y_",
        "colab_type": "text"
      },
      "source": [
        "\n",
        "# Part 4.2. Hihello and Charseq Problem"
      ]
    },
    {
      "cell_type": "markdown",
      "metadata": {
        "id": "-hwzDRmNZPBQ",
        "colab_type": "text"
      },
      "source": [
        "## 1. How to Represent Characters\n",
        "### 1.1. By Index\n",
        "\n",
        "![18-1](./img/18-1.png)\n",
        "\n",
        "각 character에 따라서 index를 매겨준다.\n",
        "\n",
        "### 1.2. One-hot Encoding\n",
        "\n",
        "![18-2](./img/18-2.png)\n",
        "\n",
        "character의 개수만큼의 차원을 가진 벡터를 생성하여 자신의 위치를 1로 해준다. 즉, 문장 하나하나를 벡터화시킨다."
      ]
    },
    {
      "cell_type": "markdown",
      "metadata": {
        "id": "y171ATLhaap5",
        "colab_type": "text"
      },
      "source": [
        "## 2. Cross Entropy Loss\n",
        "categorical classification에서 많이 쓰이는 손실 함수이다. 보통 categorical classification에서는 output이 softmax의 결과값인데 이 확률값을 가지고 label을 예측한다."
      ]
    },
    {
      "cell_type": "markdown",
      "metadata": {
        "id": "RTGFOxu1azz8",
        "colab_type": "text"
      },
      "source": [
        "## 3. Hihello Problem Implementation\n",
        "문자를 입력 받으면 `h`, `i`, `h`, `e`, `l`, `l`, `o` 순서로 문자를 예측하는 문제"
      ]
    },
    {
      "cell_type": "code",
      "metadata": {
        "id": "SR4kFMQIShXc",
        "colab_type": "code",
        "colab": {}
      },
      "source": [
        "import torch\n",
        "import torch.optim as optim\n",
        "import numpy as np"
      ],
      "execution_count": 0,
      "outputs": []
    },
    {
      "cell_type": "code",
      "metadata": {
        "id": "xLWfL2X1a3BC",
        "colab_type": "code",
        "colab": {
          "base_uri": "https://localhost:8080/",
          "height": 35
        },
        "outputId": "c0be741c-d246-415e-e45f-8fe5dc30ad9b"
      },
      "source": [
        "torch.manual_seed(0)"
      ],
      "execution_count": 2,
      "outputs": [
        {
          "output_type": "execute_result",
          "data": {
            "text/plain": [
              "<torch._C.Generator at 0x7f361e116030>"
            ]
          },
          "metadata": {
            "tags": []
          },
          "execution_count": 2
        }
      ]
    },
    {
      "cell_type": "code",
      "metadata": {
        "id": "wqg1FgZFa4Hv",
        "colab_type": "code",
        "colab": {}
      },
      "source": [
        "# character 정의\n",
        "char_set = ['h', 'i', 'e', 'l', 'o']"
      ],
      "execution_count": 0,
      "outputs": []
    },
    {
      "cell_type": "code",
      "metadata": {
        "id": "DAab_C-la7b4",
        "colab_type": "code",
        "colab": {}
      },
      "source": [
        "# 하이퍼 파라미터 설정\n",
        "input_size = len(char_set)\n",
        "hidden_size = len(char_set)\n",
        "learning_rate = 0.1"
      ],
      "execution_count": 0,
      "outputs": []
    },
    {
      "cell_type": "code",
      "metadata": {
        "id": "aQ97ivqqbB9m",
        "colab_type": "code",
        "colab": {}
      },
      "source": [
        "# one hot encoding\n",
        "x_data = [[0, 1, 0, 2, 3, 3]]\n",
        "x_one_hot = [[[1, 0, 0, 0, 0],\n",
        "              [0, 1, 0, 0, 0],\n",
        "              [1, 0, 0, 0, 0],\n",
        "              [0, 0, 1, 0, 0],\n",
        "              [0, 0, 0, 1, 0],\n",
        "              [0, 0, 0, 1, 0]]]\n",
        "y_data = [[1, 0, 2, 3, 3, 4]]"
      ],
      "execution_count": 0,
      "outputs": []
    },
    {
      "cell_type": "code",
      "metadata": {
        "id": "6oSFSdZlbO0X",
        "colab_type": "code",
        "colab": {}
      },
      "source": [
        "# numpy에서 tensor로 변환\n",
        "X = torch.FloatTensor(x_one_hot)\n",
        "Y = torch.LongTensor(y_data)"
      ],
      "execution_count": 0,
      "outputs": []
    },
    {
      "cell_type": "code",
      "metadata": {
        "id": "AglP3y1ibbTv",
        "colab_type": "code",
        "colab": {}
      },
      "source": [
        "# RNN 정의\n",
        "rnn = torch.nn.RNN(input_size, hidden_size, batch_first=True)  "
      ],
      "execution_count": 0,
      "outputs": []
    },
    {
      "cell_type": "code",
      "metadata": {
        "id": "Su25_vGtbkjQ",
        "colab_type": "code",
        "colab": {}
      },
      "source": [
        "# 손실 함수 및 optimizer 정의\n",
        "criterion = torch.nn.CrossEntropyLoss()\n",
        "optimizer = optim.Adam(rnn.parameters(), learning_rate)"
      ],
      "execution_count": 0,
      "outputs": []
    },
    {
      "cell_type": "code",
      "metadata": {
        "id": "jPHfVcRObpOa",
        "colab_type": "code",
        "colab": {
          "base_uri": "https://localhost:8080/",
          "height": 1000
        },
        "outputId": "14a2c9ff-3ad4-4149-c8bc-65c615fd5470"
      },
      "source": [
        "# 학습\n",
        "for i in range(100):\n",
        "    optimizer.zero_grad()\n",
        "    outputs, _status = rnn(X)\n",
        "    loss = criterion(outputs.view(-1, input_size), Y.view(-1))\n",
        "    loss.backward()\n",
        "    optimizer.step()\n",
        "\n",
        "    result = outputs.data.numpy().argmax(axis=2)\n",
        "    result_str = ''.join([char_set[c] for c in np.squeeze(result)])\n",
        "    print(i, \"loss: \", loss.item(), \"prediction: \", result, \"true Y: \", y_data, \"prediction str: \", result_str)"
      ],
      "execution_count": 9,
      "outputs": [
        {
          "output_type": "stream",
          "text": [
            "0 loss:  1.7802648544311523 prediction:  [[1 1 1 1 1 1]] true Y:  [[1, 0, 2, 3, 3, 4]] prediction str:  iiiiii\n",
            "1 loss:  1.4931949377059937 prediction:  [[1 4 1 1 4 4]] true Y:  [[1, 0, 2, 3, 3, 4]] prediction str:  ioiioo\n",
            "2 loss:  1.33371102809906 prediction:  [[1 3 2 3 1 4]] true Y:  [[1, 0, 2, 3, 3, 4]] prediction str:  ilelio\n",
            "3 loss:  1.2152947187423706 prediction:  [[2 3 2 3 3 3]] true Y:  [[1, 0, 2, 3, 3, 4]] prediction str:  elelll\n",
            "4 loss:  1.1131387948989868 prediction:  [[2 3 2 3 3 3]] true Y:  [[1, 0, 2, 3, 3, 4]] prediction str:  elelll\n",
            "5 loss:  1.0241864919662476 prediction:  [[2 3 2 3 3 4]] true Y:  [[1, 0, 2, 3, 3, 4]] prediction str:  elello\n",
            "6 loss:  0.9573140740394592 prediction:  [[2 3 2 3 3 4]] true Y:  [[1, 0, 2, 3, 3, 4]] prediction str:  elello\n",
            "7 loss:  0.9102001786231995 prediction:  [[2 0 2 3 3 4]] true Y:  [[1, 0, 2, 3, 3, 4]] prediction str:  ehello\n",
            "8 loss:  0.8731765151023865 prediction:  [[1 0 2 3 3 4]] true Y:  [[1, 0, 2, 3, 3, 4]] prediction str:  ihello\n",
            "9 loss:  0.8399617671966553 prediction:  [[1 0 2 3 3 4]] true Y:  [[1, 0, 2, 3, 3, 4]] prediction str:  ihello\n",
            "10 loss:  0.8088943958282471 prediction:  [[1 0 2 3 3 4]] true Y:  [[1, 0, 2, 3, 3, 4]] prediction str:  ihello\n",
            "11 loss:  0.7812859416007996 prediction:  [[1 0 2 3 3 4]] true Y:  [[1, 0, 2, 3, 3, 4]] prediction str:  ihello\n",
            "12 loss:  0.7585341334342957 prediction:  [[1 3 2 3 3 4]] true Y:  [[1, 0, 2, 3, 3, 4]] prediction str:  ilello\n",
            "13 loss:  0.7401286959648132 prediction:  [[1 3 2 3 3 4]] true Y:  [[1, 0, 2, 3, 3, 4]] prediction str:  ilello\n",
            "14 loss:  0.7243585586547852 prediction:  [[1 3 2 3 3 4]] true Y:  [[1, 0, 2, 3, 3, 4]] prediction str:  ilello\n",
            "15 loss:  0.7091224193572998 prediction:  [[1 3 2 3 3 4]] true Y:  [[1, 0, 2, 3, 3, 4]] prediction str:  ilello\n",
            "16 loss:  0.6929273009300232 prediction:  [[1 3 2 3 3 4]] true Y:  [[1, 0, 2, 3, 3, 4]] prediction str:  ilello\n",
            "17 loss:  0.6821203231811523 prediction:  [[1 3 2 3 3 4]] true Y:  [[1, 0, 2, 3, 3, 4]] prediction str:  ilello\n",
            "18 loss:  0.673527717590332 prediction:  [[1 3 2 3 3 4]] true Y:  [[1, 0, 2, 3, 3, 4]] prediction str:  ilello\n",
            "19 loss:  0.6595445275306702 prediction:  [[1 3 2 3 3 4]] true Y:  [[1, 0, 2, 3, 3, 4]] prediction str:  ilello\n",
            "20 loss:  0.6534827351570129 prediction:  [[1 3 2 3 3 4]] true Y:  [[1, 0, 2, 3, 3, 4]] prediction str:  ilello\n",
            "21 loss:  0.6465460658073425 prediction:  [[1 3 2 3 3 4]] true Y:  [[1, 0, 2, 3, 3, 4]] prediction str:  ilello\n",
            "22 loss:  0.6398186087608337 prediction:  [[1 3 2 3 3 4]] true Y:  [[1, 0, 2, 3, 3, 4]] prediction str:  ilello\n",
            "23 loss:  0.6381519436836243 prediction:  [[1 3 2 3 3 4]] true Y:  [[1, 0, 2, 3, 3, 4]] prediction str:  ilello\n",
            "24 loss:  0.6326724886894226 prediction:  [[1 3 2 3 3 4]] true Y:  [[1, 0, 2, 3, 3, 4]] prediction str:  ilello\n",
            "25 loss:  0.6256729960441589 prediction:  [[1 3 2 3 3 4]] true Y:  [[1, 0, 2, 3, 3, 4]] prediction str:  ilello\n",
            "26 loss:  0.6215081810951233 prediction:  [[1 3 2 3 3 4]] true Y:  [[1, 0, 2, 3, 3, 4]] prediction str:  ilello\n",
            "27 loss:  0.616705596446991 prediction:  [[1 3 2 3 3 4]] true Y:  [[1, 0, 2, 3, 3, 4]] prediction str:  ilello\n",
            "28 loss:  0.6099364757537842 prediction:  [[1 3 2 3 3 4]] true Y:  [[1, 0, 2, 3, 3, 4]] prediction str:  ilello\n",
            "29 loss:  0.6030198931694031 prediction:  [[1 3 2 3 3 4]] true Y:  [[1, 0, 2, 3, 3, 4]] prediction str:  ilello\n",
            "30 loss:  0.5992398262023926 prediction:  [[1 3 2 3 3 4]] true Y:  [[1, 0, 2, 3, 3, 4]] prediction str:  ilello\n",
            "31 loss:  0.5964338779449463 prediction:  [[1 3 2 3 3 4]] true Y:  [[1, 0, 2, 3, 3, 4]] prediction str:  ilello\n",
            "32 loss:  0.5916648507118225 prediction:  [[1 3 2 3 3 4]] true Y:  [[1, 0, 2, 3, 3, 4]] prediction str:  ilello\n",
            "33 loss:  0.5881564021110535 prediction:  [[1 3 2 3 3 4]] true Y:  [[1, 0, 2, 3, 3, 4]] prediction str:  ilello\n",
            "34 loss:  0.585434079170227 prediction:  [[1 3 2 3 3 4]] true Y:  [[1, 0, 2, 3, 3, 4]] prediction str:  ilello\n",
            "35 loss:  0.5813192129135132 prediction:  [[1 3 2 3 3 4]] true Y:  [[1, 0, 2, 3, 3, 4]] prediction str:  ilello\n",
            "36 loss:  0.5761869549751282 prediction:  [[1 3 2 3 3 4]] true Y:  [[1, 0, 2, 3, 3, 4]] prediction str:  ilello\n",
            "37 loss:  0.5734921097755432 prediction:  [[1 3 2 3 3 4]] true Y:  [[1, 0, 2, 3, 3, 4]] prediction str:  ilello\n",
            "38 loss:  0.5727558732032776 prediction:  [[1 3 2 3 3 4]] true Y:  [[1, 0, 2, 3, 3, 4]] prediction str:  ilello\n",
            "39 loss:  0.5682086944580078 prediction:  [[1 3 2 3 3 4]] true Y:  [[1, 0, 2, 3, 3, 4]] prediction str:  ilello\n",
            "40 loss:  0.5656264424324036 prediction:  [[1 3 2 3 3 4]] true Y:  [[1, 0, 2, 3, 3, 4]] prediction str:  ilello\n",
            "41 loss:  0.5647334456443787 prediction:  [[1 3 2 3 3 4]] true Y:  [[1, 0, 2, 3, 3, 4]] prediction str:  ilello\n",
            "42 loss:  0.5629469156265259 prediction:  [[1 3 2 3 3 4]] true Y:  [[1, 0, 2, 3, 3, 4]] prediction str:  ilello\n",
            "43 loss:  0.560376763343811 prediction:  [[1 3 2 3 3 4]] true Y:  [[1, 0, 2, 3, 3, 4]] prediction str:  ilello\n",
            "44 loss:  0.5588172078132629 prediction:  [[1 3 2 3 3 4]] true Y:  [[1, 0, 2, 3, 3, 4]] prediction str:  ilello\n",
            "45 loss:  0.5584633946418762 prediction:  [[1 3 2 3 3 4]] true Y:  [[1, 0, 2, 3, 3, 4]] prediction str:  ilello\n",
            "46 loss:  0.5565399527549744 prediction:  [[1 3 2 3 3 4]] true Y:  [[1, 0, 2, 3, 3, 4]] prediction str:  ilello\n",
            "47 loss:  0.5548030734062195 prediction:  [[1 3 2 3 3 4]] true Y:  [[1, 0, 2, 3, 3, 4]] prediction str:  ilello\n",
            "48 loss:  0.5542734265327454 prediction:  [[1 3 2 3 3 4]] true Y:  [[1, 0, 2, 3, 3, 4]] prediction str:  ilello\n",
            "49 loss:  0.5534440875053406 prediction:  [[1 3 2 3 3 4]] true Y:  [[1, 0, 2, 3, 3, 4]] prediction str:  ilello\n",
            "50 loss:  0.552009642124176 prediction:  [[1 3 2 3 3 4]] true Y:  [[1, 0, 2, 3, 3, 4]] prediction str:  ilello\n",
            "51 loss:  0.5510938167572021 prediction:  [[1 3 2 3 3 4]] true Y:  [[1, 0, 2, 3, 3, 4]] prediction str:  ilello\n",
            "52 loss:  0.5506716370582581 prediction:  [[1 3 2 3 3 4]] true Y:  [[1, 0, 2, 3, 3, 4]] prediction str:  ilello\n",
            "53 loss:  0.5493642687797546 prediction:  [[1 3 2 3 3 4]] true Y:  [[1, 0, 2, 3, 3, 4]] prediction str:  ilello\n",
            "54 loss:  0.5483370423316956 prediction:  [[1 3 2 3 3 4]] true Y:  [[1, 0, 2, 3, 3, 4]] prediction str:  ilello\n",
            "55 loss:  0.5478050708770752 prediction:  [[1 3 2 3 3 4]] true Y:  [[1, 0, 2, 3, 3, 4]] prediction str:  ilello\n",
            "56 loss:  0.5469383597373962 prediction:  [[1 3 2 3 3 4]] true Y:  [[1, 0, 2, 3, 3, 4]] prediction str:  ilello\n",
            "57 loss:  0.5459226965904236 prediction:  [[1 3 2 3 3 4]] true Y:  [[1, 0, 2, 3, 3, 4]] prediction str:  ilello\n",
            "58 loss:  0.5454025864601135 prediction:  [[1 3 2 3 3 4]] true Y:  [[1, 0, 2, 3, 3, 4]] prediction str:  ilello\n",
            "59 loss:  0.5448521971702576 prediction:  [[1 3 2 3 3 4]] true Y:  [[1, 0, 2, 3, 3, 4]] prediction str:  ilello\n",
            "60 loss:  0.543980598449707 prediction:  [[1 3 2 3 3 4]] true Y:  [[1, 0, 2, 3, 3, 4]] prediction str:  ilello\n",
            "61 loss:  0.5434583425521851 prediction:  [[1 3 2 3 3 4]] true Y:  [[1, 0, 2, 3, 3, 4]] prediction str:  ilello\n",
            "62 loss:  0.5429834723472595 prediction:  [[1 3 2 3 3 4]] true Y:  [[1, 0, 2, 3, 3, 4]] prediction str:  ilello\n",
            "63 loss:  0.5422742962837219 prediction:  [[1 3 2 3 3 4]] true Y:  [[1, 0, 2, 3, 3, 4]] prediction str:  ilello\n",
            "64 loss:  0.5417041182518005 prediction:  [[1 3 2 3 3 4]] true Y:  [[1, 0, 2, 3, 3, 4]] prediction str:  ilello\n",
            "65 loss:  0.5413309335708618 prediction:  [[1 3 2 3 3 4]] true Y:  [[1, 0, 2, 3, 3, 4]] prediction str:  ilello\n",
            "66 loss:  0.5407488942146301 prediction:  [[1 3 2 3 3 4]] true Y:  [[1, 0, 2, 3, 3, 4]] prediction str:  ilello\n",
            "67 loss:  0.5402577519416809 prediction:  [[1 3 2 3 3 4]] true Y:  [[1, 0, 2, 3, 3, 4]] prediction str:  ilello\n",
            "68 loss:  0.5399190783500671 prediction:  [[1 3 2 3 3 4]] true Y:  [[1, 0, 2, 3, 3, 4]] prediction str:  ilello\n",
            "69 loss:  0.5394623875617981 prediction:  [[1 3 2 3 3 4]] true Y:  [[1, 0, 2, 3, 3, 4]] prediction str:  ilello\n",
            "70 loss:  0.539009153842926 prediction:  [[1 3 2 3 3 4]] true Y:  [[1, 0, 2, 3, 3, 4]] prediction str:  ilello\n",
            "71 loss:  0.5387027859687805 prediction:  [[1 3 2 3 3 4]] true Y:  [[1, 0, 2, 3, 3, 4]] prediction str:  ilello\n",
            "72 loss:  0.5383160710334778 prediction:  [[1 3 2 3 3 4]] true Y:  [[1, 0, 2, 3, 3, 4]] prediction str:  ilello\n",
            "73 loss:  0.5379176735877991 prediction:  [[1 3 2 3 3 4]] true Y:  [[1, 0, 2, 3, 3, 4]] prediction str:  ilello\n",
            "74 loss:  0.5376289486885071 prediction:  [[1 3 2 3 3 4]] true Y:  [[1, 0, 2, 3, 3, 4]] prediction str:  ilello\n",
            "75 loss:  0.5372946858406067 prediction:  [[1 3 2 3 3 4]] true Y:  [[1, 0, 2, 3, 3, 4]] prediction str:  ilello\n",
            "76 loss:  0.5369362831115723 prediction:  [[1 3 2 3 3 4]] true Y:  [[1, 0, 2, 3, 3, 4]] prediction str:  ilello\n",
            "77 loss:  0.536663830280304 prediction:  [[1 3 2 3 3 4]] true Y:  [[1, 0, 2, 3, 3, 4]] prediction str:  ilello\n",
            "78 loss:  0.5363660454750061 prediction:  [[1 3 2 3 3 4]] true Y:  [[1, 0, 2, 3, 3, 4]] prediction str:  ilello\n",
            "79 loss:  0.5360466837882996 prediction:  [[1 3 2 3 3 4]] true Y:  [[1, 0, 2, 3, 3, 4]] prediction str:  ilello\n",
            "80 loss:  0.535793125629425 prediction:  [[1 3 2 3 3 4]] true Y:  [[1, 0, 2, 3, 3, 4]] prediction str:  ilello\n",
            "81 loss:  0.5355224013328552 prediction:  [[1 3 2 3 3 4]] true Y:  [[1, 0, 2, 3, 3, 4]] prediction str:  ilello\n",
            "82 loss:  0.5352356433868408 prediction:  [[1 3 2 3 3 4]] true Y:  [[1, 0, 2, 3, 3, 4]] prediction str:  ilello\n",
            "83 loss:  0.5349992513656616 prediction:  [[1 3 2 3 3 4]] true Y:  [[1, 0, 2, 3, 3, 4]] prediction str:  ilello\n",
            "84 loss:  0.5347511172294617 prediction:  [[1 3 2 3 3 4]] true Y:  [[1, 0, 2, 3, 3, 4]] prediction str:  ilello\n",
            "85 loss:  0.5344937443733215 prediction:  [[1 3 2 3 3 4]] true Y:  [[1, 0, 2, 3, 3, 4]] prediction str:  ilello\n",
            "86 loss:  0.534275472164154 prediction:  [[1 3 2 3 3 4]] true Y:  [[1, 0, 2, 3, 3, 4]] prediction str:  ilello\n",
            "87 loss:  0.534046471118927 prediction:  [[1 3 2 3 3 4]] true Y:  [[1, 0, 2, 3, 3, 4]] prediction str:  ilello\n",
            "88 loss:  0.5338149666786194 prediction:  [[1 3 2 3 3 4]] true Y:  [[1, 0, 2, 3, 3, 4]] prediction str:  ilello\n",
            "89 loss:  0.5336135625839233 prediction:  [[1 3 2 3 3 4]] true Y:  [[1, 0, 2, 3, 3, 4]] prediction str:  ilello\n",
            "90 loss:  0.5334024429321289 prediction:  [[1 3 2 3 3 4]] true Y:  [[1, 0, 2, 3, 3, 4]] prediction str:  ilello\n",
            "91 loss:  0.5331950783729553 prediction:  [[1 3 2 3 3 4]] true Y:  [[1, 0, 2, 3, 3, 4]] prediction str:  ilello\n",
            "92 loss:  0.5330094695091248 prediction:  [[1 3 2 3 3 4]] true Y:  [[1, 0, 2, 3, 3, 4]] prediction str:  ilello\n",
            "93 loss:  0.5328157544136047 prediction:  [[1 3 2 3 3 4]] true Y:  [[1, 0, 2, 3, 3, 4]] prediction str:  ilello\n",
            "94 loss:  0.5326293110847473 prediction:  [[1 3 2 3 3 4]] true Y:  [[1, 0, 2, 3, 3, 4]] prediction str:  ilello\n",
            "95 loss:  0.5324582457542419 prediction:  [[1 3 2 3 3 4]] true Y:  [[1, 0, 2, 3, 3, 4]] prediction str:  ilello\n",
            "96 loss:  0.5322802662849426 prediction:  [[1 3 2 3 3 4]] true Y:  [[1, 0, 2, 3, 3, 4]] prediction str:  ilello\n",
            "97 loss:  0.5321123600006104 prediction:  [[1 3 2 3 3 4]] true Y:  [[1, 0, 2, 3, 3, 4]] prediction str:  ilello\n",
            "98 loss:  0.5319532752037048 prediction:  [[1 3 2 3 3 4]] true Y:  [[1, 0, 2, 3, 3, 4]] prediction str:  ilello\n",
            "99 loss:  0.5317898988723755 prediction:  [[1 3 2 3 3 4]] true Y:  [[1, 0, 2, 3, 3, 4]] prediction str:  ilello\n"
          ],
          "name": "stdout"
        }
      ]
    },
    {
      "cell_type": "markdown",
      "metadata": {
        "id": "zrNoJvzEcH48",
        "colab_type": "text"
      },
      "source": [
        "## 4. Charseq Problem Implementation\n",
        "특정 문자를 입력하면 해당 문자열을 학습하고 어떤 문자를 입력으로 넣을 때 다음 문자를 예측하는 문제"
      ]
    },
    {
      "cell_type": "code",
      "metadata": {
        "id": "8yWsX74ychss",
        "colab_type": "code",
        "colab": {}
      },
      "source": [
        "import torch\n",
        "import torch.optim as optim\n",
        "import numpy as np"
      ],
      "execution_count": 0,
      "outputs": []
    },
    {
      "cell_type": "code",
      "metadata": {
        "id": "4PzTlNPmcj4x",
        "colab_type": "code",
        "colab": {
          "base_uri": "https://localhost:8080/",
          "height": 35
        },
        "outputId": "2ed1f44c-50bc-40e9-fea2-b833a92ffb9f"
      },
      "source": [
        "torch.manual_seed(0)"
      ],
      "execution_count": 11,
      "outputs": [
        {
          "output_type": "execute_result",
          "data": {
            "text/plain": [
              "<torch._C.Generator at 0x7f361e116030>"
            ]
          },
          "metadata": {
            "tags": []
          },
          "execution_count": 11
        }
      ]
    },
    {
      "cell_type": "code",
      "metadata": {
        "id": "DIev8QDncNGt",
        "colab_type": "code",
        "colab": {}
      },
      "source": [
        "# 예시 문장 정의\n",
        "sample = \" if you want you\""
      ],
      "execution_count": 0,
      "outputs": []
    },
    {
      "cell_type": "code",
      "metadata": {
        "id": "1mZ4jTUpcnOZ",
        "colab_type": "code",
        "colab": {
          "base_uri": "https://localhost:8080/",
          "height": 35
        },
        "outputId": "1f684081-b3bb-4ba8-b764-78a42759beae"
      },
      "source": [
        "# 각 셈플의 맞는 딕셔너리 정의\n",
        "char_set = list(set(sample))\n",
        "char_dic = {c: i for i, c in enumerate(char_set)}\n",
        "print(char_dic)"
      ],
      "execution_count": 13,
      "outputs": [
        {
          "output_type": "stream",
          "text": [
            "{'f': 0, 'w': 1, 'a': 2, ' ': 3, 'o': 4, 't': 5, 'i': 6, 'y': 7, 'u': 8, 'n': 9}\n"
          ],
          "name": "stdout"
        }
      ]
    },
    {
      "cell_type": "code",
      "metadata": {
        "id": "RLpH3H7jconK",
        "colab_type": "code",
        "colab": {}
      },
      "source": [
        "# 하이퍼 파라미터 설정\n",
        "dic_size = len(char_dic)\n",
        "hidden_size = len(char_dic)\n",
        "learning_rate = 0.1"
      ],
      "execution_count": 0,
      "outputs": []
    },
    {
      "cell_type": "code",
      "metadata": {
        "id": "54NcxhZScqTt",
        "colab_type": "code",
        "colab": {}
      },
      "source": [
        "# one-hot encoding\n",
        "sample_idx = [char_dic[c] for c in sample]\n",
        "x_data = [sample_idx[:-1]]\n",
        "x_one_hot = [np.eye(dic_size)[x] for x in x_data]\n",
        "y_data = [sample_idx[1:]]"
      ],
      "execution_count": 0,
      "outputs": []
    },
    {
      "cell_type": "code",
      "metadata": {
        "id": "i1a3P4cCcsJ1",
        "colab_type": "code",
        "colab": {}
      },
      "source": [
        "# numpy를 tensor로 변환\n",
        "X = torch.FloatTensor(x_one_hot)\n",
        "Y = torch.LongTensor(y_data)"
      ],
      "execution_count": 0,
      "outputs": []
    },
    {
      "cell_type": "code",
      "metadata": {
        "id": "6BIsleXKctrD",
        "colab_type": "code",
        "colab": {}
      },
      "source": [
        "# RNN 정의\n",
        "rnn = torch.nn.RNN(dic_size, hidden_size, batch_first=True)"
      ],
      "execution_count": 0,
      "outputs": []
    },
    {
      "cell_type": "code",
      "metadata": {
        "id": "IVXVEkeOcv66",
        "colab_type": "code",
        "colab": {}
      },
      "source": [
        "# 손실함수 및 optimizer 정의\n",
        "criterion = torch.nn.CrossEntropyLoss()\n",
        "optimizer = optim.Adam(rnn.parameters(), learning_rate)"
      ],
      "execution_count": 0,
      "outputs": []
    },
    {
      "cell_type": "code",
      "metadata": {
        "id": "Q_jsDWSkcwbm",
        "colab_type": "code",
        "colab": {
          "base_uri": "https://localhost:8080/",
          "height": 906
        },
        "outputId": "ea26bc50-49af-40a4-9c33-6b114cc63fea"
      },
      "source": [
        "# 학습\n",
        "for i in range(50):\n",
        "    optimizer.zero_grad()\n",
        "    outputs, _status = rnn(X)\n",
        "    \n",
        "    # batch 차원이 앞으로 오도록 변형\n",
        "    loss = criterion(outputs.view(-1, dic_size), Y.view(-1))\n",
        "    loss.backward()\n",
        "    optimizer.step()\n",
        "\n",
        "    result = outputs.data.numpy().argmax(axis=2)\n",
        "    result_str = ''.join([char_set[c] for c in np.squeeze(result)])\n",
        "    print(i, \"loss: \", loss.item(), \"prediction: \", result, \"true Y: \", y_data, \"prediction str: \", result_str)"
      ],
      "execution_count": 20,
      "outputs": [
        {
          "output_type": "stream",
          "text": [
            "0 loss:  2.305145740509033 prediction:  [[7 7 5 7 0 5 7 7 8 7 6 7 7 0 5]] true Y:  [[6, 0, 3, 7, 4, 8, 3, 1, 2, 9, 5, 3, 7, 4, 8]] prediction str:  yytyftyyuyiyyft\n",
            "1 loss:  2.0031704902648926 prediction:  [[7 4 5 7 4 8 8 5 2 8 5 8 7 4 8]] true Y:  [[6, 0, 3, 7, 4, 8, 3, 1, 2, 9, 5, 3, 7, 4, 8]] prediction str:  yotyouutautuyou\n",
            "2 loss:  1.7772190570831299 prediction:  [[7 4 8 7 4 8 3 1 0 4 5 8 7 4 8]] true Y:  [[6, 0, 3, 7, 4, 8, 3, 1, 2, 9, 5, 3, 7, 4, 8]] prediction str:  youyou wfotuyou\n",
            "3 loss:  1.5842626094818115 prediction:  [[1 4 8 7 4 8 3 1 0 4 5 3 7 4 8]] true Y:  [[6, 0, 3, 7, 4, 8, 3, 1, 2, 9, 5, 3, 7, 4, 8]] prediction str:  wouyou wfot you\n",
            "4 loss:  1.438240647315979 prediction:  [[6 4 3 7 4 8 3 1 0 4 5 3 7 4 8]] true Y:  [[6, 0, 3, 7, 4, 8, 3, 1, 2, 9, 5, 3, 7, 4, 8]] prediction str:  io you wfot you\n",
            "5 loss:  1.3197821378707886 prediction:  [[6 4 3 7 4 8 3 1 0 4 5 3 7 4 8]] true Y:  [[6, 0, 3, 7, 4, 8, 3, 1, 2, 9, 5, 3, 7, 4, 8]] prediction str:  io you wfot you\n",
            "6 loss:  1.2117397785186768 prediction:  [[6 0 3 7 4 8 3 1 0 4 5 3 7 4 8]] true Y:  [[6, 0, 3, 7, 4, 8, 3, 1, 2, 9, 5, 3, 7, 4, 8]] prediction str:  if you wfot you\n",
            "7 loss:  1.1374952793121338 prediction:  [[6 0 3 7 4 8 3 1 0 4 5 3 7 4 8]] true Y:  [[6, 0, 3, 7, 4, 8, 3, 1, 2, 9, 5, 3, 7, 4, 8]] prediction str:  if you wfot you\n",
            "8 loss:  1.0904548168182373 prediction:  [[6 0 3 7 4 8 3 1 0 4 5 3 7 4 8]] true Y:  [[6, 0, 3, 7, 4, 8, 3, 1, 2, 9, 5, 3, 7, 4, 8]] prediction str:  if you wfot you\n",
            "9 loss:  1.0412876605987549 prediction:  [[6 0 3 7 4 8 3 1 0 9 5 3 7 4 8]] true Y:  [[6, 0, 3, 7, 4, 8, 3, 1, 2, 9, 5, 3, 7, 4, 8]] prediction str:  if you wfnt you\n",
            "10 loss:  1.0140267610549927 prediction:  [[6 0 3 7 4 8 3 1 0 9 5 3 7 4 8]] true Y:  [[6, 0, 3, 7, 4, 8, 3, 1, 2, 9, 5, 3, 7, 4, 8]] prediction str:  if you wfnt you\n",
            "11 loss:  0.9888467192649841 prediction:  [[6 0 3 7 4 8 3 1 0 9 5 3 7 4 8]] true Y:  [[6, 0, 3, 7, 4, 8, 3, 1, 2, 9, 5, 3, 7, 4, 8]] prediction str:  if you wfnt you\n",
            "12 loss:  0.9646939039230347 prediction:  [[6 0 3 7 4 8 3 1 0 9 5 3 7 4 8]] true Y:  [[6, 0, 3, 7, 4, 8, 3, 1, 2, 9, 5, 3, 7, 4, 8]] prediction str:  if you wfnt you\n",
            "13 loss:  0.9502435326576233 prediction:  [[6 0 3 7 4 8 3 1 0 9 5 3 7 4 8]] true Y:  [[6, 0, 3, 7, 4, 8, 3, 1, 2, 9, 5, 3, 7, 4, 8]] prediction str:  if you wfnt you\n",
            "14 loss:  0.9333980679512024 prediction:  [[6 0 3 7 4 8 3 1 0 9 5 3 7 4 8]] true Y:  [[6, 0, 3, 7, 4, 8, 3, 1, 2, 9, 5, 3, 7, 4, 8]] prediction str:  if you wfnt you\n",
            "15 loss:  0.9179210662841797 prediction:  [[6 0 3 7 4 8 3 1 0 9 5 3 7 4 8]] true Y:  [[6, 0, 3, 7, 4, 8, 3, 1, 2, 9, 5, 3, 7, 4, 8]] prediction str:  if you wfnt you\n",
            "16 loss:  0.9100229740142822 prediction:  [[6 0 3 7 4 8 3 1 0 9 5 3 7 4 8]] true Y:  [[6, 0, 3, 7, 4, 8, 3, 1, 2, 9, 5, 3, 7, 4, 8]] prediction str:  if you wfnt you\n",
            "17 loss:  0.8984138369560242 prediction:  [[6 0 3 7 4 8 3 1 0 9 5 3 7 4 8]] true Y:  [[6, 0, 3, 7, 4, 8, 3, 1, 2, 9, 5, 3, 7, 4, 8]] prediction str:  if you wfnt you\n",
            "18 loss:  0.8920605778694153 prediction:  [[6 0 3 7 4 8 3 1 0 9 5 3 7 4 8]] true Y:  [[6, 0, 3, 7, 4, 8, 3, 1, 2, 9, 5, 3, 7, 4, 8]] prediction str:  if you wfnt you\n",
            "19 loss:  0.8841588497161865 prediction:  [[6 0 3 7 4 8 3 1 0 9 5 3 7 4 8]] true Y:  [[6, 0, 3, 7, 4, 8, 3, 1, 2, 9, 5, 3, 7, 4, 8]] prediction str:  if you wfnt you\n",
            "20 loss:  0.878512978553772 prediction:  [[6 0 3 7 4 8 3 1 0 9 5 3 7 4 8]] true Y:  [[6, 0, 3, 7, 4, 8, 3, 1, 2, 9, 5, 3, 7, 4, 8]] prediction str:  if you wfnt you\n",
            "21 loss:  0.8736347556114197 prediction:  [[6 0 3 7 4 8 3 1 0 9 5 3 7 4 8]] true Y:  [[6, 0, 3, 7, 4, 8, 3, 1, 2, 9, 5, 3, 7, 4, 8]] prediction str:  if you wfnt you\n",
            "22 loss:  0.8683421015739441 prediction:  [[6 0 3 7 4 8 3 1 0 9 5 3 7 4 8]] true Y:  [[6, 0, 3, 7, 4, 8, 3, 1, 2, 9, 5, 3, 7, 4, 8]] prediction str:  if you wfnt you\n",
            "23 loss:  0.864358127117157 prediction:  [[6 0 3 7 4 8 3 1 0 9 5 3 7 4 8]] true Y:  [[6, 0, 3, 7, 4, 8, 3, 1, 2, 9, 5, 3, 7, 4, 8]] prediction str:  if you wfnt you\n",
            "24 loss:  0.8616176247596741 prediction:  [[6 0 3 7 4 8 3 1 0 9 5 3 7 4 8]] true Y:  [[6, 0, 3, 7, 4, 8, 3, 1, 2, 9, 5, 3, 7, 4, 8]] prediction str:  if you wfnt you\n",
            "25 loss:  0.8590469360351562 prediction:  [[6 0 3 7 4 8 3 1 2 9 5 3 7 4 8]] true Y:  [[6, 0, 3, 7, 4, 8, 3, 1, 2, 9, 5, 3, 7, 4, 8]] prediction str:  if you want you\n",
            "26 loss:  0.8562904000282288 prediction:  [[6 0 3 7 4 8 3 1 2 9 5 3 7 4 8]] true Y:  [[6, 0, 3, 7, 4, 8, 3, 1, 2, 9, 5, 3, 7, 4, 8]] prediction str:  if you want you\n",
            "27 loss:  0.8537224531173706 prediction:  [[6 0 3 7 4 8 3 1 2 9 5 3 7 4 8]] true Y:  [[6, 0, 3, 7, 4, 8, 3, 1, 2, 9, 5, 3, 7, 4, 8]] prediction str:  if you want you\n",
            "28 loss:  0.8517593145370483 prediction:  [[6 0 3 7 4 8 3 1 2 9 5 3 7 4 8]] true Y:  [[6, 0, 3, 7, 4, 8, 3, 1, 2, 9, 5, 3, 7, 4, 8]] prediction str:  if you want you\n",
            "29 loss:  0.8499776124954224 prediction:  [[6 0 3 7 4 8 3 1 2 9 5 3 7 4 8]] true Y:  [[6, 0, 3, 7, 4, 8, 3, 1, 2, 9, 5, 3, 7, 4, 8]] prediction str:  if you want you\n",
            "30 loss:  0.8477638363838196 prediction:  [[6 0 3 7 4 8 3 1 2 9 5 3 7 4 8]] true Y:  [[6, 0, 3, 7, 4, 8, 3, 1, 2, 9, 5, 3, 7, 4, 8]] prediction str:  if you want you\n",
            "31 loss:  0.8454917669296265 prediction:  [[6 0 3 7 4 8 3 1 2 9 5 3 7 4 8]] true Y:  [[6, 0, 3, 7, 4, 8, 3, 1, 2, 9, 5, 3, 7, 4, 8]] prediction str:  if you want you\n",
            "32 loss:  0.8431405425071716 prediction:  [[6 0 3 7 4 8 3 1 2 9 5 3 7 4 8]] true Y:  [[6, 0, 3, 7, 4, 8, 3, 1, 2, 9, 5, 3, 7, 4, 8]] prediction str:  if you want you\n",
            "33 loss:  0.8398011922836304 prediction:  [[6 0 3 7 4 8 3 1 2 9 5 3 7 4 8]] true Y:  [[6, 0, 3, 7, 4, 8, 3, 1, 2, 9, 5, 3, 7, 4, 8]] prediction str:  if you want you\n",
            "34 loss:  0.8348460793495178 prediction:  [[6 0 3 7 4 8 3 1 2 9 5 3 7 4 8]] true Y:  [[6, 0, 3, 7, 4, 8, 3, 1, 2, 9, 5, 3, 7, 4, 8]] prediction str:  if you want you\n",
            "35 loss:  0.831814169883728 prediction:  [[6 0 3 7 4 8 3 1 2 9 5 3 7 4 8]] true Y:  [[6, 0, 3, 7, 4, 8, 3, 1, 2, 9, 5, 3, 7, 4, 8]] prediction str:  if you want you\n",
            "36 loss:  0.83287513256073 prediction:  [[6 0 3 7 4 8 3 1 2 9 5 3 7 4 8]] true Y:  [[6, 0, 3, 7, 4, 8, 3, 1, 2, 9, 5, 3, 7, 4, 8]] prediction str:  if you want you\n",
            "37 loss:  0.8290351033210754 prediction:  [[6 0 3 7 4 8 3 1 2 9 5 3 7 4 8]] true Y:  [[6, 0, 3, 7, 4, 8, 3, 1, 2, 9, 5, 3, 7, 4, 8]] prediction str:  if you want you\n",
            "38 loss:  0.8270393013954163 prediction:  [[6 0 3 7 4 8 3 1 2 9 5 3 7 4 8]] true Y:  [[6, 0, 3, 7, 4, 8, 3, 1, 2, 9, 5, 3, 7, 4, 8]] prediction str:  if you want you\n",
            "39 loss:  0.8256639242172241 prediction:  [[6 0 3 7 4 8 3 1 2 9 5 3 7 4 8]] true Y:  [[6, 0, 3, 7, 4, 8, 3, 1, 2, 9, 5, 3, 7, 4, 8]] prediction str:  if you want you\n",
            "40 loss:  0.8237380385398865 prediction:  [[6 0 3 7 4 8 3 1 2 9 5 3 7 4 8]] true Y:  [[6, 0, 3, 7, 4, 8, 3, 1, 2, 9, 5, 3, 7, 4, 8]] prediction str:  if you want you\n",
            "41 loss:  0.8219496607780457 prediction:  [[6 0 3 7 4 8 3 1 2 9 5 3 7 4 8]] true Y:  [[6, 0, 3, 7, 4, 8, 3, 1, 2, 9, 5, 3, 7, 4, 8]] prediction str:  if you want you\n",
            "42 loss:  0.8224338293075562 prediction:  [[6 0 3 7 4 8 3 1 2 9 5 3 7 4 8]] true Y:  [[6, 0, 3, 7, 4, 8, 3, 1, 2, 9, 5, 3, 7, 4, 8]] prediction str:  if you want you\n",
            "43 loss:  0.8216809034347534 prediction:  [[6 0 3 7 4 8 3 1 2 9 5 3 7 4 8]] true Y:  [[6, 0, 3, 7, 4, 8, 3, 1, 2, 9, 5, 3, 7, 4, 8]] prediction str:  if you want you\n",
            "44 loss:  0.8200987577438354 prediction:  [[6 0 3 7 4 8 3 1 2 9 5 3 7 4 8]] true Y:  [[6, 0, 3, 7, 4, 8, 3, 1, 2, 9, 5, 3, 7, 4, 8]] prediction str:  if you want you\n",
            "45 loss:  0.8200099468231201 prediction:  [[6 0 3 7 4 8 3 1 2 9 5 3 7 4 8]] true Y:  [[6, 0, 3, 7, 4, 8, 3, 1, 2, 9, 5, 3, 7, 4, 8]] prediction str:  if you want you\n",
            "46 loss:  0.8196638822555542 prediction:  [[6 0 3 7 4 8 3 1 2 9 5 3 7 4 8]] true Y:  [[6, 0, 3, 7, 4, 8, 3, 1, 2, 9, 5, 3, 7, 4, 8]] prediction str:  if you want you\n",
            "47 loss:  0.8185262680053711 prediction:  [[6 0 3 7 4 8 3 1 2 9 5 3 7 4 8]] true Y:  [[6, 0, 3, 7, 4, 8, 3, 1, 2, 9, 5, 3, 7, 4, 8]] prediction str:  if you want you\n",
            "48 loss:  0.8172425627708435 prediction:  [[6 0 3 7 4 8 3 1 2 9 5 3 7 4 8]] true Y:  [[6, 0, 3, 7, 4, 8, 3, 1, 2, 9, 5, 3, 7, 4, 8]] prediction str:  if you want you\n",
            "49 loss:  0.8169423341751099 prediction:  [[6 0 3 7 4 8 3 1 2 9 5 3 7 4 8]] true Y:  [[6, 0, 3, 7, 4, 8, 3, 1, 2, 9, 5, 3, 7, 4, 8]] prediction str:  if you want you\n"
          ],
          "name": "stdout"
        }
      ]
    }
  ]
}