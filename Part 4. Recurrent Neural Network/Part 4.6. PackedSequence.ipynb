{
  "nbformat": 4,
  "nbformat_minor": 0,
  "metadata": {
    "colab": {
      "name": "Part 4.6. PackedSequence.ipynb",
      "provenance": []
    },
    "kernelspec": {
      "name": "python3",
      "display_name": "Python 3"
    }
  },
  "cells": [
    {
      "cell_type": "markdown",
      "metadata": {
        "id": "jMFui6Zphs49",
        "colab_type": "text"
      },
      "source": [
        "# Part 4.6. PackedSequence"
      ]
    },
    {
      "cell_type": "markdown",
      "metadata": {
        "id": "eju7AqT-hwne",
        "colab_type": "text"
      },
      "source": [
        "## 1. Examples of Sequential Data\n",
        "`text`나 `voice` 데이터가 있다. 이러한 Sequential Data는 길이가 미정인 데이터가 많다.\n",
        "\n",
        "![22-1.png](./img/22-1.png)"
      ]
    },
    {
      "cell_type": "markdown",
      "metadata": {
        "id": "_iJpnD0zivXY",
        "colab_type": "text"
      },
      "source": [
        "## 2. How to Make a Batch\n",
        "### 2.1. Padding Method\n",
        "가장 긴 sequence의 길이에 맞춰 나머지 데이터들의 뒷 부분들을 `pad`라는 토큰으로 채워넣는 방법이다. 다만 계산하지 않아도 될 부분을 채워야 한다는 단점이 있다.\n",
        "\n",
        "![22-2.png](./img/22-2.png)"
      ]
    },
    {
      "cell_type": "markdown",
      "metadata": {
        "id": "TxlJ2fsejYXy",
        "colab_type": "text"
      },
      "source": [
        "### 2.2. Packing Method\n",
        "sequence의 길이에 대한 정보를 저장하는 방식. 다만 길이 내림차순으로 문장을 정렬해야 하고 **Padding Method**에 비해 구현이 더 복잡하다는 단점이 있다.\n",
        "\n",
        "![22-3.png](./img/22-3.png)\n",
        "\n",
        "![22-4.png](./img/22-4.png)"
      ]
    },
    {
      "cell_type": "markdown",
      "metadata": {
        "id": "7rIlJEYlkuhB",
        "colab_type": "text"
      },
      "source": [
        "### 2.3. Pytorch Functions\n",
        "**padding**과 **packing**에 대한 4가지 파이토치 라이브러리 함수들에 대한 관계도이다.\n",
        "* `pack_sequence` : tensor를 packSequence로\n",
        "* `pad_sequence` : tensor를 paddedSequence로\n",
        "* `pad_packed_sequence` : packedSequence를 paddedSequence로\n",
        "* `pack_padded_sequence` : paddedSequence를 packedSeqence로\n",
        "\n",
        "![22-5.png](./img/22-5.png)"
      ]
    },
    {
      "cell_type": "markdown",
      "metadata": {
        "id": "r2wmEjaij4MS",
        "colab_type": "text"
      },
      "source": [
        "## 3. Implementation\n"
      ]
    },
    {
      "cell_type": "markdown",
      "metadata": {
        "id": "Zr3txuoek9q8",
        "colab_type": "text"
      },
      "source": [
        "### 3.1. 필요한 모듈 임포트"
      ]
    },
    {
      "cell_type": "code",
      "metadata": {
        "id": "lWga53aShkv6",
        "colab_type": "code",
        "colab": {}
      },
      "source": [
        "import torch\n",
        "import numpy as np\n",
        "from torch.nn.utils.rnn import pad_sequence, pack_sequence, pack_padded_sequence, pad_packed_sequence"
      ],
      "execution_count": 0,
      "outputs": []
    },
    {
      "cell_type": "markdown",
      "metadata": {
        "id": "WN6rdgl7lGGz",
        "colab_type": "text"
      },
      "source": [
        "### 3.2. 예제 데이터셋"
      ]
    },
    {
      "cell_type": "code",
      "metadata": {
        "id": "0AYfxEywlBM1",
        "colab_type": "code",
        "colab": {
          "base_uri": "https://localhost:8080/",
          "height": 72
        },
        "outputId": "202652e6-0079-4840-9274-b1b40cc4f2d2"
      },
      "source": [
        "# 임의의 문장으로 구성된 데이터셋\n",
        "data = ['hello world',\n",
        "        'midnight',\n",
        "        'calculation',\n",
        "        'path',\n",
        "        'short circuit']\n",
        "\n",
        "# 딕셔너리 생성\n",
        "char_set = ['<pad>'] + list(set(char for seq in data for char in seq))  # <pad> 토큰을 포함한 문자들 생성\n",
        "char2idx = {char: idx for idx, char in enumerate(char_set)}             # 인덱싱\n",
        "print('char_set:', char_set)\n",
        "print('char_set length:', len(char_set))"
      ],
      "execution_count": 2,
      "outputs": [
        {
          "output_type": "stream",
          "text": [
            "char_set: ['<pad>', 'h', 'r', 'l', 't', 'n', 'g', 'e', 'c', 'w', 'u', 'a', 'm', ' ', 'p', 's', 'i', 'd', 'o']\n",
            "char_set length: 19\n"
          ],
          "name": "stdout"
        }
      ]
    },
    {
      "cell_type": "code",
      "metadata": {
        "id": "oWnXorFplNqP",
        "colab_type": "code",
        "colab": {
          "base_uri": "https://localhost:8080/",
          "height": 106
        },
        "outputId": "7de666d9-dc82-4e41-ab6a-6c61d2e50be1"
      },
      "source": [
        "# 문자를 인덱스로 변환한 뒤 tensor로 변환\n",
        "X = [torch.LongTensor([char2idx[char] for char in seq]) for seq in data]\n",
        "\n",
        "for sequence in X:\n",
        "    print(sequence)"
      ],
      "execution_count": 3,
      "outputs": [
        {
          "output_type": "stream",
          "text": [
            "tensor([ 1,  7,  3,  3, 18, 13,  9, 18,  2,  3, 17])\n",
            "tensor([12, 16, 17,  5, 16,  6,  1,  4])\n",
            "tensor([ 8, 11,  3,  8, 10,  3, 11,  4, 16, 18,  5])\n",
            "tensor([14, 11,  4,  1])\n",
            "tensor([15,  1, 18,  2,  4, 13,  8, 16,  2,  8, 10, 16,  4])\n"
          ],
          "name": "stdout"
        }
      ]
    },
    {
      "cell_type": "code",
      "metadata": {
        "id": "-h7pze2mlPe5",
        "colab_type": "code",
        "colab": {
          "base_uri": "https://localhost:8080/",
          "height": 35
        },
        "outputId": "ae45befd-07e8-4950-a359-d54f6f07c23d"
      },
      "source": [
        "# sequence의 길이\n",
        "lengths = [len(seq) for seq in X]\n",
        "print('lengths:', lengths)"
      ],
      "execution_count": 4,
      "outputs": [
        {
          "output_type": "stream",
          "text": [
            "lengths: [11, 8, 11, 4, 13]\n"
          ],
          "name": "stdout"
        }
      ]
    },
    {
      "cell_type": "markdown",
      "metadata": {
        "id": "v_clFuCDle-2",
        "colab_type": "text"
      },
      "source": [
        "### 3.3. paddedSequence와 packedSequence 생성"
      ]
    },
    {
      "cell_type": "code",
      "metadata": {
        "id": "39IsJG5KlkMD",
        "colab_type": "code",
        "colab": {
          "base_uri": "https://localhost:8080/",
          "height": 124
        },
        "outputId": "441b7a6e-5835-4512-d689-ded48bc11b8b"
      },
      "source": [
        "# paddedSequence 생성\n",
        "padded_sequence = pad_sequence(X, batch_first=True)\n",
        "print(padded_sequence)\n",
        "print(padded_sequence.shape)"
      ],
      "execution_count": 5,
      "outputs": [
        {
          "output_type": "stream",
          "text": [
            "tensor([[ 1,  7,  3,  3, 18, 13,  9, 18,  2,  3, 17,  0,  0],\n",
            "        [12, 16, 17,  5, 16,  6,  1,  4,  0,  0,  0,  0,  0],\n",
            "        [ 8, 11,  3,  8, 10,  3, 11,  4, 16, 18,  5,  0,  0],\n",
            "        [14, 11,  4,  1,  0,  0,  0,  0,  0,  0,  0,  0,  0],\n",
            "        [15,  1, 18,  2,  4, 13,  8, 16,  2,  8, 10, 16,  4]])\n",
            "torch.Size([5, 13])\n"
          ],
          "name": "stdout"
        }
      ]
    },
    {
      "cell_type": "code",
      "metadata": {
        "id": "ZQP9lt7Rlm1v",
        "colab_type": "code",
        "colab": {
          "base_uri": "https://localhost:8080/",
          "height": 106
        },
        "outputId": "8554d47a-d76f-466c-d524-5ae6046e3e51"
      },
      "source": [
        "# 내림차순으로 문장 정렬\n",
        "sorted_idx = sorted(range(len(lengths)), key=lengths.__getitem__, reverse=True)\n",
        "sorted_X = [X[idx] for idx in sorted_idx]\n",
        "\n",
        "for sequence in sorted_X:\n",
        "    print(sequence)"
      ],
      "execution_count": 7,
      "outputs": [
        {
          "output_type": "stream",
          "text": [
            "tensor([15,  1, 18,  2,  4, 13,  8, 16,  2,  8, 10, 16,  4])\n",
            "tensor([ 1,  7,  3,  3, 18, 13,  9, 18,  2,  3, 17])\n",
            "tensor([ 8, 11,  3,  8, 10,  3, 11,  4, 16, 18,  5])\n",
            "tensor([12, 16, 17,  5, 16,  6,  1,  4])\n",
            "tensor([14, 11,  4,  1])\n"
          ],
          "name": "stdout"
        }
      ]
    },
    {
      "cell_type": "code",
      "metadata": {
        "id": "Ikg51zCmlotc",
        "colab_type": "code",
        "colab": {
          "base_uri": "https://localhost:8080/",
          "height": 90
        },
        "outputId": "ab35ae41-6f7e-4764-bfe8-1d9dca157c31"
      },
      "source": [
        "# packed_sequence 생성\n",
        "packed_sequence = pack_sequence(sorted_X)\n",
        "print(packed_sequence)"
      ],
      "execution_count": 8,
      "outputs": [
        {
          "output_type": "stream",
          "text": [
            "PackedSequence(data=tensor([15,  1,  8, 12, 14,  1,  7, 11, 16, 11, 18,  3,  3, 17,  4,  2,  3,  8,\n",
            "         5,  1,  4, 18, 10, 16, 13, 13,  3,  6,  8,  9, 11,  1, 16, 18,  4,  4,\n",
            "         2,  2, 16,  8,  3, 18, 10, 17,  5, 16,  4]), batch_sizes=tensor([5, 5, 5, 5, 4, 4, 4, 4, 3, 3, 3, 1, 1]), sorted_indices=None, unsorted_indices=None)\n"
          ],
          "name": "stdout"
        }
      ]
    },
    {
      "cell_type": "markdown",
      "metadata": {
        "id": "L4O4kpLZlqwO",
        "colab_type": "text"
      },
      "source": [
        "### 3.4. Embedding 적용"
      ]
    },
    {
      "cell_type": "code",
      "metadata": {
        "id": "majyNEszlsyR",
        "colab_type": "code",
        "colab": {
          "base_uri": "https://localhost:8080/",
          "height": 35
        },
        "outputId": "50638401-602f-4ebd-ed4c-4012dd01aec4"
      },
      "source": [
        "# char 개수만큼의 정방행렬 생성\n",
        "eye = torch.eye(len(char_set))\n",
        "embedded_tensor = eye[padded_sequence]\n",
        "\n",
        "# (batch_size, max_sequence_length, number_of_input_tokens)\n",
        "print(embedded_tensor.shape) "
      ],
      "execution_count": 9,
      "outputs": [
        {
          "output_type": "stream",
          "text": [
            "torch.Size([5, 13, 19])\n"
          ],
          "name": "stdout"
        }
      ]
    },
    {
      "cell_type": "code",
      "metadata": {
        "id": "T9jLp4INluaM",
        "colab_type": "code",
        "colab": {
          "base_uri": "https://localhost:8080/",
          "height": 35
        },
        "outputId": "86fcffb1-467d-4fe1-9667-888312bd4126"
      },
      "source": [
        "# packedSequence를 embedding\n",
        "embedded_packed_seq = pack_sequence([eye[X[idx]] for idx in sorted_idx])\n",
        "print(embedded_packed_seq.data.shape)"
      ],
      "execution_count": 10,
      "outputs": [
        {
          "output_type": "stream",
          "text": [
            "torch.Size([47, 19])\n"
          ],
          "name": "stdout"
        }
      ]
    },
    {
      "cell_type": "markdown",
      "metadata": {
        "id": "uodBOSR4lxFk",
        "colab_type": "text"
      },
      "source": [
        "### 3.5. RNN 모델 정의"
      ]
    },
    {
      "cell_type": "code",
      "metadata": {
        "id": "Z50OFX9Bn9Sx",
        "colab_type": "code",
        "colab": {}
      },
      "source": [
        "# 모델 정의\n",
        "rnn = torch.nn.RNN(input_size=len(char_set), hidden_size=30, batch_first=True)"
      ],
      "execution_count": 0,
      "outputs": []
    },
    {
      "cell_type": "code",
      "metadata": {
        "id": "3cIlANEsmOlf",
        "colab_type": "code",
        "colab": {
          "base_uri": "https://localhost:8080/",
          "height": 52
        },
        "outputId": "3ad3e3dc-8c0c-4eca-a54c-7e1698207a0d"
      },
      "source": [
        "rnn_output, hidden = rnn(embedded_tensor)\n",
        "\n",
        "print(rnn_output.shape)     # (batch_size, max_seq_length, hidden_size)\n",
        "print(hidden.shape)         # (num_layers * num_directions, batch_size, hidden_size)"
      ],
      "execution_count": 13,
      "outputs": [
        {
          "output_type": "stream",
          "text": [
            "torch.Size([5, 13, 30])\n",
            "torch.Size([1, 5, 30])\n"
          ],
          "name": "stdout"
        }
      ]
    },
    {
      "cell_type": "code",
      "metadata": {
        "id": "9VrqR-f6mQT4",
        "colab_type": "code",
        "colab": {
          "base_uri": "https://localhost:8080/",
          "height": 52
        },
        "outputId": "b91ebcd6-83aa-489c-b30c-6f930c035f46"
      },
      "source": [
        "rnn_output, hidden = rnn(embedded_packed_seq)\n",
        "\n",
        "print(rnn_output.data.shape)\n",
        "print(hidden.data.shape)"
      ],
      "execution_count": 14,
      "outputs": [
        {
          "output_type": "stream",
          "text": [
            "torch.Size([47, 30])\n",
            "torch.Size([1, 5, 30])\n"
          ],
          "name": "stdout"
        }
      ]
    }
  ]
}