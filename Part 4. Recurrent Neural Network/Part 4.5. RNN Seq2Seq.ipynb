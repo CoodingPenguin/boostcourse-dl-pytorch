{
  "nbformat": 4,
  "nbformat_minor": 0,
  "metadata": {
    "colab": {
      "name": "Part 4.5. RNN Seq2Seq.ipynb",
      "provenance": []
    },
    "kernelspec": {
      "name": "python3",
      "display_name": "Python 3"
    },
    "accelerator": "GPU"
  },
  "cells": [
    {
      "cell_type": "markdown",
      "metadata": {
        "id": "g6ThWDwmVq1T",
        "colab_type": "text"
      },
      "source": [
        "# Part 4.5. RNN Seq2Seq"
      ]
    },
    {
      "cell_type": "markdown",
      "metadata": {
        "id": "X7Ax0H8rVyRG",
        "colab_type": "text"
      },
      "source": [
        "## 1. Seq2Seq\n",
        "### 1.1. RNN vs Seq2Seq\n",
        "**RNN**은 보통 문장을 구성하는 단어가 입력이 되면 그 때마다 출력을 내놓는다. 반면 **Seq2Seq**는 반면 입력이 완료될 때까지 기다린 다음에 출력을 한다.\n",
        "\n",
        "![21-1.png](./img/21-1.png)\n",
        "\n",
        "### 1.2. Encoder and Decoder\n",
        "**Seq2Seq**는 다음과 같이 **Encoder**와 **Decoder**로 구성이 되어 있다.\n",
        "\n",
        "![21-2.png](./img/21-2.png)\n",
        "\n",
        "1. **Encoder**에서 들은 모든 단어들의 sequence들을 어떤 vector의 형태로 압축한다.\n",
        "2. 압축된 vector를 **Decoder**에 전달한다.\n",
        "3. 이 vector를 **hidden state**에 넣어주고 첫 vector일 경우 **start flag**를 삽입해서 학습을 시작한다.\n",
        "4. 첫 번째 vector로 인해 나온 출력을 다시 두 번째 셀의 입력으로 넣어 다음 단어를 예측한다."
      ]
    },
    {
      "cell_type": "markdown",
      "metadata": {
        "id": "o1CpOlx3X26r",
        "colab_type": "text"
      },
      "source": [
        "## 2. Implementation"
      ]
    },
    {
      "cell_type": "markdown",
      "metadata": {
        "id": "tVMqWG4MYtsh",
        "colab_type": "text"
      },
      "source": [
        "### 2.1. 모듈 임포트"
      ]
    },
    {
      "cell_type": "code",
      "metadata": {
        "id": "q2Ga_lsIVnB_",
        "colab_type": "code",
        "colab": {}
      },
      "source": [
        "import random\n",
        "import torch\n",
        "import torch.nn as nn\n",
        "from torch import optim"
      ],
      "execution_count": 0,
      "outputs": []
    },
    {
      "cell_type": "code",
      "metadata": {
        "id": "7prqNPAWX7_o",
        "colab_type": "code",
        "colab": {}
      },
      "source": [
        "torch.manual_seed(0)\n",
        "device = torch.device(\"cuda\" if torch.cuda.is_available() else \"cpu\")"
      ],
      "execution_count": 0,
      "outputs": []
    },
    {
      "cell_type": "markdown",
      "metadata": {
        "id": "cJ-UqZytY0w4",
        "colab_type": "text"
      },
      "source": [
        "### 2.2. Raw 텍스트"
      ]
    },
    {
      "cell_type": "code",
      "metadata": {
        "id": "aACQrmiCX_N3",
        "colab_type": "code",
        "colab": {}
      },
      "source": [
        "# (영어 문장, 한국어 문장) 을 번역할 예정\n",
        "raw = [\"I feel hungry.\t나는 배가 고프다.\",\n",
        "       \"Pytorch is very easy.\t파이토치는 매우 쉽다.\",\n",
        "       \"Pytorch is a framework for deep learning.\t파이토치는 딥러닝을 위한 프레임워크이다.\",\n",
        "       \"Pytorch is very clear to use.\t파이토치는 사용하기 매우 직관적이다.\"]"
      ],
      "execution_count": 0,
      "outputs": []
    },
    {
      "cell_type": "markdown",
      "metadata": {
        "id": "6U6VioxjZ_WQ",
        "colab_type": "text"
      },
      "source": [
        "### 2.3. 텍스트 전처리"
      ]
    },
    {
      "cell_type": "code",
      "metadata": {
        "id": "jDgOY9joYC_Y",
        "colab_type": "code",
        "colab": {}
      },
      "source": [
        "# SOS(Start Of Sentence)와 EOS(End of Sentence)\n",
        "# Decoder가 문장의 첫과 끝을 인식하기 위한 것\n",
        "SOS_token = 0\n",
        "EOS_token = 1"
      ],
      "execution_count": 0,
      "outputs": []
    },
    {
      "cell_type": "code",
      "metadata": {
        "id": "LVppV0VFYEfS",
        "colab_type": "code",
        "colab": {}
      },
      "source": [
        "# 단어 딕셔너리\n",
        "class Vocab:\n",
        "    def __init__(self):\n",
        "        self.vocab2index = {\"<SOS>\": SOS_token, \"<EOS>\": EOS_token}   # 단어 -> 인덱스\n",
        "        self.index2vocab = {SOS_token: \"<SOS>\", EOS_token: \"<EOS>\"}   # 인덱스 -> 단어\n",
        "        self.vocab_count = {}                                         # 단어의 개수\n",
        "        self.n_vocab = len(self.vocab2index)\n",
        "\n",
        "    # 단어를 추가하는 함수\n",
        "    def add_vocab(self, sentence):\n",
        "        for word in sentence.split(\" \"):\n",
        "            if word not in self.vocab2index:\n",
        "                self.vocab2index[word] = self.n_vocab\n",
        "                self.vocab_count[word] = 1\n",
        "                self.index2vocab[self.n_vocab] = word\n",
        "                self.n_vocab += 1\n",
        "            else:\n",
        "                self.vocab_count[word] += 1"
      ],
      "execution_count": 0,
      "outputs": []
    },
    {
      "cell_type": "code",
      "metadata": {
        "id": "pZx-qSdHYF4-",
        "colab_type": "code",
        "colab": {}
      },
      "source": [
        "# Source 데이터와 Target 데이터에서 MAX_LENGTH를 초과하는 문장을 filter하기 위한 함수\n",
        "def filter_pair(pair, source_max_length, target_max_length):\n",
        "    return len(pair[0].split(\" \")) < source_max_length and len(pair[1].split(\" \")) < target_max_length"
      ],
      "execution_count": 0,
      "outputs": []
    },
    {
      "cell_type": "code",
      "metadata": {
        "id": "Eme8YvQCYIAN",
        "colab_type": "code",
        "colab": {}
      },
      "source": [
        "# Source 텍스트와 Target 텍스트를 전처리하는 함수\n",
        "def preprocess(corpus, source_max_length, target_max_length):\n",
        "    print(\"reading corpus...\")\n",
        "\n",
        "    # 영문장과 국문장을 짝짓기\n",
        "    pairs = []            \n",
        "    for line in corpus:\n",
        "        pairs.append([s for s in line.strip().lower().split(\"\\t\")])\n",
        "    print(\"Read {} sentence pairs\".format(len(pairs)))\n",
        "\n",
        "    # 짝지은 문장에서 MAX_LENGTH를 초과하는 문장을 필터링\n",
        "    pairs = [pair for pair in pairs if filter_pair(pair, source_max_length, target_max_length)]\n",
        "    print(\"Trimmed to {} sentence pairs\".format(len(pairs)))\n",
        "\n",
        "    # Source 문장과 Target 문장의 Vocab 딕셔너리 생성\n",
        "    source_vocab = Vocab()\n",
        "    target_vocab = Vocab()\n",
        "\n",
        "    print(\"Counting words...\")\n",
        "    for pair in pairs:\n",
        "        source_vocab.add_vocab(pair[0])\n",
        "        target_vocab.add_vocab(pair[1])\n",
        "    print(\"source vocab size =\", source_vocab.n_vocab)\n",
        "    print(\"target vocab size =\", target_vocab.n_vocab)\n",
        "\n",
        "    return pairs, source_vocab, target_vocab"
      ],
      "execution_count": 0,
      "outputs": []
    },
    {
      "cell_type": "code",
      "metadata": {
        "id": "siFahAAEYaJ-",
        "colab_type": "code",
        "colab": {}
      },
      "source": [
        "# 문장의 최대 길이 지정\n",
        "SOURCE_MAX_LENGTH = 10\n",
        "TARGET_MAX_LENGTH = 12"
      ],
      "execution_count": 0,
      "outputs": []
    },
    {
      "cell_type": "code",
      "metadata": {
        "id": "SRmbCoTkYbd2",
        "colab_type": "code",
        "colab": {
          "base_uri": "https://localhost:8080/",
          "height": 141
        },
        "outputId": "f00c2147-9f02-4d32-85be-33f971f53ef4"
      },
      "source": [
        "# 각 문장을 전처리\n",
        "load_pairs, load_source_vocab, load_target_vocab = preprocess(raw, SOURCE_MAX_LENGTH, TARGET_MAX_LENGTH)\n",
        "print(random.choice(load_pairs))"
      ],
      "execution_count": 19,
      "outputs": [
        {
          "output_type": "stream",
          "text": [
            "reading corpus...\n",
            "Read 4 sentence pairs\n",
            "Trimmed to 4 sentence pairs\n",
            "Counting words...\n",
            "source vocab size = 17\n",
            "target vocab size = 13\n",
            "['pytorch is a framework for deep learning.', '파이토치는 딥러닝을 위한 프레임워크이다.']\n"
          ],
          "name": "stdout"
        }
      ]
    },
    {
      "cell_type": "markdown",
      "metadata": {
        "id": "cZN-T3thdqVe",
        "colab_type": "text"
      },
      "source": [
        "### 2.4. Encoder 및 Decoder 정의"
      ]
    },
    {
      "cell_type": "code",
      "metadata": {
        "id": "GXQaQg4-YJ8c",
        "colab_type": "code",
        "colab": {}
      },
      "source": [
        "# Encoder 정의\n",
        "class Encoder(nn.Module):\n",
        "    def __init__(self, input_size, hidden_size):\n",
        "        super(Encoder, self).__init__()\n",
        "        self.hidden_size = hidden_size\n",
        "        self.embedding = nn.Embedding(input_size, hidden_size)\n",
        "        self.gru = nn.GRU(hidden_size, hidden_size)\n",
        "\n",
        "    # embedding -> gru\n",
        "    # embedding은 입력으로 들어온 희소행렬을 더 작은 행렬로 변환\n",
        "    def forward(self, x, hidden):\n",
        "        x = self.embedding(x).view(1, 1, -1)\n",
        "        x, hidden = self.gru(x, hidden)\n",
        "        return x, hidden"
      ],
      "execution_count": 0,
      "outputs": []
    },
    {
      "cell_type": "code",
      "metadata": {
        "id": "YvQCk3X4YLNG",
        "colab_type": "code",
        "colab": {}
      },
      "source": [
        "# Decoder 정의\n",
        "class Decoder(nn.Module):\n",
        "    def __init__(self, hidden_size, output_size):\n",
        "        super(Decoder, self).__init__()\n",
        "        self.hidden_size = hidden_size\n",
        "        self.embedding = nn.Embedding(output_size, hidden_size)\n",
        "        self.gru = nn.GRU(hidden_size, hidden_size)\n",
        "        # index -> vocab로 바꿔주기 위한 layer\n",
        "        self.out = nn.Linear(hidden_size, output_size)\n",
        "        self.softmax = nn.LogSoftmax(dim=1)\n",
        "\n",
        "    # embedding -> gru -> softmax\n",
        "    def forward(self, x, hidden):\n",
        "        x = self.embedding(x).view(1, 1, -1)\n",
        "        x, hidden = self.gru(x, hidden)\n",
        "        x = self.softmax(self.out(x[0]))\n",
        "        return x, hidden"
      ],
      "execution_count": 0,
      "outputs": []
    },
    {
      "cell_type": "code",
      "metadata": {
        "id": "0fPalNnYYdDO",
        "colab_type": "code",
        "colab": {}
      },
      "source": [
        "# Encoder와 Decoder 생성\n",
        "enc_hidden_size = 16\n",
        "dec_hidden_size = enc_hidden_size\n",
        "enc = Encoder(load_source_vocab.n_vocab, enc_hidden_size).to(device)\n",
        "dec = Decoder(dec_hidden_size, load_target_vocab.n_vocab).to(device)"
      ],
      "execution_count": 0,
      "outputs": []
    },
    {
      "cell_type": "markdown",
      "metadata": {
        "id": "WOSEQnf_dvCa",
        "colab_type": "text"
      },
      "source": [
        "### 2.5. 학습"
      ]
    },
    {
      "cell_type": "code",
      "metadata": {
        "id": "qXQ4kiMKYPRw",
        "colab_type": "code",
        "colab": {}
      },
      "source": [
        "# 문장 one-hot encoding 및 tensor로 변환\n",
        "def tensorize(vocab, sentence):\n",
        "    indexes = [vocab.vocab2index[word] for word in sentence.split(\" \")]\n",
        "    indexes.append(vocab.vocab2index[\"<EOS>\"])\n",
        "    return torch.Tensor(indexes).long().to(device).view(-1, 1)"
      ],
      "execution_count": 0,
      "outputs": []
    },
    {
      "cell_type": "code",
      "metadata": {
        "id": "cZU4wqoqZ71Z",
        "colab_type": "code",
        "colab": {}
      },
      "source": [
        "# Seq2Seq를 학습하는 함수\n",
        "def train(pairs, source_vocab, target_vocab, encoder, decoder, n_iter, print_every=1000, learning_rate=0.01):\n",
        "    loss_total = 0\n",
        "\n",
        "    # encoder와 decoder의 optimizer 설정\n",
        "    encoder_optimizer = optim.SGD(encoder.parameters(), lr=learning_rate)\n",
        "    decoder_optimizer = optim.SGD(decoder.parameters(), lr=learning_rate)\n",
        "\n",
        "    # source 데이터와 target 데이터로 나눔\n",
        "    training_batch = [random.choice(pairs) for _ in range(n_iter)]\n",
        "    training_source = [tensorize(source_vocab, pair[0]) for pair in training_batch]\n",
        "    training_target = [tensorize(target_vocab, pair[1]) for pair in training_batch]\n",
        "\n",
        "    # 손실함수 설정 : Negative Log Likelihood\n",
        "    criterion = nn.NLLLoss()\n",
        "\n",
        "    for i in range(1, n_iter + 1):\n",
        "        source_tensor = training_source[i - 1]\n",
        "        target_tensor = training_target[i - 1]\n",
        "\n",
        "        encoder_hidden = torch.zeros([1, 1, encoder.hidden_size]).to(device)\n",
        "\n",
        "        encoder_optimizer.zero_grad()\n",
        "        decoder_optimizer.zero_grad()\n",
        "\n",
        "        source_length = source_tensor.size(0)\n",
        "        target_length = target_tensor.size(0)\n",
        "\n",
        "        loss = 0\n",
        "\n",
        "        for enc_input in range(source_length):\n",
        "            _, encoder_hidden = encoder(source_tensor[enc_input], encoder_hidden)\n",
        "\n",
        "        # Decoder의 입력에 SOS 토큰을 삽입\n",
        "        decoder_input = torch.Tensor([[SOS_token]]).long().to(device)\n",
        "        # Encoder의 출력을 Decoder의 입력으로 넣어줌\n",
        "        decoder_hidden = encoder_hidden \n",
        "\n",
        "        for di in range(target_length):\n",
        "            decoder_output, decoder_hidden = decoder(decoder_input, decoder_hidden)\n",
        "            loss += criterion(decoder_output, target_tensor[di])\n",
        "            # 방법 1. 출력으로 넣은 걸 입력으로 다시 넣기\n",
        "            # 방법 2. teacher forcing : 실제 데이터를 넣어주는 기법\n",
        "            # 어느 게 더 좋은 건 아니고 적절히 해줌. 한 30, 40% 정도로 설정\n",
        "            decoder_input = target_tensor[di] \n",
        "\n",
        "        loss.backward()\n",
        "\n",
        "        encoder_optimizer.step()\n",
        "        decoder_optimizer.step()\n",
        "\n",
        "        loss_iter = loss.item() / target_length\n",
        "        loss_total += loss_iter\n",
        "\n",
        "        if i % print_every == 0:\n",
        "            loss_avg = loss_total / print_every\n",
        "            loss_total = 0\n",
        "            print(\"[{} - {}%] loss = {:05.4f}\".format(i, i / n_iter * 100, loss_avg))"
      ],
      "execution_count": 0,
      "outputs": []
    },
    {
      "cell_type": "code",
      "metadata": {
        "id": "G2LGrziHYeO4",
        "colab_type": "code",
        "colab": {
          "base_uri": "https://localhost:8080/",
          "height": 106
        },
        "outputId": "5eec7dd5-8e9e-4640-b179-3785aeadfc23"
      },
      "source": [
        "# Seq2Seq 모델 학습\n",
        "train(load_pairs, load_source_vocab, load_target_vocab, enc, dec, 5000, print_every=1000)"
      ],
      "execution_count": 26,
      "outputs": [
        {
          "output_type": "stream",
          "text": [
            "[1000 - 20.0%] loss = 0.7299\n",
            "[2000 - 40.0%] loss = 0.1562\n",
            "[3000 - 60.0%] loss = 0.0478\n",
            "[4000 - 80.0%] loss = 0.0220\n",
            "[5000 - 100.0%] loss = 0.0140\n"
          ],
          "name": "stdout"
        }
      ]
    },
    {
      "cell_type": "markdown",
      "metadata": {
        "id": "ulahjjT2gm4E",
        "colab_type": "text"
      },
      "source": [
        "### 2.6. 모델 성능 체크"
      ]
    },
    {
      "cell_type": "code",
      "metadata": {
        "id": "5UodamxAYVT4",
        "colab_type": "code",
        "colab": {}
      },
      "source": [
        "# 모델 성능을 평가하기 위한 함수\n",
        "def evaluate(pairs, source_vocab, target_vocab, encoder, decoder, target_max_length):\n",
        "    for pair in pairs:\n",
        "        print(\">\", pair[0])\n",
        "        print(\"=\", pair[1])\n",
        "        source_tensor = tensorize(source_vocab, pair[0])\n",
        "        source_length = source_tensor.size()[0]\n",
        "        encoder_hidden = torch.zeros([1, 1, encoder.hidden_size]).to(device)\n",
        "\n",
        "        for ei in range(source_length):\n",
        "            _, encoder_hidden = encoder(source_tensor[ei], encoder_hidden)\n",
        "\n",
        "        decoder_input = torch.Tensor([[SOS_token]]).long().to(device)\n",
        "        decoder_hidden = encoder_hidden\n",
        "        decoded_words = []\n",
        "\n",
        "        for di in range(target_max_length):\n",
        "            decoder_output, decoder_hidden = decoder(decoder_input, decoder_hidden)\n",
        "            _, top_index = decoder_output.data.topk(1)\n",
        "            if top_index.item() == EOS_token:\n",
        "                decoded_words.append(\"<EOS>\")\n",
        "                break\n",
        "            else:\n",
        "                decoded_words.append(target_vocab.index2vocab[top_index.item()])\n",
        "\n",
        "            decoder_input = top_index.squeeze().detach()\n",
        "\n",
        "        predict_words = decoded_words\n",
        "        predict_sentence = \" \".join(predict_words)\n",
        "        print(\"<\", predict_sentence)\n",
        "        print(\"\")"
      ],
      "execution_count": 0,
      "outputs": []
    },
    {
      "cell_type": "code",
      "metadata": {
        "id": "7b9Vea7-YfmO",
        "colab_type": "code",
        "colab": {
          "base_uri": "https://localhost:8080/",
          "height": 301
        },
        "outputId": "bcf4eeaf-6330-4fd0-e898-7717d192d1a8"
      },
      "source": [
        "# 모델 성능 체크\n",
        "evaluate(load_pairs, load_source_vocab, load_target_vocab, enc, dec, TARGET_MAX_LENGTH)"
      ],
      "execution_count": 30,
      "outputs": [
        {
          "output_type": "stream",
          "text": [
            "> i feel hungry.\n",
            "= 나는 배가 고프다.\n",
            "< 나는 배가 고프다. <EOS>\n",
            "\n",
            "> pytorch is very easy.\n",
            "= 파이토치는 매우 쉽다.\n",
            "< 파이토치는 매우 쉽다. <EOS>\n",
            "\n",
            "> pytorch is a framework for deep learning.\n",
            "= 파이토치는 딥러닝을 위한 프레임워크이다.\n",
            "< 파이토치는 딥러닝을 위한 프레임워크이다. <EOS>\n",
            "\n",
            "> pytorch is very clear to use.\n",
            "= 파이토치는 사용하기 매우 직관적이다.\n",
            "< 파이토치는 사용하기 매우 직관적이다. <EOS>\n",
            "\n"
          ],
          "name": "stdout"
        }
      ]
    }
  ]
}