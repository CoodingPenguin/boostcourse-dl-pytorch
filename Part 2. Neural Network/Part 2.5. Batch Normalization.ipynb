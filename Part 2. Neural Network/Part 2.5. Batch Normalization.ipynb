{
  "nbformat": 4,
  "nbformat_minor": 0,
  "metadata": {
    "colab": {
      "name": "Part 2.5. Batch Normalization.ipynb",
      "provenance": []
    },
    "kernelspec": {
      "name": "python3",
      "display_name": "Python 3"
    },
    "accelerator": "GPU"
  },
  "cells": [
    {
      "cell_type": "markdown",
      "metadata": {
        "id": "PFmwHMHxRADF",
        "colab_type": "text"
      },
      "source": [
        "# Part 2.5. Batch Normalization"
      ]
    },
    {
      "cell_type": "code",
      "metadata": {
        "id": "ylR_eCSAUUQj",
        "colab_type": "code",
        "colab": {}
      },
      "source": [
        "import torch\n",
        "import torchvision.datasets as dsets\n",
        "import torchvision.transforms as transforms\n",
        "import matplotlib.pylab as plt"
      ],
      "execution_count": 0,
      "outputs": []
    },
    {
      "cell_type": "code",
      "metadata": {
        "id": "VsBonaDtUU1n",
        "colab_type": "code",
        "colab": {}
      },
      "source": [
        "device = 'cuda' if torch.cuda.is_available() else 'cpu'\n",
        "\n",
        "# for reproducibility\n",
        "torch.manual_seed(1)\n",
        "if device == 'cuda':\n",
        "    torch.cuda.manual_seed_all(1)"
      ],
      "execution_count": 0,
      "outputs": []
    },
    {
      "cell_type": "markdown",
      "metadata": {
        "id": "gMFr784_RGWB",
        "colab_type": "text"
      },
      "source": [
        "## 1. Gradient Vanishing and Exploding\n",
        "### 1.1. Gradient Vanishing and Exploding\n",
        "**Gradient Vanishing**은 backpropagation을 하면서 기울기가 점점 옅어지면서 너무 작아지는 문제를 말한다. **Gradient Exploding**은 전파를 하면서 값이 너무 큰 값 혹은 nand값이 나오는 문제를 말한다.\n",
        "\n",
        "### 1.2. Solution\n",
        "우리는 위를 활성화 함수를 변경하거나(ex. `signoid` → `ReLU`), weight값을 잘 초기화하거나 더 작은 학습률을 쓰면 해결할 수 있다. 하지만 이는 간접적인 해결방법이다. 그것보다는 직접적인 해결책인 **batch normalization**을 쓰면 해결할 수 있다."
      ]
    },
    {
      "cell_type": "markdown",
      "metadata": {
        "id": "LFE2vDHjRKU3",
        "colab_type": "text"
      },
      "source": [
        "## 2. Internal Covariate Shift\n",
        "\n",
        "![12-1.png](./img/12-1.png)\n",
        "\n",
        "각 layer마다 입력과 출력을 갖고 있는데 다음 layer로 넘어가면서 convariate shift가 발생하여 분포가 변형되게 된다. layer가 더 깊어지면서 더더욱 이상하게 변형되는 문제가 발생한다."
      ]
    },
    {
      "cell_type": "markdown",
      "metadata": {
        "id": "OTXvI2HBRNCy",
        "colab_type": "text"
      },
      "source": [
        "## 3. Batch Normalization\n",
        "한 batch에 대한 평균과 표준편차를 구해 정규화를 한 다음 scale과 shift를 한다.\n",
        "\n",
        "![12-2.png](./img/12-2.png)\n",
        "\n",
        "학습 시에 구한 평균과 표준편차를 sample mean과 variance라 하며 이를 따로 저장해놓고 학습이 끝난 후 learning mean과 variance를 구한다. $\\gamma$와 $\\beta$는 학습해줘야 하는 매개변수이다. 위의 과정이 pytorch에서 train mode일 때의 과정이다.\n",
        "\n",
        "새로운 테스트 데이터에서는 위의 learning mean과 variance 그리고 최적화된 $\\gamma$와 $\\beta$를 사용한다. 앞의 과정이 pytorch에서 eval mode일 때의 과정이다."
      ]
    },
    {
      "cell_type": "markdown",
      "metadata": {
        "id": "aDbcII8xWKNC",
        "colab_type": "text"
      },
      "source": [
        "## 4. MNIST Example"
      ]
    },
    {
      "cell_type": "code",
      "metadata": {
        "id": "bol1rNJ7Q6ZP",
        "colab_type": "code",
        "colab": {}
      },
      "source": [
        "# MNIST dataset\n",
        "mnist_train = dsets.MNIST(root='MNIST_data/',\n",
        "                          train=True,\n",
        "                          transform=transforms.ToTensor(),\n",
        "                          download=True)\n",
        "\n",
        "mnist_test = dsets.MNIST(root='MNIST_data/',\n",
        "                         train=False,\n",
        "                         transform=transforms.ToTensor(),\n",
        "                         download=True)"
      ],
      "execution_count": 0,
      "outputs": []
    },
    {
      "cell_type": "code",
      "metadata": {
        "id": "2PzYfCFWWNt5",
        "colab_type": "code",
        "colab": {}
      },
      "source": [
        "# parameters\n",
        "learning_rate = 0.01\n",
        "training_epochs = 10\n",
        "batch_size = 32"
      ],
      "execution_count": 0,
      "outputs": []
    },
    {
      "cell_type": "code",
      "metadata": {
        "id": "zcrqcb0QWX7u",
        "colab_type": "code",
        "colab": {}
      },
      "source": [
        "# dataset loader\n",
        "train_loader = torch.utils.data.DataLoader(dataset=mnist_train,\n",
        "                                          batch_size=batch_size,\n",
        "                                          shuffle=True,\n",
        "                                          drop_last=True)\n",
        "\n",
        "test_loader = torch.utils.data.DataLoader(dataset=mnist_test,\n",
        "                                          batch_size=batch_size,\n",
        "                                          shuffle=False,\n",
        "                                          drop_last=True)"
      ],
      "execution_count": 0,
      "outputs": []
    },
    {
      "cell_type": "code",
      "metadata": {
        "id": "NrchMvhkWaYL",
        "colab_type": "code",
        "colab": {}
      },
      "source": [
        "# nn layers\n",
        "linear1 = torch.nn.Linear(784, 32, bias=True)\n",
        "linear2 = torch.nn.Linear(32, 32, bias=True)\n",
        "linear3 = torch.nn.Linear(32, 10, bias=True)\n",
        "relu = torch.nn.ReLU()\n",
        "bn1 = torch.nn.BatchNorm1d(32)\n",
        "bn2 = torch.nn.BatchNorm1d(32)"
      ],
      "execution_count": 0,
      "outputs": []
    },
    {
      "cell_type": "code",
      "metadata": {
        "id": "_LcdMcR-Wcu_",
        "colab_type": "code",
        "colab": {}
      },
      "source": [
        "# model\n",
        "# batch normalization은 활성화 함수 전에!\n",
        "bn_model = torch.nn.Sequential(linear1, bn1, relu,\n",
        "                            linear2, bn2, relu,\n",
        "                            linear3).to(device)"
      ],
      "execution_count": 0,
      "outputs": []
    },
    {
      "cell_type": "code",
      "metadata": {
        "id": "5vBz6HPlWgW2",
        "colab_type": "code",
        "colab": {}
      },
      "source": [
        "# define cost/loss & optimizer\n",
        "criterion = torch.nn.CrossEntropyLoss().to(device)    # Softmax is internally computed.\n",
        "bn_optimizer = torch.optim.Adam(bn_model.parameters(), lr=learning_rate)"
      ],
      "execution_count": 0,
      "outputs": []
    },
    {
      "cell_type": "code",
      "metadata": {
        "id": "anD7xyCnWyT8",
        "colab_type": "code",
        "colab": {}
      },
      "source": [
        "train_losses = []\n",
        "train_accs = []\n",
        "\n",
        "valid_losses = []\n",
        "valid_accs = []\n",
        "\n",
        "train_total_batch = len(train_loader)\n",
        "test_total_batch = len(test_loader)"
      ],
      "execution_count": 0,
      "outputs": []
    },
    {
      "cell_type": "code",
      "metadata": {
        "id": "qqve8BShWis8",
        "colab_type": "code",
        "colab": {
          "base_uri": "https://localhost:8080/",
          "height": 568
        },
        "outputId": "6a7a67ec-5ca8-4d40-9cf1-d4e951b059f6"
      },
      "source": [
        "for epoch in range(training_epochs):\n",
        "    bn_model.train()  # set the model to train mode\n",
        "\n",
        "    for X, Y in train_loader:\n",
        "        X = X.view(-1, 28 * 28).to(device)\n",
        "        Y = Y.to(device)\n",
        "\n",
        "        bn_optimizer.zero_grad()\n",
        "        bn_prediction = bn_model(X)\n",
        "        bn_loss = criterion(bn_prediction, Y)\n",
        "        bn_loss.backward()\n",
        "        bn_optimizer.step()\n",
        "\n",
        "    with torch.no_grad():\n",
        "        bn_model.eval()     # set the model to evaluation mode\n",
        "        bn_loss, bn_acc = 0, 0\n",
        "        for i, (X, Y) in enumerate(train_loader):\n",
        "            X = X.view(-1, 28 * 28).to(device)\n",
        "            Y = Y.to(device)\n",
        "\n",
        "            bn_prediction = bn_model(X)\n",
        "            bn_correct_prediction = torch.argmax(bn_prediction, 1) == Y\n",
        "            bn_loss += criterion(bn_prediction, Y)\n",
        "            bn_acc += bn_correct_prediction.float().mean()\n",
        "\n",
        "        bn_loss, bn_acc = bn_loss / train_total_batch, bn_acc / train_total_batch\n",
        "\n",
        "      \n",
        "        print('[Epoch %d-TRAIN] Batchnorm Loss(Acc): bn_loss:%.5f(bn_acc:%.2f)' % (\n",
        "            (epoch + 1), bn_loss.item(), bn_acc.item()))\n",
        "        \n",
        "        # Test the model using test sets\n",
        "        bn_loss, bn_acc = 0, 0\n",
        "        for i, (X, Y) in enumerate(test_loader):\n",
        "            X = X.view(-1, 28 * 28).to(device)\n",
        "            Y = Y.to(device)\n",
        "\n",
        "            bn_prediction = bn_model(X)\n",
        "            bn_correct_prediction = torch.argmax(bn_prediction, 1) == Y\n",
        "            bn_loss += criterion(bn_prediction, Y)\n",
        "            bn_acc += bn_correct_prediction.float().mean()\n",
        "\n",
        "        bn_loss, bn_acc = bn_loss / test_total_batch, bn_acc / test_total_batch\n",
        "\n",
        "        print('[Epoch %d-VALID] Batchnorm Loss(Acc): bn_loss:%.5f(bn_acc:%.2f)' % (\n",
        "                (epoch + 1), bn_loss.item(), bn_acc.item()))\n",
        "        print()\n",
        "\n",
        "print('Learning finished')"
      ],
      "execution_count": 21,
      "outputs": [
        {
          "output_type": "stream",
          "text": [
            "[Epoch 1-TRAIN] Batchnorm Loss(Acc): bn_loss:0.09255(bn_acc:0.97)\n",
            "[Epoch 1-VALID] Batchnorm Loss(Acc): bn_loss:0.11553(bn_acc:0.96)\n",
            "\n",
            "[Epoch 2-TRAIN] Batchnorm Loss(Acc): bn_loss:0.08539(bn_acc:0.97)\n",
            "[Epoch 2-VALID] Batchnorm Loss(Acc): bn_loss:0.10521(bn_acc:0.97)\n",
            "\n",
            "[Epoch 3-TRAIN] Batchnorm Loss(Acc): bn_loss:0.07256(bn_acc:0.98)\n",
            "[Epoch 3-VALID] Batchnorm Loss(Acc): bn_loss:0.09971(bn_acc:0.97)\n",
            "\n",
            "[Epoch 4-TRAIN] Batchnorm Loss(Acc): bn_loss:0.06397(bn_acc:0.98)\n",
            "[Epoch 4-VALID] Batchnorm Loss(Acc): bn_loss:0.09135(bn_acc:0.97)\n",
            "\n",
            "[Epoch 5-TRAIN] Batchnorm Loss(Acc): bn_loss:0.06009(bn_acc:0.98)\n",
            "[Epoch 5-VALID] Batchnorm Loss(Acc): bn_loss:0.09565(bn_acc:0.97)\n",
            "\n",
            "[Epoch 6-TRAIN] Batchnorm Loss(Acc): bn_loss:0.05988(bn_acc:0.98)\n",
            "[Epoch 6-VALID] Batchnorm Loss(Acc): bn_loss:0.09841(bn_acc:0.97)\n",
            "\n",
            "[Epoch 7-TRAIN] Batchnorm Loss(Acc): bn_loss:0.05361(bn_acc:0.98)\n",
            "[Epoch 7-VALID] Batchnorm Loss(Acc): bn_loss:0.09009(bn_acc:0.97)\n",
            "\n",
            "[Epoch 8-TRAIN] Batchnorm Loss(Acc): bn_loss:0.05135(bn_acc:0.98)\n",
            "[Epoch 8-VALID] Batchnorm Loss(Acc): bn_loss:0.09286(bn_acc:0.97)\n",
            "\n",
            "[Epoch 9-TRAIN] Batchnorm Loss(Acc): bn_loss:0.04459(bn_acc:0.99)\n",
            "[Epoch 9-VALID] Batchnorm Loss(Acc): bn_loss:0.08499(bn_acc:0.97)\n",
            "\n",
            "[Epoch 10-TRAIN] Batchnorm Loss(Acc): bn_loss:0.04447(bn_acc:0.99)\n",
            "[Epoch 10-VALID] Batchnorm Loss(Acc): bn_loss:0.08076(bn_acc:0.97)\n",
            "\n",
            "Learning finished\n"
          ],
          "name": "stdout"
        }
      ]
    }
  ]
}