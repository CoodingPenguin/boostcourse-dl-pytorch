{
  "nbformat": 4,
  "nbformat_minor": 0,
  "metadata": {
    "colab": {
      "name": "Part 1.6. Softmax Classification.ipynb",
      "provenance": [],
      "collapsed_sections": []
    },
    "kernelspec": {
      "name": "python3",
      "display_name": "Python 3"
    }
  },
  "cells": [
    {
      "cell_type": "markdown",
      "metadata": {
        "id": "UevElvwSg0_2",
        "colab_type": "text"
      },
      "source": [
        "# Part 1.6. Softmax Classification"
      ]
    },
    {
      "cell_type": "code",
      "metadata": {
        "id": "MYpKaJYUg8cH",
        "colab_type": "code",
        "colab": {}
      },
      "source": [
        "import numpy as np\n",
        "import torch\n",
        "import torch.nn as nn\n",
        "import torch.nn.functional as F\n",
        "import torch.optim as optim"
      ],
      "execution_count": 0,
      "outputs": []
    },
    {
      "cell_type": "code",
      "metadata": {
        "id": "QdCd8iQzhgZH",
        "colab_type": "code",
        "colab": {
          "base_uri": "https://localhost:8080/",
          "height": 35
        },
        "outputId": "4c6bd2b5-362e-4a6c-9222-82bf3fbcb66a"
      },
      "source": [
        "torch.manual_seed(1)"
      ],
      "execution_count": 2,
      "outputs": [
        {
          "output_type": "execute_result",
          "data": {
            "text/plain": [
              "<torch._C.Generator at 0x7fb4511feb70>"
            ]
          },
          "metadata": {
            "tags": []
          },
          "execution_count": 2
        }
      ]
    },
    {
      "cell_type": "markdown",
      "metadata": {
        "id": "9UM5m8KMg4eK",
        "colab_type": "text"
      },
      "source": [
        "## 1. Softmax\n",
        "**부드럽게(soft) 최대값(max)을 뽑아준다**는 말처럼 입력값에 대해 일어날 확률을 구해준다. 이 때 입력값의 결과인 확률의 합은 1이다.\n",
        "\n",
        "$$P(class = i) = \\frac{e^i}{\\sum e^i}$$\n"
      ]
    },
    {
      "cell_type": "code",
      "metadata": {
        "id": "n9UpSksHgq2D",
        "colab_type": "code",
        "colab": {
          "base_uri": "https://localhost:8080/",
          "height": 53
        },
        "outputId": "f0121c0a-c94e-4163-c734-5dae198d7371"
      },
      "source": [
        "ft = torch.FloatTensor([1, 2, 3])\n",
        "print(F.softmax(ft, dim=0))\n",
        "print(F.softmax(ft, dim=0).sum())"
      ],
      "execution_count": 3,
      "outputs": [
        {
          "output_type": "stream",
          "text": [
            "tensor([0.0900, 0.2447, 0.6652])\n",
            "tensor(1.)\n"
          ],
          "name": "stdout"
        }
      ]
    },
    {
      "cell_type": "markdown",
      "metadata": {
        "id": "OLQKcIU4hbYR",
        "colab_type": "text"
      },
      "source": [
        "## 2. Cross Entropy\n",
        "$y$는 one-hot-encoding된 값이고, $\\hat{y}$는 encoding된 각각의 값이 나올 수 있는 확률을 말한다. 만약 확률이 0에 가깝다면 $\\log{\\hat y}$는 $-\\infty$에 가까워지고 1에 가까워진다면 $0$에 가까워진다. \n",
        "\n",
        "이를 각각의 확률에 one-hot-encoding된 값을 곱한 다음 거기에 $-$를 곱하면 **y가 발생하지 않을 확률**을 구할 수 있다. 이 확률들을 다 더하여 평균을 내면 우리가 원하는 cost function이 된다.\n",
        "\n",
        "$$L = \\frac{1}{N} \\sum -y\\log{\\hat y}$$\n",
        "\n"
      ]
    },
    {
      "cell_type": "code",
      "metadata": {
        "id": "CJDTSU22hc-p",
        "colab_type": "code",
        "colab": {
          "base_uri": "https://localhost:8080/",
          "height": 143
        },
        "outputId": "3d4c72db-b4d7-44be-814f-8f4d3b2e4471"
      },
      "source": [
        "pred = torch.rand(3, 5, requires_grad=True)\n",
        "y = torch.randint(5, (3,)).long()\n",
        "y_one_hot = torch.zeros_like(pred).scatter(1, y.unsqueeze(1), 1)\n",
        "cost = (y_one_hot * - torch.log(F.softmax(pred, dim=1))).sum(dim=1).mean()\n",
        "\n",
        "print(pred)\n",
        "print(y_one_hot)\n",
        "print(cost)"
      ],
      "execution_count": 21,
      "outputs": [
        {
          "output_type": "stream",
          "text": [
            "tensor([[0.9891, 0.1500, 0.6211, 0.1303, 0.9269],\n",
            "        [0.3060, 0.8012, 0.5149, 0.4611, 0.4840],\n",
            "        [0.5850, 0.7357, 0.5802, 0.6525, 0.0502]], requires_grad=True)\n",
            "tensor([[0., 1., 0., 0., 0.],\n",
            "        [1., 0., 0., 0., 0.],\n",
            "        [0., 0., 1., 0., 0.]])\n",
            "tensor(1.8316, grad_fn=<MeanBackward0>)\n"
          ],
          "name": "stdout"
        }
      ]
    },
    {
      "cell_type": "code",
      "metadata": {
        "id": "xGHDXbNrx4IK",
        "colab_type": "code",
        "colab": {
          "base_uri": "https://localhost:8080/",
          "height": 53
        },
        "outputId": "0352e9c4-35ca-49cc-85fd-b1252b576645"
      },
      "source": [
        "# log_softmax와 nll_lose 함수로 계산 가능\n",
        "print(F.nll_loss(F.log_softmax(pred, dim=1), y))\n",
        "\n",
        "# cross_entropy 함수로 계산 가능\n",
        "print(F.cross_entropy(pred, y))"
      ],
      "execution_count": 22,
      "outputs": [
        {
          "output_type": "stream",
          "text": [
            "tensor(1.8316, grad_fn=<NllLossBackward>)\n",
            "tensor(1.8316, grad_fn=<NllLossBackward>)\n"
          ],
          "name": "stdout"
        }
      ]
    },
    {
      "cell_type": "markdown",
      "metadata": {
        "id": "WUoBGuy206lA",
        "colab_type": "text"
      },
      "source": [
        "## 3. Training with Cross Entrophy Loss"
      ]
    },
    {
      "cell_type": "code",
      "metadata": {
        "id": "WZvORSQU0-Uu",
        "colab_type": "code",
        "colab": {}
      },
      "source": [
        "# 데이터셋\n",
        "x_train = [[1, 2, 1, 1],\n",
        "           [2, 1, 3, 2],\n",
        "           [3, 1, 3, 4],\n",
        "           [4, 1, 5, 5],\n",
        "           [1, 7, 5, 5],\n",
        "           [1, 2, 5, 6],\n",
        "           [1, 6, 6, 6],\n",
        "           [1, 7, 7, 7]]\n",
        "y_train = [2, 2, 2, 1, 1, 1, 0, 0]\n",
        "x_train = torch.FloatTensor(x_train)\n",
        "y_train = torch.LongTensor(y_train)"
      ],
      "execution_count": 0,
      "outputs": []
    },
    {
      "cell_type": "code",
      "metadata": {
        "id": "lw8TLOAM1Han",
        "colab_type": "code",
        "colab": {}
      },
      "source": [
        "# 모델 정의\n",
        "class SoftmaxClassifierModel(nn.Module):\n",
        "    def __init__(self):\n",
        "        super().__init__()\n",
        "        self.linear = nn.Linear(4, 3)  # 입력의 크기 4, 출력의 크기 3 (0, 1, 2)\n",
        "\n",
        "    def forward(self, x):\n",
        "        return self.linear(x)          # (m, 3)"
      ],
      "execution_count": 0,
      "outputs": []
    },
    {
      "cell_type": "code",
      "metadata": {
        "id": "v2nsHfL41M-t",
        "colab_type": "code",
        "colab": {}
      },
      "source": [
        "model = SoftmaxClassifierModel()"
      ],
      "execution_count": 0,
      "outputs": []
    },
    {
      "cell_type": "code",
      "metadata": {
        "id": "LxdgNF4Z1g3w",
        "colab_type": "code",
        "colab": {}
      },
      "source": [
        "# optimizer 설정\n",
        "optimizer = optim.SGD(model.parameters(), lr=0.1)"
      ],
      "execution_count": 0,
      "outputs": []
    },
    {
      "cell_type": "code",
      "metadata": {
        "id": "bD-fUiCU1waP",
        "colab_type": "code",
        "colab": {
          "base_uri": "https://localhost:8080/",
          "height": 215
        },
        "outputId": "fd74d821-c9b1-4a2b-c8dd-b085a8d097c1"
      },
      "source": [
        "# 반복 학습\n",
        "nb_epochs = 1000\n",
        "for epoch in range(nb_epochs + 1):\n",
        "    prediction = model(x_train)\n",
        "    cost = F.cross_entropy(prediction, y_train)\n",
        "\n",
        "    optimizer.zero_grad()\n",
        "    cost.backward()\n",
        "    optimizer.step()\n",
        "    \n",
        "    # epoch 100번 마다 출력\n",
        "    if epoch % 100 == 0:\n",
        "        print('Epoch {:4d}/{} Cost: {:.6f}'.format(epoch, nb_epochs, cost.item()))"
      ],
      "execution_count": 34,
      "outputs": [
        {
          "output_type": "stream",
          "text": [
            "Epoch    0/1000 Cost: 2.077572\n",
            "Epoch  100/1000 Cost: 0.703077\n",
            "Epoch  200/1000 Cost: 0.625377\n",
            "Epoch  300/1000 Cost: 0.570115\n",
            "Epoch  400/1000 Cost: 0.520952\n",
            "Epoch  500/1000 Cost: 0.474237\n",
            "Epoch  600/1000 Cost: 0.428575\n",
            "Epoch  700/1000 Cost: 0.383289\n",
            "Epoch  800/1000 Cost: 0.338086\n",
            "Epoch  900/1000 Cost: 0.293336\n",
            "Epoch 1000/1000 Cost: 0.253128\n"
          ],
          "name": "stdout"
        }
      ]
    },
    {
      "cell_type": "markdown",
      "metadata": {
        "id": "tzkHm_zO2hRH",
        "colab_type": "text"
      },
      "source": [
        "## 4. Summary\n",
        "* Binary Classification : 비용 함수로 `BCE(Binary Cross Entropy)`를, 활성화 함수로 `sigmoid`를 사용\n",
        "* Multilabel Classification : 비용 함수로 `CE(Cross Entropy)`를, 활성화 함수로 `softmax`를 사용"
      ]
    }
  ]
}