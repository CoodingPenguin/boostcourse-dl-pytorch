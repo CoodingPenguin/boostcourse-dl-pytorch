{
 "cells": [
  {
   "cell_type": "markdown",
   "metadata": {
    "colab_type": "text",
    "id": "uogPEKRzs9tu"
   },
   "source": [
    "# Part 1.1. Tensor Manipulation"
   ]
  },
  {
   "cell_type": "code",
   "execution_count": 0,
   "metadata": {
    "colab": {},
    "colab_type": "code",
    "id": "FE6yJ4x_s9tw"
   },
   "outputs": [],
   "source": [
    "import torch"
   ]
  },
  {
   "cell_type": "markdown",
   "metadata": {
    "colab_type": "text",
    "id": "Oriel8KHs9t0"
   },
   "source": [
    "## 1. Vector, Matrix and Tensor\n",
    "`1D`를 vector, `2D`를 matrix, `3D`를 tensor라고 부른다. `4D`는 tensor를 위로, `5D`는 `4D`를 옆으로, `6D`는 `5D`를 위로 확장한 것이다.\n",
    "\n",
    "![1-1.png](./img/1-1.png)"
   ]
  },
  {
   "cell_type": "markdown",
   "metadata": {
    "colab_type": "text",
    "id": "8KQJq7Ios9t1"
   },
   "source": [
    "## 2. Pytorch Tensor Shape Convention\n",
    "어떤 모양의 tensor 든 간에 `1D`는 **batch size** 즉, 데이터의 개수를 말한다. 그리고 `2D`부터 해당 데이터가 어떻게 생겼는지를 설명한다. \n",
    "\n",
    "* `2D Tensor` : $|t| = (batch size, dim)$ 데이터 개수가 batch size만큼 있으며, 차원(=벡터의 크기)는 dim이다.\n",
    "* `3D Tensor Vision` : $|t| = (batch size, width, height)$ 데이터 개수가 batch size만큼 있으며, 이미지의 너비가 width, 높이가 height이다.\n",
    "* `3D Tensor NLP` : $|t| = (batch size, length, dim)$ 데이터 개수가 batch size만큼 있으며, 문장의 길이가 length이며, 각 단어의 차원은 dim이다."
   ]
  },
  {
   "cell_type": "markdown",
   "metadata": {
    "colab_type": "text",
    "id": "VTuaDQ92s9t2"
   },
   "source": [
    "## 3. Pytorch Tensor\n",
    "* `dim()` : 차원\n",
    "* `shape`, `size()` : 모양"
   ]
  },
  {
   "cell_type": "code",
   "execution_count": 2,
   "metadata": {
    "colab": {
     "base_uri": "https://localhost:8080/",
     "height": 161
    },
    "colab_type": "code",
    "executionInfo": {
     "elapsed": 3595,
     "status": "ok",
     "timestamp": 1583564896620,
     "user": {
      "displayName": "박소현",
      "photoUrl": "",
      "userId": "04890095664734078752"
     },
     "user_tz": -540
    },
    "id": "ANfBuu1Eud2D",
    "outputId": "f327e88f-760d-4a5a-b3ad-e2c01629c889"
   },
   "outputs": [
    {
     "name": "stdout",
     "output_type": "stream",
     "text": [
      "tensor([0., 1., 2., 3., 4., 5., 6.])\n",
      "1\n",
      "torch.Size([7])\n",
      "torch.Size([7])\n",
      "tensor(0.) tensor(1.) tensor(6.)\n",
      "tensor([2., 3., 4.]) tensor([4., 5.])\n",
      "tensor([0., 1.]) tensor([3., 4., 5., 6.])\n",
      "tensor([0., 1., 2., 3., 4., 5., 6.])\n"
     ]
    }
   ],
   "source": [
    "# 1차원 벡터\n",
    "t = torch.FloatTensor([0., 1., 2., 3., 4., 5., 6.])\n",
    "\n",
    "print(t)\n",
    "print(t.dim())\n",
    "print(t.shape)\n",
    "print(t.size())\n",
    "print(t[0], t[1], t[-1])\n",
    "print(t[2:5], t[4:-1])\n",
    "print(t[:2], t[3:])\n",
    "print(t[:])"
   ]
  },
  {
   "cell_type": "markdown",
   "metadata": {
    "colab_type": "text",
    "id": "apOfluk5vpNZ"
   },
   "source": [
    "2차원 부터는 인덱스 안에 `:`이 있다면 해당 차원을 없앤다. 즉, 한 차원을 줄인다고 받아들이면 쉽다."
   ]
  },
  {
   "cell_type": "code",
   "execution_count": 3,
   "metadata": {
    "colab": {
     "base_uri": "https://localhost:8080/",
     "height": 269
    },
    "colab_type": "code",
    "executionInfo": {
     "elapsed": 3592,
     "status": "ok",
     "timestamp": 1583564896621,
     "user": {
      "displayName": "박소현",
      "photoUrl": "",
      "userId": "04890095664734078752"
     },
     "user_tz": -540
    },
    "id": "SvWp1F1Nuy8O",
    "outputId": "7abec1e3-3b64-46a8-8687-d006e8cef3aa"
   },
   "outputs": [
    {
     "name": "stdout",
     "output_type": "stream",
     "text": [
      "tensor([[ 1.,  2.,  3.],\n",
      "        [ 4.,  5.,  6.],\n",
      "        [ 7.,  8.,  9.],\n",
      "        [10., 11., 12.]])\n",
      "2\n",
      "torch.Size([4, 3])\n",
      "torch.Size([4, 3])\n",
      "tensor([ 2.,  5.,  8., 11.])\n",
      "torch.Size([4])\n",
      "tensor([[ 1.,  2.],\n",
      "        [ 4.,  5.],\n",
      "        [ 7.,  8.],\n",
      "        [10., 11.]])\n",
      "tensor([4., 5., 6.])\n"
     ]
    }
   ],
   "source": [
    "# 2차원 행렬\n",
    "t = torch.FloatTensor([[1., 2., 3.],\n",
    "                      [4., 5., 6.],\n",
    "                      [7., 8., 9.],\n",
    "                      [10., 11., 12.]])\n",
    "\n",
    "print(t)\n",
    "print(t.dim())\n",
    "print(t.shape)\n",
    "print(t.size())\n",
    "print(t[:, 1])\n",
    "print(t[:, 1].size())\n",
    "print(t[:, :-1])\n",
    "print(t[1, :])"
   ]
  },
  {
   "cell_type": "markdown",
   "metadata": {
    "colab_type": "text",
    "id": "uT4qE0AhwKz2"
   },
   "source": [
    "## 4. Broadcasting\n",
    "연산 시에 크기(=모양)이 다르다면 자동적으로 사이즈를 맞춰주는 기능을 말한다."
   ]
  },
  {
   "cell_type": "code",
   "execution_count": 4,
   "metadata": {
    "colab": {
     "base_uri": "https://localhost:8080/",
     "height": 35
    },
    "colab_type": "code",
    "executionInfo": {
     "elapsed": 3589,
     "status": "ok",
     "timestamp": 1583564896622,
     "user": {
      "displayName": "박소현",
      "photoUrl": "",
      "userId": "04890095664734078752"
     },
     "user_tz": -540
    },
    "id": "Sk3F8GmHwWPd",
    "outputId": "0dd45b20-010d-4e6d-991b-fdaf52a15a96"
   },
   "outputs": [
    {
     "name": "stdout",
     "output_type": "stream",
     "text": [
      "tensor([[5., 5.]])\n"
     ]
    }
   ],
   "source": [
    "m1 = torch.FloatTensor([[3, 3]])  # |m1| = (1, 2)\n",
    "m2 = torch.FloatTensor([[2, 2]])  # |m2| = (1, 2)\n",
    "print(m1 + m2)"
   ]
  },
  {
   "cell_type": "code",
   "execution_count": 5,
   "metadata": {
    "colab": {
     "base_uri": "https://localhost:8080/",
     "height": 35
    },
    "colab_type": "code",
    "executionInfo": {
     "elapsed": 3585,
     "status": "ok",
     "timestamp": 1583564896622,
     "user": {
      "displayName": "박소현",
      "photoUrl": "",
      "userId": "04890095664734078752"
     },
     "user_tz": -540
    },
    "id": "uKIWvayAwivl",
    "outputId": "c8df29d4-9a8f-49cc-da9a-ecd83b9d9a60"
   },
   "outputs": [
    {
     "name": "stdout",
     "output_type": "stream",
     "text": [
      "tensor([[4., 5.]])\n"
     ]
    }
   ],
   "source": [
    "m1 = torch.FloatTensor([[1, 2]])  # |m1| = (1, 2)\n",
    "m2 = torch.FloatTensor([3])       # |m2| = (1, ) -> (1, 2)\n",
    "print(m1 + m2)"
   ]
  },
  {
   "cell_type": "code",
   "execution_count": 6,
   "metadata": {
    "colab": {
     "base_uri": "https://localhost:8080/",
     "height": 53
    },
    "colab_type": "code",
    "executionInfo": {
     "elapsed": 3582,
     "status": "ok",
     "timestamp": 1583564896623,
     "user": {
      "displayName": "박소현",
      "photoUrl": "",
      "userId": "04890095664734078752"
     },
     "user_tz": -540
    },
    "id": "74IWw2sOwxIV",
    "outputId": "66a182ed-f0bc-41c1-dc1c-b1fcd1c07016"
   },
   "outputs": [
    {
     "name": "stdout",
     "output_type": "stream",
     "text": [
      "tensor([[4., 5.],\n",
      "        [5., 6.]])\n"
     ]
    }
   ],
   "source": [
    "m1 = torch.FloatTensor([[1, 2]])    # |m1| = (1, 2) -> (2, 2)\n",
    "m2 = torch.FloatTensor([[3], [4]])  # |m2| = (2, 1) -> (2, 2)\n",
    "print(m1 + m2)"
   ]
  },
  {
   "cell_type": "markdown",
   "metadata": {
    "colab_type": "text",
    "id": "fEry65CrxKWv"
   },
   "source": [
    "## 5. Multiplication vs Matrix Multiplication\n",
    "* `a.matmul(b)` : 행렬의 내적 즉, dot production\n",
    "* `a.mul(b)` : element-wise 곱셈"
   ]
  },
  {
   "cell_type": "code",
   "execution_count": 0,
   "metadata": {
    "colab": {},
    "colab_type": "code",
    "id": "y13zs2KkxEcs"
   },
   "outputs": [],
   "source": [
    "m1 = torch.FloatTensor([[1, 2], [3, 4]])  # |m1| = (2, 2)\n",
    "m2 = torch.FloatTensor([[1], [2]])        # |m2| = (2, 1)"
   ]
  },
  {
   "cell_type": "code",
   "execution_count": 8,
   "metadata": {
    "colab": {
     "base_uri": "https://localhost:8080/",
     "height": 53
    },
    "colab_type": "code",
    "executionInfo": {
     "elapsed": 3842,
     "status": "ok",
     "timestamp": 1583564896889,
     "user": {
      "displayName": "박소현",
      "photoUrl": "",
      "userId": "04890095664734078752"
     },
     "user_tz": -540
    },
    "id": "V8QH3afayOPF",
    "outputId": "db34b91a-36f9-4e19-83b9-901becf8e96e"
   },
   "outputs": [
    {
     "name": "stdout",
     "output_type": "stream",
     "text": [
      "tensor([[ 5.],\n",
      "        [11.]])\n"
     ]
    }
   ],
   "source": [
    "# matmul : 행렬의 내적\n",
    "print(m1.matmul(m2))"
   ]
  },
  {
   "cell_type": "code",
   "execution_count": 9,
   "metadata": {
    "colab": {
     "base_uri": "https://localhost:8080/",
     "height": 53
    },
    "colab_type": "code",
    "executionInfo": {
     "elapsed": 3840,
     "status": "ok",
     "timestamp": 1583564896890,
     "user": {
      "displayName": "박소현",
      "photoUrl": "",
      "userId": "04890095664734078752"
     },
     "user_tz": -540
    },
    "id": "3DVPSM5Nyb06",
    "outputId": "98471389-0f89-4a1c-ddd8-fd79323d71a8"
   },
   "outputs": [
    {
     "name": "stdout",
     "output_type": "stream",
     "text": [
      "tensor([[1., 2.],\n",
      "        [6., 8.]])\n"
     ]
    }
   ],
   "source": [
    "# mul : element-wise 곱셈\n",
    "print(m1.mul(m2))"
   ]
  },
  {
   "cell_type": "markdown",
   "metadata": {
    "colab_type": "text",
    "id": "u6U7fhJ05EuS"
   },
   "source": [
    "## 6. Other Operators"
   ]
  },
  {
   "cell_type": "markdown",
   "metadata": {
    "colab_type": "text",
    "id": "wmRYu8S3ykRu"
   },
   "source": [
    "### 6.1. Aggregate Operators\n",
    "전체에 대한 연산을 진행할 수 있지만 각 축마다 연산을 진행할 수 있다. 이 때 `dim`이 0일 때, 1일 때 등이 어떤 축을 말하는 건지 헷갈릴 수 있는데 그 때는 **해당 연산을 통해서 해당 축을 없앤다**는 느낌으로 받아들이면 된다."
   ]
  },
  {
   "cell_type": "code",
   "execution_count": 10,
   "metadata": {
    "colab": {
     "base_uri": "https://localhost:8080/",
     "height": 35
    },
    "colab_type": "code",
    "executionInfo": {
     "elapsed": 3836,
     "status": "ok",
     "timestamp": 1583564896890,
     "user": {
      "displayName": "박소현",
      "photoUrl": "",
      "userId": "04890095664734078752"
     },
     "user_tz": -540
    },
    "id": "_DtJZ8U0y9TY",
    "outputId": "6cec053c-ce6d-44f7-f7ae-9c9dfbc6c2cb"
   },
   "outputs": [
    {
     "name": "stdout",
     "output_type": "stream",
     "text": [
      "torch.Size([2, 3])\n"
     ]
    }
   ],
   "source": [
    "t = torch.FloatTensor([[1, 2, 3], [4, 5, 6]])\n",
    "print(t.size())"
   ]
  },
  {
   "cell_type": "code",
   "execution_count": 11,
   "metadata": {
    "colab": {
     "base_uri": "https://localhost:8080/",
     "height": 89
    },
    "colab_type": "code",
    "executionInfo": {
     "elapsed": 3833,
     "status": "ok",
     "timestamp": 1583564896891,
     "user": {
      "displayName": "박소현",
      "photoUrl": "",
      "userId": "04890095664734078752"
     },
     "user_tz": -540
    },
    "id": "fgzg1VgUy0sF",
    "outputId": "62fab8c5-08df-4e80-83b6-3f28d8f0c616"
   },
   "outputs": [
    {
     "name": "stdout",
     "output_type": "stream",
     "text": [
      "tensor(3.5000)\n",
      "tensor([2.5000, 3.5000, 4.5000])\n",
      "tensor([2., 5.])\n",
      "tensor([2., 5.])\n"
     ]
    }
   ],
   "source": [
    "# mean : 평균\n",
    "print(t.mean())         # 전체 요소에 대한 평균\n",
    "print(t.mean(dim=0))    # 첫 번째 차원에 대한 평균 -> (1, 3)\n",
    "print(t.mean(dim=1))    # 두 번째 차원에 대한 평균 -> (2, 1)\n",
    "print(t.mean(dim=-1))   # 마지막 차원에 대한 평균"
   ]
  },
  {
   "cell_type": "code",
   "execution_count": 12,
   "metadata": {
    "colab": {
     "base_uri": "https://localhost:8080/",
     "height": 89
    },
    "colab_type": "code",
    "executionInfo": {
     "elapsed": 3830,
     "status": "ok",
     "timestamp": 1583564896891,
     "user": {
      "displayName": "박소현",
      "photoUrl": "",
      "userId": "04890095664734078752"
     },
     "user_tz": -540
    },
    "id": "lE2UauItzbXz",
    "outputId": "3e2aaa49-d243-40b3-97dc-d403c73c446f"
   },
   "outputs": [
    {
     "name": "stdout",
     "output_type": "stream",
     "text": [
      "tensor(21.)\n",
      "tensor([5., 7., 9.])\n",
      "tensor([ 6., 15.])\n",
      "tensor([ 6., 15.])\n"
     ]
    }
   ],
   "source": [
    "# sum : 합\n",
    "print(t.sum())          # 전체 요소에 대한 합\n",
    "print(t.sum(dim=0))     # 첫 번째 차원에 대한 합 -> (1, 3)\n",
    "print(t.sum(dim=1))     # 두 번째 차원에 대한 합 -> (2, 1)\n",
    "print(t.sum(dim=-1))    # 마지막 차원에 대한 합"
   ]
  },
  {
   "cell_type": "code",
   "execution_count": 13,
   "metadata": {
    "colab": {
     "base_uri": "https://localhost:8080/",
     "height": 197
    },
    "colab_type": "code",
    "executionInfo": {
     "elapsed": 3827,
     "status": "ok",
     "timestamp": 1583564896892,
     "user": {
      "displayName": "박소현",
      "photoUrl": "",
      "userId": "04890095664734078752"
     },
     "user_tz": -540
    },
    "id": "tt5-87fxzz5z",
    "outputId": "59b45260-48ed-4fbb-c745-929b38be8f72"
   },
   "outputs": [
    {
     "name": "stdout",
     "output_type": "stream",
     "text": [
      "tensor(6.)\n",
      "torch.return_types.max(\n",
      "values=tensor([4., 5., 6.]),\n",
      "indices=tensor([1, 1, 1]))\n",
      "torch.return_types.max(\n",
      "values=tensor([3., 6.]),\n",
      "indices=tensor([2, 2]))\n",
      "torch.return_types.max(\n",
      "values=tensor([3., 6.]),\n",
      "indices=tensor([2, 2]))\n"
     ]
    }
   ],
   "source": [
    "# max : 최대값 \n",
    "print(t.max())\n",
    "\n",
    "# dim을 입력으로 넣을시 반환값으로 최대값과 최대값의 위치를 반환\n",
    "# 인덱스를 통해 각각에 접근할 수 있음\n",
    "print(t.max(dim=0))   # 첫 번째 차원에 대한 합 -> (1, 3)\n",
    "print(t.max(dim=1))   # 두 번째 차원에 대한 합 -> (2, 1)\n",
    "print(t.max(dim=-1))  # 마지막 차원에 대한 합"
   ]
  },
  {
   "cell_type": "markdown",
   "metadata": {
    "colab_type": "text",
    "id": "YCkCcr3U0yeF"
   },
   "source": [
    "### 6.2. View\n",
    "`np.reshape`와 같은 기능을 한다. tensor의 모양을 변형할 수 있다. 변형된 tensor의 각 차원의 크기의 곱은 원래 tensor의 각 차원의 크기와 같다. 이를 통해 `-1`로 된 미지의 차원의 크기를 구할 수 있다. `-1`의 경우 가장 변동이 심한 차원 예를 들면, **batch size**와 같은 차원에 넣는다.\n"
   ]
  },
  {
   "cell_type": "code",
   "execution_count": 14,
   "metadata": {
    "colab": {
     "base_uri": "https://localhost:8080/",
     "height": 35
    },
    "colab_type": "code",
    "executionInfo": {
     "elapsed": 606,
     "status": "ok",
     "timestamp": 1583565025786,
     "user": {
      "displayName": "박소현",
      "photoUrl": "",
      "userId": "04890095664734078752"
     },
     "user_tz": -540
    },
    "id": "9sawm5bF07U0",
    "outputId": "0ae969ef-7cc5-4e03-d7b2-30d1c3346a34"
   },
   "outputs": [
    {
     "name": "stdout",
     "output_type": "stream",
     "text": [
      "torch.Size([2, 2, 3])\n"
     ]
    }
   ],
   "source": [
    "t = torch.FloatTensor([[[0, 1, 2],\n",
    "                        [3, 4, 5]],\n",
    "                       [[6, 7, 8],\n",
    "                        [9, 10, 11]]])\n",
    "print(t.size())"
   ]
  },
  {
   "cell_type": "code",
   "execution_count": 16,
   "metadata": {
    "colab": {
     "base_uri": "https://localhost:8080/",
     "height": 251
    },
    "colab_type": "code",
    "executionInfo": {
     "elapsed": 638,
     "status": "ok",
     "timestamp": 1583565207854,
     "user": {
      "displayName": "박소현",
      "photoUrl": "",
      "userId": "04890095664734078752"
     },
     "user_tz": -540
    },
    "id": "_tau0bJ61L1f",
    "outputId": "51aa07ed-5672-45e1-b515-fb9271aa6560"
   },
   "outputs": [
    {
     "name": "stdout",
     "output_type": "stream",
     "text": [
      "tensor([[ 0.,  1.,  2.],\n",
      "        [ 3.,  4.,  5.],\n",
      "        [ 6.,  7.,  8.],\n",
      "        [ 9., 10., 11.]])\n",
      "torch.Size([4, 3])\n",
      "tensor([[[ 0.,  1.,  2.]],\n",
      "\n",
      "        [[ 3.,  4.,  5.]],\n",
      "\n",
      "        [[ 6.,  7.,  8.]],\n",
      "\n",
      "        [[ 9., 10., 11.]]])\n",
      "torch.Size([4, 1, 3])\n"
     ]
    }
   ],
   "source": [
    "tv1 = t.view([-1, 3])       # (4, 3) = 12\n",
    "tv2 = t.view([-1, 1, 3])    # (4, 1, 3) = 12\n",
    "\n",
    "print(tv1)\n",
    "print(tv1.size())\n",
    "print(tv2)\n",
    "print(tv2.size())"
   ]
  },
  {
   "cell_type": "markdown",
   "metadata": {
    "colab_type": "text",
    "id": "BFqqQlkW2EV4"
   },
   "source": [
    "### 6.3. Squeeze\n",
    "어떤 차원의 크기가 1인 경우 해당 차원을 없애준다. `squeeze`는 단순히 1인 차원만 제거하므로 `view`처럼 변형되 tensor의 각 차원의 크기의 곱과 원래 tensor의 각 차원의 크기의 곱과 같다."
   ]
  },
  {
   "cell_type": "code",
   "execution_count": 17,
   "metadata": {
    "colab": {
     "base_uri": "https://localhost:8080/",
     "height": 89
    },
    "colab_type": "code",
    "executionInfo": {
     "elapsed": 603,
     "status": "ok",
     "timestamp": 1583565382141,
     "user": {
      "displayName": "박소현",
      "photoUrl": "",
      "userId": "04890095664734078752"
     },
     "user_tz": -540
    },
    "id": "rCSNkomo2YEa",
    "outputId": "10db8c57-b204-4459-b458-fa0f39e61f98"
   },
   "outputs": [
    {
     "name": "stdout",
     "output_type": "stream",
     "text": [
      "tensor([[[0.],\n",
      "         [1.],\n",
      "         [2.]]])\n",
      "torch.Size([1, 3, 1])\n"
     ]
    }
   ],
   "source": [
    "t = torch.FloatTensor([[[0], [1], [2]]])  # (1, 3, 1)\n",
    "\n",
    "print(t)\n",
    "print(t.size())"
   ]
  },
  {
   "cell_type": "code",
   "execution_count": 18,
   "metadata": {
    "colab": {
     "base_uri": "https://localhost:8080/",
     "height": 53
    },
    "colab_type": "code",
    "executionInfo": {
     "elapsed": 607,
     "status": "ok",
     "timestamp": 1583565478912,
     "user": {
      "displayName": "박소현",
      "photoUrl": "",
      "userId": "04890095664734078752"
     },
     "user_tz": -540
    },
    "id": "7CK0_yAu2yC6",
    "outputId": "b57bf25e-bcf8-473d-a21d-29f01f5a0c6f"
   },
   "outputs": [
    {
     "name": "stdout",
     "output_type": "stream",
     "text": [
      "tensor([0., 1., 2.])\n",
      "torch.Size([3])\n"
     ]
    }
   ],
   "source": [
    "print(t.squeeze())            # (3, )\n",
    "print(t.squeeze().size())"
   ]
  },
  {
   "cell_type": "markdown",
   "metadata": {
    "colab_type": "text",
    "id": "a2guFEnh2-hL"
   },
   "source": [
    "### 6.4. Unsqueeze\n",
    "`squeeze`와 반대로 내가 원하는 차원에 1을 추가할 수 있다. 즉, 차원을 늘려준다."
   ]
  },
  {
   "cell_type": "code",
   "execution_count": 20,
   "metadata": {
    "colab": {
     "base_uri": "https://localhost:8080/",
     "height": 53
    },
    "colab_type": "code",
    "executionInfo": {
     "elapsed": 583,
     "status": "ok",
     "timestamp": 1583565606699,
     "user": {
      "displayName": "박소현",
      "photoUrl": "",
      "userId": "04890095664734078752"
     },
     "user_tz": -540
    },
    "id": "YgkRulCJ3G8G",
    "outputId": "5c3b7e9f-fb69-4043-8934-8f57193d7f7e"
   },
   "outputs": [
    {
     "name": "stdout",
     "output_type": "stream",
     "text": [
      "tensor([0., 1., 2.])\n",
      "torch.Size([3])\n"
     ]
    }
   ],
   "source": [
    "t = torch.Tensor([0, 1, 2])   # (3, )\n",
    "\n",
    "print(t)\n",
    "print(t.size())"
   ]
  },
  {
   "cell_type": "code",
   "execution_count": 22,
   "metadata": {
    "colab": {
     "base_uri": "https://localhost:8080/",
     "height": 197
    },
    "colab_type": "code",
    "executionInfo": {
     "elapsed": 610,
     "status": "ok",
     "timestamp": 1583565696254,
     "user": {
      "displayName": "박소현",
      "photoUrl": "",
      "userId": "04890095664734078752"
     },
     "user_tz": -540
    },
    "id": "CGbnFL1t3PoP",
    "outputId": "50e6d645-3dc7-407e-fee5-7dd7c49cf7df"
   },
   "outputs": [
    {
     "name": "stdout",
     "output_type": "stream",
     "text": [
      "tensor([[0., 1., 2.]])\n",
      "torch.Size([1, 3])\n",
      "tensor([[0.],\n",
      "        [1.],\n",
      "        [2.]])\n",
      "torch.Size([3, 1])\n",
      "tensor([[0.],\n",
      "        [1.],\n",
      "        [2.]])\n",
      "torch.Size([3, 1])\n"
     ]
    }
   ],
   "source": [
    "print(t.unsqueeze(0))         # 첫 번째 차원에 추가 -> (1, 3)\n",
    "print(t.unsqueeze(0).size())\n",
    "\n",
    "print(t.unsqueeze(1))         # 두 번째 차원에 추가 -> (3, 1)\n",
    "print(t.unsqueeze(1).size())\n",
    "\n",
    "print(t.unsqueeze(-1))        # 마지막 차원에 추가  -> (3, 1)\n",
    "print(t.unsqueeze(-1).size())"
   ]
  },
  {
   "cell_type": "markdown",
   "metadata": {
    "colab_type": "text",
    "id": "gtsr-6pX4B7l"
   },
   "source": [
    "### 6.5. Type Casting\n",
    "tensor 안의 요소들의 데이터 타입을 캐스팅 할 수 있다.\n",
    "* `t.float()` : float 실수로 캐스팅\n",
    "* `t.long()` : int 정수로 캐스팅"
   ]
  },
  {
   "cell_type": "code",
   "execution_count": 23,
   "metadata": {
    "colab": {
     "base_uri": "https://localhost:8080/",
     "height": 53
    },
    "colab_type": "code",
    "executionInfo": {
     "elapsed": 591,
     "status": "ok",
     "timestamp": 1583565942739,
     "user": {
      "displayName": "박소현",
      "photoUrl": "",
      "userId": "04890095664734078752"
     },
     "user_tz": -540
    },
    "id": "XstjMex84g-T",
    "outputId": "e106fdb2-d9b5-434e-bba7-aafe3911fd9a"
   },
   "outputs": [
    {
     "name": "stdout",
     "output_type": "stream",
     "text": [
      "tensor([1., 2., 3., 4.])\n",
      "tensor([1, 2, 3, 4])\n"
     ]
    }
   ],
   "source": [
    "lt = torch.LongTensor([1, 2, 3, 4])\n",
    "ft = torch.FloatTensor([1., 2., 3., 4.])\n",
    "\n",
    "print(lt.float())\n",
    "print(ft.long())"
   ]
  },
  {
   "cell_type": "markdown",
   "metadata": {
    "colab_type": "text",
    "id": "wUwXYv214sfU"
   },
   "source": [
    "### 6.6. Concatenate\n",
    "이어붙이는 면의 차원이 같을 경우 tensor를 이어붙일 수 있다. `dim`을 통해 어디로 이어붙일지 설정할 수 있는데 해당 `dim`을 늘린다고 생각하면 된다."
   ]
  },
  {
   "cell_type": "code",
   "execution_count": 25,
   "metadata": {
    "colab": {
     "base_uri": "https://localhost:8080/",
     "height": 161
    },
    "colab_type": "code",
    "executionInfo": {
     "elapsed": 615,
     "status": "ok",
     "timestamp": 1583566333760,
     "user": {
      "displayName": "박소현",
      "photoUrl": "",
      "userId": "04890095664734078752"
     },
     "user_tz": -540
    },
    "id": "a7WYv6Wq5lzq",
    "outputId": "c22989c6-782e-4884-ede6-5ced7ba93177"
   },
   "outputs": [
    {
     "name": "stdout",
     "output_type": "stream",
     "text": [
      "tensor([[1., 2.],\n",
      "        [3., 4.],\n",
      "        [5., 6.],\n",
      "        [7., 8.]])\n",
      "torch.Size([4, 2])\n",
      "tensor([[1., 2., 5., 6.],\n",
      "        [3., 4., 7., 8.]])\n",
      "torch.Size([2, 4])\n"
     ]
    }
   ],
   "source": [
    "ft1 = torch.FloatTensor([[1, 2], [3, 4]])   # (2, 2)\n",
    "ft2 = torch.FloatTensor([[5, 6], [7, 8]])   # (2, 2)\n",
    "\n",
    "rt1 = torch.cat([ft1, ft2], dim=0)          # (4, 2)\n",
    "rt2 = torch.cat([ft1, ft2], dim=1)          # (2, 4)\n",
    "\n",
    "print(rt1)\n",
    "print(rt1.size())         \n",
    "print(rt2)\n",
    "print(rt2.size())"
   ]
  },
  {
   "cell_type": "markdown",
   "metadata": {
    "colab_type": "text",
    "id": "fdHpXhHS6LkY"
   },
   "source": [
    "### 6.7. Stacking\n",
    "`concatenate`를 더 편리하게 해준 함수이다. `dim`을 통해 어디로 쌓을지 지정할 수 있으며, default값은 0이다."
   ]
  },
  {
   "cell_type": "code",
   "execution_count": 28,
   "metadata": {
    "colab": {
     "base_uri": "https://localhost:8080/",
     "height": 143
    },
    "colab_type": "code",
    "executionInfo": {
     "elapsed": 624,
     "status": "ok",
     "timestamp": 1583566662151,
     "user": {
      "displayName": "박소현",
      "photoUrl": "",
      "userId": "04890095664734078752"
     },
     "user_tz": -540
    },
    "id": "FNtR82sf63IU",
    "outputId": "f175f259-ce9f-4ecf-8682-dfd143250c9e"
   },
   "outputs": [
    {
     "name": "stdout",
     "output_type": "stream",
     "text": [
      "tensor([[1., 4.],\n",
      "        [2., 5.],\n",
      "        [3., 6.]])\n",
      "torch.Size([3, 2])\n",
      "tensor([[1., 2., 3.],\n",
      "        [4., 5., 6.]])\n",
      "torch.Size([2, 3])\n"
     ]
    }
   ],
   "source": [
    "ft1 = torch.FloatTensor([1, 4])     # (2, )\n",
    "ft2 = torch.FloatTensor([2, 5])     # (2, )\n",
    "ft3 = torch.FloatTensor([3, 6])     # (2, )\n",
    "\n",
    "print(torch.stack([ft1, ft2, ft3]))           # (3. 2)\n",
    "print(torch.stack([ft1, ft2, ft3]).size())\n",
    "print(torch.stack([ft1, ft2, ft3], dim=1))    # (2, 3)\n",
    "print(torch.stack([ft1, ft2, ft3], dim=1).size())"
   ]
  },
  {
   "cell_type": "markdown",
   "metadata": {
    "colab_type": "text",
    "id": "-p8whhg07bT1"
   },
   "source": [
    "### 6.8. Ones and Zeros\n",
    "입력으로 받는 tensor의 크기의 새로운 tensor를 생성하여 `ones_like`는 1로, `zeros_like`는 0으로 초기화시킨다."
   ]
  },
  {
   "cell_type": "code",
   "execution_count": 29,
   "metadata": {
    "colab": {
     "base_uri": "https://localhost:8080/",
     "height": 71
    },
    "colab_type": "code",
    "executionInfo": {
     "elapsed": 555,
     "status": "ok",
     "timestamp": 1583566741887,
     "user": {
      "displayName": "박소현",
      "photoUrl": "",
      "userId": "04890095664734078752"
     },
     "user_tz": -540
    },
    "id": "ktCunMMz7mJp",
    "outputId": "887844b6-b97b-41d3-beca-e3e0713b8825"
   },
   "outputs": [
    {
     "name": "stdout",
     "output_type": "stream",
     "text": [
      "tensor([[0., 1., 2.],\n",
      "        [2., 1., 0.]])\n",
      "torch.Size([2, 3])\n"
     ]
    }
   ],
   "source": [
    "ft = torch.FloatTensor([[0, 1, 2], [2, 1, 0]])\n",
    "\n",
    "print(ft)\n",
    "print(ft.size())"
   ]
  },
  {
   "cell_type": "code",
   "execution_count": 30,
   "metadata": {
    "colab": {
     "base_uri": "https://localhost:8080/",
     "height": 89
    },
    "colab_type": "code",
    "executionInfo": {
     "elapsed": 533,
     "status": "ok",
     "timestamp": 1583566756823,
     "user": {
      "displayName": "박소현",
      "photoUrl": "",
      "userId": "04890095664734078752"
     },
     "user_tz": -540
    },
    "id": "SGsVe5Rd7t8k",
    "outputId": "d4f797f2-5c97-4e1c-cf2a-074a0a245f8b"
   },
   "outputs": [
    {
     "name": "stdout",
     "output_type": "stream",
     "text": [
      "tensor([[1., 1., 1.],\n",
      "        [1., 1., 1.]])\n",
      "tensor([[0., 0., 0.],\n",
      "        [0., 0., 0.]])\n"
     ]
    }
   ],
   "source": [
    "print(torch.ones_like(ft))\n",
    "print(torch.zeros_like(ft))"
   ]
  },
  {
   "cell_type": "markdown",
   "metadata": {
    "colab_type": "text",
    "id": "KHvHs5Xb7zir"
   },
   "source": [
    "### 6.9. In-place Operation\n",
    "연산 결과를 다른 변수가 아닌 원래 변수에 반영을 하고 싶다면 해당 operator 뒤에 `_`를 붙이면 된다."
   ]
  },
  {
   "cell_type": "code",
   "execution_count": 31,
   "metadata": {
    "colab": {
     "base_uri": "https://localhost:8080/",
     "height": 161
    },
    "colab_type": "code",
    "executionInfo": {
     "elapsed": 648,
     "status": "ok",
     "timestamp": 1583566881368,
     "user": {
      "displayName": "박소현",
      "photoUrl": "",
      "userId": "04890095664734078752"
     },
     "user_tz": -540
    },
    "id": "0vaBAyTa7xmU",
    "outputId": "494bc410-2f89-49d0-bff3-0a7425bf04ce"
   },
   "outputs": [
    {
     "name": "stdout",
     "output_type": "stream",
     "text": [
      "tensor([[0., 2., 4.],\n",
      "        [4., 2., 0.]])\n",
      "tensor([[0., 1., 2.],\n",
      "        [2., 1., 0.]])\n",
      "tensor([[0., 2., 4.],\n",
      "        [4., 2., 0.]])\n",
      "tensor([[0., 2., 4.],\n",
      "        [4., 2., 0.]])\n"
     ]
    }
   ],
   "source": [
    "print(ft.mul(2.))\n",
    "print(ft)\n",
    "print(ft.mul_(2.))\n",
    "print(ft)"
   ]
  }
 ],
 "metadata": {
  "accelerator": "GPU",
  "colab": {
   "collapsed_sections": [],
   "name": "Part 1.1. Tensor Manipulation.ipynb의 사본",
   "provenance": [
    {
     "file_id": "https://github.com/CoodingPenguin/boostcourse-dl-pytorch/blob/master/Part%201.%20Machine%20Learning%20and%20Pytorch%20Basic/Part%201.1.%20Tensor%20Manipulation.ipynb",
     "timestamp": 1583564834702
    }
   ],
   "toc_visible": true
  },
  "kernelspec": {
   "display_name": "Python 3",
   "language": "python",
   "name": "python3"
  },
  "language_info": {
   "codemirror_mode": {
    "name": "ipython",
    "version": 3
   },
   "file_extension": ".py",
   "mimetype": "text/x-python",
   "name": "python",
   "nbconvert_exporter": "python",
   "pygments_lexer": "ipython3",
   "version": "3.6.5"
  }
 },
 "nbformat": 4,
 "nbformat_minor": 1
}
