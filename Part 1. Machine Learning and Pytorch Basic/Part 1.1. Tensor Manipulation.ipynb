{
 "cells": [
  {
   "cell_type": "markdown",
   "metadata": {},
   "source": [
    "# Part 1.1. Tensor Manipulation"
   ]
  },
  {
   "cell_type": "code",
   "execution_count": 1,
   "metadata": {},
   "outputs": [
    {
     "ename": "ModuleNotFoundError",
     "evalue": "No module named 'torch'",
     "output_type": "error",
     "traceback": [
      "\u001b[1;31m---------------------------------------------------------------------------\u001b[0m",
      "\u001b[1;31mModuleNotFoundError\u001b[0m                       Traceback (most recent call last)",
      "\u001b[1;32m<ipython-input-1-eb42ca6e4af3>\u001b[0m in \u001b[0;36m<module>\u001b[1;34m()\u001b[0m\n\u001b[1;32m----> 1\u001b[1;33m \u001b[1;32mimport\u001b[0m \u001b[0mtorch\u001b[0m\u001b[1;33m\u001b[0m\u001b[0m\n\u001b[0m",
      "\u001b[1;31mModuleNotFoundError\u001b[0m: No module named 'torch'"
     ]
    }
   ],
   "source": [
    "import torch"
   ]
  },
  {
   "cell_type": "markdown",
   "metadata": {},
   "source": [
    "## 1. Vector, Matrix and Tensor\n",
    "`1D`를 vector, `2D`를 matrix, `3D`를 tensor라고 부른다. `4D`는 tensor를 위로, `5D`는 `4D`를 옆으로, `6D`는 `5D`를 위로 확장한 것이다.\n",
    "\n",
    "<img src=\"./img/1-1.png\" width=600px>"
   ]
  },
  {
   "cell_type": "markdown",
   "metadata": {},
   "source": [
    "## 2. Pytorch Tensor Shape Convention\n",
    "어떤 모양의 tensor 든 간에 `1D`는 **batch size** 즉, 데이터의 개수를 말한다. 그리고 `2D`부터 해당 데이터가 어떻게 생겼는지를 설명한다. \n",
    "\n",
    "* `2D Tensor` : $|t| = (batch size, dim)$ 데이터 개수가 batch size만큼 있으며, 차원(=벡터의 크기)는 dim이다.\n",
    "* `3D Tensor Vision` : $|t| = (batch size, width, height)$ 데이터 개수가 batch size만큼 있으며, 이미지의 너비가 width, 높이가 height이다.\n",
    "* `3D Tensor NLP` : $|t| = (batch size, length, dim)$ 데이터 개수가 batch size만큼 있으며, 문장의 길이가 length이며, 각 단어의 차원은 dim이다."
   ]
  },
  {
   "cell_type": "markdown",
   "metadata": {},
   "source": [
    "## 3. Pytorch Tensor\n",
    "* `dim` : \n",
    "* `shape` :\n",
    "* `size()` :"
   ]
  }
 ],
 "metadata": {
  "kernelspec": {
   "display_name": "Python 3",
   "language": "python",
   "name": "python3"
  },
  "language_info": {
   "codemirror_mode": {
    "name": "ipython",
    "version": 3
   },
   "file_extension": ".py",
   "mimetype": "text/x-python",
   "name": "python",
   "nbconvert_exporter": "python",
   "pygments_lexer": "ipython3",
   "version": "3.6.5"
  }
 },
 "nbformat": 4,
 "nbformat_minor": 2
}
